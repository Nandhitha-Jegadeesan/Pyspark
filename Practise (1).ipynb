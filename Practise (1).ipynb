{
 "cells": [
  {
   "cell_type": "markdown",
   "metadata": {
    "application/vnd.databricks.v1+cell": {
     "cellMetadata": {},
     "inputWidgets": {},
     "nuid": "90b2ad55-aff0-449e-9a10-dbe9efc7506c",
     "showTitle": false,
     "tableResultSettingsMap": {},
     "title": ""
    }
   },
   "source": [
    "#DataReading"
   ]
  },
  {
   "cell_type": "code",
   "execution_count": 0,
   "metadata": {
    "application/vnd.databricks.v1+cell": {
     "cellMetadata": {
      "byteLimit": 2048000,
      "rowLimit": 10000
     },
     "inputWidgets": {},
     "nuid": "04a538b7-1404-410c-8e10-d293c1078862",
     "showTitle": false,
     "tableResultSettingsMap": {},
     "title": ""
    }
   },
   "outputs": [
    {
     "output_type": "display_data",
     "data": {
      "text/html": [
       "<style scoped>\n",
       "  .table-result-container {\n",
       "    max-height: 300px;\n",
       "    overflow: auto;\n",
       "  }\n",
       "  table, th, td {\n",
       "    border: 1px solid black;\n",
       "    border-collapse: collapse;\n",
       "  }\n",
       "  th, td {\n",
       "    padding: 5px;\n",
       "  }\n",
       "  th {\n",
       "    text-align: left;\n",
       "  }\n",
       "</style><div class='table-result-container'><table class='table-result'><thead style='background-color: white'><tr><th>product_id</th><th>name</th><th>category</th><th>sub_category</th></tr></thead><tbody><tr><td>101</td><td>iPhone 13</td><td>Electronics</td><td>Phone</td></tr><tr><td>102</td><td>MacBook Pro</td><td>Electronics</td><td>Laptop</td></tr><tr><td>103</td><td>T-shirt</td><td>Clothing</td><td>Top</td></tr><tr><td>104</td><td>Sofa</td><td>Furniture</td><td>Seating</td></tr><tr><td>105</td><td>Mixer Grinder</td><td>Kitchenware</td><td>Appliance</td></tr><tr><td>106</td><td>Shoes</td><td>Footwear</td><td>Sneakers</td></tr><tr><td>107</td><td>Samsung TV</td><td>Electronics</td><td>TV</td></tr></tbody></table></div>"
      ]
     },
     "metadata": {
      "application/vnd.databricks.v1+output": {
       "addedWidgets": {},
       "aggData": [],
       "aggError": "",
       "aggOverflow": false,
       "aggSchema": [],
       "aggSeriesLimitReached": false,
       "aggType": "",
       "arguments": {},
       "columnCustomDisplayInfos": {},
       "data": [
        [
         101,
         "iPhone 13",
         "Electronics",
         "Phone"
        ],
        [
         102,
         "MacBook Pro",
         "Electronics",
         "Laptop"
        ],
        [
         103,
         "T-shirt",
         "Clothing",
         "Top"
        ],
        [
         104,
         "Sofa",
         "Furniture",
         "Seating"
        ],
        [
         105,
         "Mixer Grinder",
         "Kitchenware",
         "Appliance"
        ],
        [
         106,
         "Shoes",
         "Footwear",
         "Sneakers"
        ],
        [
         107,
         "Samsung TV",
         "Electronics",
         "TV"
        ]
       ],
       "datasetInfos": [],
       "dbfsResultPath": null,
       "isJsonSchema": true,
       "metadata": {},
       "overflow": false,
       "plotOptions": {
        "customPlotOptions": {},
        "displayType": "table",
        "pivotAggregation": null,
        "pivotColumns": null,
        "xColumns": null,
        "yColumns": null
       },
       "removedWidgets": [],
       "schema": [
        {
         "metadata": "{}",
         "name": "product_id",
         "type": "\"integer\""
        },
        {
         "metadata": "{}",
         "name": "name",
         "type": "\"string\""
        },
        {
         "metadata": "{}",
         "name": "category",
         "type": "\"string\""
        },
        {
         "metadata": "{}",
         "name": "sub_category",
         "type": "\"string\""
        }
       ],
       "type": "table"
      }
     },
     "output_type": "display_data"
    }
   ],
   "source": [
    "df = spark.read.format(\"csv\").option(\"inferSchema\", \"true\").option(\"header\", \"true\").load(\"/Volumes/workspace/navpractise/naveen/navnaa/products.csv\").display()"
   ]
  },
  {
   "cell_type": "markdown",
   "metadata": {
    "application/vnd.databricks.v1+cell": {
     "cellMetadata": {},
     "inputWidgets": {},
     "nuid": "e163a04e-c3cb-43e6-975e-61b3fe48a780",
     "showTitle": false,
     "tableResultSettingsMap": {},
     "title": ""
    }
   },
   "source": [
    "#Schema Definition "
   ]
  },
  {
   "cell_type": "code",
   "execution_count": 0,
   "metadata": {
    "application/vnd.databricks.v1+cell": {
     "cellMetadata": {
      "byteLimit": 2048000,
      "rowLimit": 10000
     },
     "inputWidgets": {},
     "nuid": "24fd519c-43b3-470f-8f10-bee48ac980f5",
     "showTitle": false,
     "tableResultSettingsMap": {},
     "title": ""
    }
   },
   "outputs": [
    {
     "output_type": "stream",
     "name": "stdout",
     "output_type": "stream",
     "text": [
      "root\n |-- product_id: integer (nullable = true)\n |-- name: string (nullable = true)\n |-- category: string (nullable = true)\n |-- sub_category: string (nullable = true)\n\n"
     ]
    }
   ],
   "source": [
    "df = spark.read.format(\"csv\").option(\"inferSchema\", \"true\").option(\"header\", \"true\").load(\"/Volumes/workspace/navpractise/naveen/navnaa/products.csv\")\n",
    "\n",
    "df.printSchema()\n"
   ]
  },
  {
   "cell_type": "markdown",
   "metadata": {
    "application/vnd.databricks.v1+cell": {
     "cellMetadata": {},
     "inputWidgets": {},
     "nuid": "37d82321-a7dc-4646-b869-76aeb0350068",
     "showTitle": false,
     "tableResultSettingsMap": {},
     "title": ""
    }
   },
   "source": [
    "#DDL Schema"
   ]
  },
  {
   "cell_type": "code",
   "execution_count": 0,
   "metadata": {
    "application/vnd.databricks.v1+cell": {
     "cellMetadata": {},
     "inputWidgets": {},
     "nuid": "7124c30f-3d42-4004-860e-8259cc0222e0",
     "showTitle": false,
     "tableResultSettingsMap": {},
     "title": ""
    }
   },
   "outputs": [],
   "source": [
    "my_ddl = '''\n",
    "           product_id: INT,\n",
    "           name: string, \n",
    "           category: string,\n",
    "           sub_category: string,\n",
    "           '''"
   ]
  },
  {
   "cell_type": "code",
   "execution_count": 0,
   "metadata": {
    "application/vnd.databricks.v1+cell": {
     "cellMetadata": {
      "byteLimit": 2048000,
      "rowLimit": 10000
     },
     "inputWidgets": {},
     "nuid": "67c33e11-9a6c-4dc1-9160-843240dff8c1",
     "showTitle": false,
     "tableResultSettingsMap": {},
     "title": ""
    }
   },
   "outputs": [
    {
     "output_type": "display_data",
     "data": {
      "text/html": [
       "<style scoped>\n",
       "  .table-result-container {\n",
       "    max-height: 300px;\n",
       "    overflow: auto;\n",
       "  }\n",
       "  table, th, td {\n",
       "    border: 1px solid black;\n",
       "    border-collapse: collapse;\n",
       "  }\n",
       "  th, td {\n",
       "    padding: 5px;\n",
       "  }\n",
       "  th {\n",
       "    text-align: left;\n",
       "  }\n",
       "</style><div class='table-result-container'><table class='table-result'><thead style='background-color: white'><tr><th>product_id</th><th>name</th><th>category</th><th>sub_category</th></tr></thead><tbody><tr><td>101</td><td>iPhone 13</td><td>Electronics</td><td>Phone</td></tr><tr><td>102</td><td>MacBook Pro</td><td>Electronics</td><td>Laptop</td></tr><tr><td>103</td><td>T-shirt</td><td>Clothing</td><td>Top</td></tr><tr><td>104</td><td>Sofa</td><td>Furniture</td><td>Seating</td></tr><tr><td>105</td><td>Mixer Grinder</td><td>Kitchenware</td><td>Appliance</td></tr><tr><td>106</td><td>Shoes</td><td>Footwear</td><td>Sneakers</td></tr><tr><td>107</td><td>Samsung TV</td><td>Electronics</td><td>TV</td></tr></tbody></table></div>"
      ]
     },
     "metadata": {
      "application/vnd.databricks.v1+output": {
       "addedWidgets": {},
       "aggData": [],
       "aggError": "",
       "aggOverflow": false,
       "aggSchema": [],
       "aggSeriesLimitReached": false,
       "aggType": "",
       "arguments": {},
       "columnCustomDisplayInfos": {},
       "data": [
        [
         "101",
         "iPhone 13",
         "Electronics",
         "Phone"
        ],
        [
         "102",
         "MacBook Pro",
         "Electronics",
         "Laptop"
        ],
        [
         "103",
         "T-shirt",
         "Clothing",
         "Top"
        ],
        [
         "104",
         "Sofa",
         "Furniture",
         "Seating"
        ],
        [
         "105",
         "Mixer Grinder",
         "Kitchenware",
         "Appliance"
        ],
        [
         "106",
         "Shoes",
         "Footwear",
         "Sneakers"
        ],
        [
         "107",
         "Samsung TV",
         "Electronics",
         "TV"
        ]
       ],
       "datasetInfos": [],
       "dbfsResultPath": null,
       "isJsonSchema": true,
       "metadata": {},
       "overflow": false,
       "plotOptions": {
        "customPlotOptions": {},
        "displayType": "table",
        "pivotAggregation": null,
        "pivotColumns": null,
        "xColumns": null,
        "yColumns": null
       },
       "removedWidgets": [],
       "schema": [
        {
         "metadata": "{}",
         "name": "product_id",
         "type": "\"string\""
        },
        {
         "metadata": "{}",
         "name": "name",
         "type": "\"string\""
        },
        {
         "metadata": "{}",
         "name": "category",
         "type": "\"string\""
        },
        {
         "metadata": "{}",
         "name": "sub_category",
         "type": "\"string\""
        }
       ],
       "type": "table"
      }
     },
     "output_type": "display_data"
    }
   ],
   "source": [
    "my_ddl = \"product_id string, name STRING, category STRING, sub_category STRING\"\n",
    "\n",
    "df1 = spark.read.format(\"csv\") \\\n",
    "    .schema(my_ddl) \\\n",
    "    .option(\"header\", \"true\") \\\n",
    "    .load(\"/Volumes/workspace/navpractise/naveen/navnaa/products.csv\")\n",
    "\n",
    "df1.display()\n",
    "df1.printSchema()"
   ]
  },
  {
   "cell_type": "markdown",
   "metadata": {
    "application/vnd.databricks.v1+cell": {
     "cellMetadata": {},
     "inputWidgets": {},
     "nuid": "ecfe0d68-78d7-4287-af1e-04cad68b17ab",
     "showTitle": false,
     "tableResultSettingsMap": {},
     "title": ""
    }
   },
   "source": [
    "#Struct_Type Schema"
   ]
  },
  {
   "cell_type": "code",
   "execution_count": 0,
   "metadata": {
    "application/vnd.databricks.v1+cell": {
     "cellMetadata": {
      "byteLimit": 2048000,
      "rowLimit": 10000
     },
     "inputWidgets": {},
     "nuid": "fca43429-6351-4e61-95e2-9347d44ffbb9",
     "showTitle": false,
     "tableResultSettingsMap": {},
     "title": ""
    }
   },
   "outputs": [
    {
     "output_type": "display_data",
     "data": {
      "text/html": [
       "<style scoped>\n",
       "  .table-result-container {\n",
       "    max-height: 300px;\n",
       "    overflow: auto;\n",
       "  }\n",
       "  table, th, td {\n",
       "    border: 1px solid black;\n",
       "    border-collapse: collapse;\n",
       "  }\n",
       "  th, td {\n",
       "    padding: 5px;\n",
       "  }\n",
       "  th {\n",
       "    text-align: left;\n",
       "  }\n",
       "</style><div class='table-result-container'><table class='table-result'><thead style='background-color: white'><tr><th>product_id</th><th>name</th><th>category</th><th>sub_category</th></tr></thead><tbody><tr><td>101</td><td>iPhone 13</td><td>Electronics</td><td>Phone</td></tr><tr><td>102</td><td>MacBook Pro</td><td>Electronics</td><td>Laptop</td></tr><tr><td>103</td><td>T-shirt</td><td>Clothing</td><td>Top</td></tr><tr><td>104</td><td>Sofa</td><td>Furniture</td><td>Seating</td></tr><tr><td>105</td><td>Mixer Grinder</td><td>Kitchenware</td><td>Appliance</td></tr><tr><td>106</td><td>Shoes</td><td>Footwear</td><td>Sneakers</td></tr><tr><td>107</td><td>Samsung TV</td><td>Electronics</td><td>TV</td></tr></tbody></table></div>"
      ]
     },
     "metadata": {
      "application/vnd.databricks.v1+output": {
       "addedWidgets": {},
       "aggData": [],
       "aggError": "",
       "aggOverflow": false,
       "aggSchema": [],
       "aggSeriesLimitReached": false,
       "aggType": "",
       "arguments": {},
       "columnCustomDisplayInfos": {},
       "data": [
        [
         "101",
         "iPhone 13",
         "Electronics",
         "Phone"
        ],
        [
         "102",
         "MacBook Pro",
         "Electronics",
         "Laptop"
        ],
        [
         "103",
         "T-shirt",
         "Clothing",
         "Top"
        ],
        [
         "104",
         "Sofa",
         "Furniture",
         "Seating"
        ],
        [
         "105",
         "Mixer Grinder",
         "Kitchenware",
         "Appliance"
        ],
        [
         "106",
         "Shoes",
         "Footwear",
         "Sneakers"
        ],
        [
         "107",
         "Samsung TV",
         "Electronics",
         "TV"
        ]
       ],
       "datasetInfos": [],
       "dbfsResultPath": null,
       "isJsonSchema": true,
       "metadata": {},
       "overflow": false,
       "plotOptions": {
        "customPlotOptions": {},
        "displayType": "table",
        "pivotAggregation": null,
        "pivotColumns": null,
        "xColumns": null,
        "yColumns": null
       },
       "removedWidgets": [],
       "schema": [
        {
         "metadata": "{}",
         "name": "product_id",
         "type": "\"string\""
        },
        {
         "metadata": "{}",
         "name": "name",
         "type": "\"string\""
        },
        {
         "metadata": "{}",
         "name": "category",
         "type": "\"string\""
        },
        {
         "metadata": "{}",
         "name": "sub_category",
         "type": "\"string\""
        }
       ],
       "type": "table"
      }
     },
     "output_type": "display_data"
    }
   ],
   "source": [
    "from pyspark.sql.types import *\n",
    "from pyspark.sql.functions import *\n",
    "\n",
    "my_struct = StructType([\n",
    "    StructField(\"product_id\", StringType(), True),\n",
    "    StructField(\"name\", StringType(), True),\n",
    "    StructField(\"category\", StringType(), True),\n",
    "    StructField(\"sub_category\", StringType(), True)\n",
    "])\n",
    "\n",
    "df1 = spark.read.format(\"csv\") \\\n",
    "    .schema(my_struct) \\\n",
    "    .option(\"header\", \"true\") \\\n",
    "    .load(\"/Volumes/workspace/navpractise/naveen/navnaa/products.csv\")\n",
    "\n",
    "df1.display()\n"
   ]
  },
  {
   "cell_type": "markdown",
   "metadata": {
    "application/vnd.databricks.v1+cell": {
     "cellMetadata": {},
     "inputWidgets": {},
     "nuid": "5944f4f4-ad0f-47b1-9166-f5029a300d84",
     "showTitle": false,
     "tableResultSettingsMap": {},
     "title": ""
    }
   },
   "source": [
    "#Select"
   ]
  },
  {
   "cell_type": "code",
   "execution_count": 0,
   "metadata": {
    "application/vnd.databricks.v1+cell": {
     "cellMetadata": {
      "byteLimit": 2048000,
      "rowLimit": 10000
     },
     "inputWidgets": {},
     "nuid": "9bf8e270-ad34-40d8-b28d-8185ddf99d86",
     "showTitle": false,
     "tableResultSettingsMap": {},
     "title": ""
    }
   },
   "outputs": [
    {
     "output_type": "display_data",
     "data": {
      "text/html": [
       "<style scoped>\n",
       "  .table-result-container {\n",
       "    max-height: 300px;\n",
       "    overflow: auto;\n",
       "  }\n",
       "  table, th, td {\n",
       "    border: 1px solid black;\n",
       "    border-collapse: collapse;\n",
       "  }\n",
       "  th, td {\n",
       "    padding: 5px;\n",
       "  }\n",
       "  th {\n",
       "    text-align: left;\n",
       "  }\n",
       "</style><div class='table-result-container'><table class='table-result'><thead style='background-color: white'><tr><th>product_id</th><th>name</th></tr></thead><tbody><tr><td>101</td><td>iPhone 13</td></tr><tr><td>102</td><td>MacBook Pro</td></tr><tr><td>103</td><td>T-shirt</td></tr><tr><td>104</td><td>Sofa</td></tr><tr><td>105</td><td>Mixer Grinder</td></tr><tr><td>106</td><td>Shoes</td></tr><tr><td>107</td><td>Samsung TV</td></tr></tbody></table></div>"
      ]
     },
     "metadata": {
      "application/vnd.databricks.v1+output": {
       "addedWidgets": {},
       "aggData": [],
       "aggError": "",
       "aggOverflow": false,
       "aggSchema": [],
       "aggSeriesLimitReached": false,
       "aggType": "",
       "arguments": {},
       "columnCustomDisplayInfos": {},
       "data": [
        [
         101,
         "iPhone 13"
        ],
        [
         102,
         "MacBook Pro"
        ],
        [
         103,
         "T-shirt"
        ],
        [
         104,
         "Sofa"
        ],
        [
         105,
         "Mixer Grinder"
        ],
        [
         106,
         "Shoes"
        ],
        [
         107,
         "Samsung TV"
        ]
       ],
       "datasetInfos": [],
       "dbfsResultPath": null,
       "isJsonSchema": true,
       "metadata": {},
       "overflow": false,
       "plotOptions": {
        "customPlotOptions": {},
        "displayType": "table",
        "pivotAggregation": null,
        "pivotColumns": null,
        "xColumns": null,
        "yColumns": null
       },
       "removedWidgets": [],
       "schema": [
        {
         "metadata": "{}",
         "name": "product_id",
         "type": "\"integer\""
        },
        {
         "metadata": "{}",
         "name": "name",
         "type": "\"string\""
        }
       ],
       "type": "table"
      }
     },
     "output_type": "display_data"
    }
   ],
   "source": [
    "df = spark.read.format(\"csv\").option(\"inferSchema\", \"true\").option(\"header\", \"true\").load(\"/Volumes/workspace/navpractise/naveen/navnaa/products.csv\")\n",
    "\n",
    "df_sel = df.select(\"product_id\",\"name\").display()\n"
   ]
  },
  {
   "cell_type": "markdown",
   "metadata": {
    "application/vnd.databricks.v1+cell": {
     "cellMetadata": {},
     "inputWidgets": {},
     "nuid": "5e2626f3-13e2-40a7-a06b-06de56bfeeb9",
     "showTitle": false,
     "tableResultSettingsMap": {},
     "title": ""
    }
   },
   "source": [
    "#Alias"
   ]
  },
  {
   "cell_type": "code",
   "execution_count": 0,
   "metadata": {
    "application/vnd.databricks.v1+cell": {
     "cellMetadata": {
      "byteLimit": 2048000,
      "rowLimit": 10000
     },
     "inputWidgets": {},
     "nuid": "ba518dad-98c8-4e70-958c-16a5c588444f",
     "showTitle": false,
     "tableResultSettingsMap": {},
     "title": ""
    }
   },
   "outputs": [
    {
     "output_type": "display_data",
     "data": {
      "text/html": [
       "<style scoped>\n",
       "  .table-result-container {\n",
       "    max-height: 300px;\n",
       "    overflow: auto;\n",
       "  }\n",
       "  table, th, td {\n",
       "    border: 1px solid black;\n",
       "    border-collapse: collapse;\n",
       "  }\n",
       "  th, td {\n",
       "    padding: 5px;\n",
       "  }\n",
       "  th {\n",
       "    text-align: left;\n",
       "  }\n",
       "</style><div class='table-result-container'><table class='table-result'><thead style='background-color: white'><tr><th>p_id</th></tr></thead><tbody><tr><td>101</td></tr><tr><td>102</td></tr><tr><td>103</td></tr><tr><td>104</td></tr><tr><td>105</td></tr><tr><td>106</td></tr><tr><td>107</td></tr></tbody></table></div>"
      ]
     },
     "metadata": {
      "application/vnd.databricks.v1+output": {
       "addedWidgets": {},
       "aggData": [],
       "aggError": "",
       "aggOverflow": false,
       "aggSchema": [],
       "aggSeriesLimitReached": false,
       "aggType": "",
       "arguments": {},
       "columnCustomDisplayInfos": {},
       "data": [
        [
         101
        ],
        [
         102
        ],
        [
         103
        ],
        [
         104
        ],
        [
         105
        ],
        [
         106
        ],
        [
         107
        ]
       ],
       "datasetInfos": [],
       "dbfsResultPath": null,
       "isJsonSchema": true,
       "metadata": {},
       "overflow": false,
       "plotOptions": {
        "customPlotOptions": {},
        "displayType": "table",
        "pivotAggregation": null,
        "pivotColumns": null,
        "xColumns": null,
        "yColumns": null
       },
       "removedWidgets": [],
       "schema": [
        {
         "metadata": "{}",
         "name": "p_id",
         "type": "\"integer\""
        }
       ],
       "type": "table"
      }
     },
     "output_type": "display_data"
    }
   ],
   "source": [
    "from pyspark.sql.functions import col\n",
    "\n",
    "df = spark.read.format(\"csv\") \\\n",
    "    .option(\"inferSchema\", \"true\") \\\n",
    "    .option(\"header\", \"true\") \\\n",
    "    .load(\"/Volumes/workspace/navpractise/naveen/navnaa/products.csv\")\n",
    "\n",
    "df_alias = df.select(col(\"product_id\").alias(\"p_id\"))\n",
    "df_alias.display()"
   ]
  },
  {
   "cell_type": "markdown",
   "metadata": {
    "application/vnd.databricks.v1+cell": {
     "cellMetadata": {},
     "inputWidgets": {},
     "nuid": "be3c1612-28a9-4be3-b95f-ef3b87604bca",
     "showTitle": false,
     "tableResultSettingsMap": {},
     "title": ""
    }
   },
   "source": [
    "#Filter"
   ]
  },
  {
   "cell_type": "code",
   "execution_count": 0,
   "metadata": {
    "application/vnd.databricks.v1+cell": {
     "cellMetadata": {
      "byteLimit": 2048000,
      "rowLimit": 10000
     },
     "inputWidgets": {},
     "nuid": "c8fd159e-049b-40e0-ae1c-2d8263faa076",
     "showTitle": false,
     "tableResultSettingsMap": {},
     "title": ""
    }
   },
   "outputs": [
    {
     "output_type": "display_data",
     "data": {
      "text/html": [
       "<style scoped>\n",
       "  .table-result-container {\n",
       "    max-height: 300px;\n",
       "    overflow: auto;\n",
       "  }\n",
       "  table, th, td {\n",
       "    border: 1px solid black;\n",
       "    border-collapse: collapse;\n",
       "  }\n",
       "  th, td {\n",
       "    padding: 5px;\n",
       "  }\n",
       "  th {\n",
       "    text-align: left;\n",
       "  }\n",
       "</style><div class='table-result-container'><table class='table-result'><thead style='background-color: white'><tr><th>product_id</th><th>name</th><th>category</th><th>sub_category</th></tr></thead><tbody><tr><td>104</td><td>Sofa</td><td>Furniture</td><td>Seating</td></tr></tbody></table></div>"
      ]
     },
     "metadata": {
      "application/vnd.databricks.v1+output": {
       "addedWidgets": {},
       "aggData": [],
       "aggError": "",
       "aggOverflow": false,
       "aggSchema": [],
       "aggSeriesLimitReached": false,
       "aggType": "",
       "arguments": {},
       "columnCustomDisplayInfos": {},
       "data": [
        [
         104,
         "Sofa",
         "Furniture",
         "Seating"
        ]
       ],
       "datasetInfos": [],
       "dbfsResultPath": null,
       "isJsonSchema": true,
       "metadata": {},
       "overflow": false,
       "plotOptions": {
        "customPlotOptions": {},
        "displayType": "table",
        "pivotAggregation": null,
        "pivotColumns": null,
        "xColumns": null,
        "yColumns": null
       },
       "removedWidgets": [],
       "schema": [
        {
         "metadata": "{}",
         "name": "product_id",
         "type": "\"integer\""
        },
        {
         "metadata": "{}",
         "name": "name",
         "type": "\"string\""
        },
        {
         "metadata": "{}",
         "name": "category",
         "type": "\"string\""
        },
        {
         "metadata": "{}",
         "name": "sub_category",
         "type": "\"string\""
        }
       ],
       "type": "table"
      }
     },
     "output_type": "display_data"
    }
   ],
   "source": [
    "from pyspark.sql.functions import col\n",
    "\n",
    "df = spark.read.format(\"csv\") \\\n",
    "    .option(\"inferSchema\", \"true\") \\\n",
    "    .option(\"header\", \"true\") \\\n",
    "    .load(\"/Volumes/workspace/navpractise/naveen/navnaa/products.csv\")\n",
    "\n",
    "fil = df.filter((col(\"name\")==\"Sofa\") & (col(\"category\")==\"Furniture\")).display()"
   ]
  },
  {
   "cell_type": "markdown",
   "metadata": {
    "application/vnd.databricks.v1+cell": {
     "cellMetadata": {},
     "inputWidgets": {},
     "nuid": "5df14733-41c6-48c0-ba07-e401889b6b46",
     "showTitle": false,
     "tableResultSettingsMap": {},
     "title": ""
    }
   },
   "source": [
    "#IsNull and isIn"
   ]
  },
  {
   "cell_type": "code",
   "execution_count": 0,
   "metadata": {
    "application/vnd.databricks.v1+cell": {
     "cellMetadata": {
      "byteLimit": 2048000,
      "rowLimit": 10000
     },
     "inputWidgets": {},
     "nuid": "6582e202-37c7-4515-ad82-5dfd3c29b8c2",
     "showTitle": false,
     "tableResultSettingsMap": {},
     "title": ""
    }
   },
   "outputs": [
    {
     "output_type": "display_data",
     "data": {
      "text/html": [
       "<style scoped>\n",
       "  .table-result-container {\n",
       "    max-height: 300px;\n",
       "    overflow: auto;\n",
       "  }\n",
       "  table, th, td {\n",
       "    border: 1px solid black;\n",
       "    border-collapse: collapse;\n",
       "  }\n",
       "  th, td {\n",
       "    padding: 5px;\n",
       "  }\n",
       "  th {\n",
       "    text-align: left;\n",
       "  }\n",
       "</style><div class='table-result-container'><table class='table-result'><thead style='background-color: white'><tr><th>product_id</th><th>name</th><th>category</th><th>sub_category</th></tr></thead><tbody></tbody></table></div>"
      ]
     },
     "metadata": {
      "application/vnd.databricks.v1+output": {
       "addedWidgets": {},
       "aggData": [],
       "aggError": "",
       "aggOverflow": false,
       "aggSchema": [],
       "aggSeriesLimitReached": false,
       "aggType": "",
       "arguments": {},
       "columnCustomDisplayInfos": {},
       "data": [],
       "datasetInfos": [],
       "dbfsResultPath": null,
       "isJsonSchema": true,
       "metadata": {},
       "overflow": false,
       "plotOptions": {
        "customPlotOptions": {},
        "displayType": "table",
        "pivotAggregation": null,
        "pivotColumns": null,
        "xColumns": null,
        "yColumns": null
       },
       "removedWidgets": [],
       "schema": [
        {
         "metadata": "{}",
         "name": "product_id",
         "type": "\"integer\""
        },
        {
         "metadata": "{}",
         "name": "name",
         "type": "\"string\""
        },
        {
         "metadata": "{}",
         "name": "category",
         "type": "\"string\""
        },
        {
         "metadata": "{}",
         "name": "sub_category",
         "type": "\"string\""
        }
       ],
       "type": "table"
      }
     },
     "output_type": "display_data"
    }
   ],
   "source": [
    "from pyspark.sql.functions import col\n",
    "\n",
    "df = spark.read.format(\"csv\") \\\n",
    "    .option(\"inferSchema\", \"true\") \\\n",
    "    .option(\"header\", \"true\") \\\n",
    "    .load(\"/Volumes/workspace/navpractise/naveen/navnaa/products.csv\")\n",
    "fil = df.filter(\n",
    "    col(\"name\").isNull() & col(\"category\").isin([\"Electronics\", \"Furniture\"])\n",
    ")\n",
    "display(fil)"
   ]
  },
  {
   "cell_type": "markdown",
   "metadata": {
    "application/vnd.databricks.v1+cell": {
     "cellMetadata": {},
     "inputWidgets": {},
     "nuid": "36f80240-85c2-45bd-8585-8a7299fd22ff",
     "showTitle": false,
     "tableResultSettingsMap": {},
     "title": ""
    }
   },
   "source": [
    "#withColumnRenamed"
   ]
  },
  {
   "cell_type": "code",
   "execution_count": 0,
   "metadata": {
    "application/vnd.databricks.v1+cell": {
     "cellMetadata": {
      "byteLimit": 2048000,
      "rowLimit": 10000
     },
     "inputWidgets": {},
     "nuid": "21c6e99f-30aa-41dd-bb0e-1a7dfc9d58d5",
     "showTitle": false,
     "tableResultSettingsMap": {},
     "title": ""
    }
   },
   "outputs": [
    {
     "output_type": "display_data",
     "data": {
      "text/html": [
       "<style scoped>\n",
       "  .table-result-container {\n",
       "    max-height: 300px;\n",
       "    overflow: auto;\n",
       "  }\n",
       "  table, th, td {\n",
       "    border: 1px solid black;\n",
       "    border-collapse: collapse;\n",
       "  }\n",
       "  th, td {\n",
       "    padding: 5px;\n",
       "  }\n",
       "  th {\n",
       "    text-align: left;\n",
       "  }\n",
       "</style><div class='table-result-container'><table class='table-result'><thead style='background-color: white'><tr><th>p_id</th><th>name</th><th>category</th><th>sub_category</th></tr></thead><tbody><tr><td>101</td><td>iPhone 13</td><td>Electronics</td><td>Phone</td></tr><tr><td>102</td><td>MacBook Pro</td><td>Electronics</td><td>Laptop</td></tr><tr><td>103</td><td>T-shirt</td><td>Clothing</td><td>Top</td></tr><tr><td>104</td><td>Sofa</td><td>Furniture</td><td>Seating</td></tr><tr><td>105</td><td>Mixer Grinder</td><td>Kitchenware</td><td>Appliance</td></tr><tr><td>106</td><td>Shoes</td><td>Footwear</td><td>Sneakers</td></tr><tr><td>107</td><td>Samsung TV</td><td>Electronics</td><td>TV</td></tr></tbody></table></div>"
      ]
     },
     "metadata": {
      "application/vnd.databricks.v1+output": {
       "addedWidgets": {},
       "aggData": [],
       "aggError": "",
       "aggOverflow": false,
       "aggSchema": [],
       "aggSeriesLimitReached": false,
       "aggType": "",
       "arguments": {},
       "columnCustomDisplayInfos": {},
       "data": [
        [
         101,
         "iPhone 13",
         "Electronics",
         "Phone"
        ],
        [
         102,
         "MacBook Pro",
         "Electronics",
         "Laptop"
        ],
        [
         103,
         "T-shirt",
         "Clothing",
         "Top"
        ],
        [
         104,
         "Sofa",
         "Furniture",
         "Seating"
        ],
        [
         105,
         "Mixer Grinder",
         "Kitchenware",
         "Appliance"
        ],
        [
         106,
         "Shoes",
         "Footwear",
         "Sneakers"
        ],
        [
         107,
         "Samsung TV",
         "Electronics",
         "TV"
        ]
       ],
       "datasetInfos": [],
       "dbfsResultPath": null,
       "isJsonSchema": true,
       "metadata": {},
       "overflow": false,
       "plotOptions": {
        "customPlotOptions": {},
        "displayType": "table",
        "pivotAggregation": null,
        "pivotColumns": null,
        "xColumns": null,
        "yColumns": null
       },
       "removedWidgets": [],
       "schema": [
        {
         "metadata": "{}",
         "name": "p_id",
         "type": "\"integer\""
        },
        {
         "metadata": "{}",
         "name": "name",
         "type": "\"string\""
        },
        {
         "metadata": "{}",
         "name": "category",
         "type": "\"string\""
        },
        {
         "metadata": "{}",
         "name": "sub_category",
         "type": "\"string\""
        }
       ],
       "type": "table"
      }
     },
     "output_type": "display_data"
    }
   ],
   "source": [
    "from pyspark.sql.functions import col\n",
    "\n",
    "df = spark.read.format(\"csv\") \\\n",
    "    .option(\"inferSchema\", \"true\") \\\n",
    "    .option(\"header\", \"true\") \\\n",
    "    .load(\"/Volumes/workspace/navpractise/naveen/navnaa/products.csv\")\n",
    "\n",
    "df.withColumnRenamed(\"product_id\",\"p_id\").display()"
   ]
  },
  {
   "cell_type": "markdown",
   "metadata": {
    "application/vnd.databricks.v1+cell": {
     "cellMetadata": {},
     "inputWidgets": {},
     "nuid": "4c193e67-a03e-45b7-9149-78dab7973620",
     "showTitle": false,
     "tableResultSettingsMap": {},
     "title": ""
    }
   },
   "source": [
    "#withColumn"
   ]
  },
  {
   "cell_type": "markdown",
   "metadata": {
    "application/vnd.databricks.v1+cell": {
     "cellMetadata": {},
     "inputWidgets": {},
     "nuid": "39446ca3-58e0-4d40-8852-0b1a1dd0924e",
     "showTitle": false,
     "tableResultSettingsMap": {},
     "title": ""
    }
   },
   "source": [
    "#Scenario 1 : adding new column using lit()"
   ]
  },
  {
   "cell_type": "code",
   "execution_count": 0,
   "metadata": {
    "application/vnd.databricks.v1+cell": {
     "cellMetadata": {
      "byteLimit": 2048000,
      "rowLimit": 10000
     },
     "inputWidgets": {},
     "nuid": "a20dc174-18e7-4f1e-81cc-8e38b8abbb19",
     "showTitle": false,
     "tableResultSettingsMap": {},
     "title": ""
    }
   },
   "outputs": [
    {
     "output_type": "display_data",
     "data": {
      "text/html": [
       "<style scoped>\n",
       "  .table-result-container {\n",
       "    max-height: 300px;\n",
       "    overflow: auto;\n",
       "  }\n",
       "  table, th, td {\n",
       "    border: 1px solid black;\n",
       "    border-collapse: collapse;\n",
       "  }\n",
       "  th, td {\n",
       "    padding: 5px;\n",
       "  }\n",
       "  th {\n",
       "    text-align: left;\n",
       "  }\n",
       "</style><div class='table-result-container'><table class='table-result'><thead style='background-color: white'><tr><th>product_id</th><th>name</th><th>category</th><th>sub_category</th><th>flag</th></tr></thead><tbody><tr><td>101</td><td>iPhone 13</td><td>Electronics</td><td>Phone</td><td>new</td></tr><tr><td>102</td><td>MacBook Pro</td><td>Electronics</td><td>Laptop</td><td>new</td></tr><tr><td>103</td><td>T-shirt</td><td>Clothing</td><td>Top</td><td>new</td></tr><tr><td>104</td><td>Sofa</td><td>Furniture</td><td>Seating</td><td>new</td></tr><tr><td>105</td><td>Mixer Grinder</td><td>Kitchenware</td><td>Appliance</td><td>new</td></tr><tr><td>106</td><td>Shoes</td><td>Footwear</td><td>Sneakers</td><td>new</td></tr><tr><td>107</td><td>Samsung TV</td><td>Electronics</td><td>TV</td><td>new</td></tr></tbody></table></div>"
      ]
     },
     "metadata": {
      "application/vnd.databricks.v1+output": {
       "addedWidgets": {},
       "aggData": [],
       "aggError": "",
       "aggOverflow": false,
       "aggSchema": [],
       "aggSeriesLimitReached": false,
       "aggType": "",
       "arguments": {},
       "columnCustomDisplayInfos": {},
       "data": [
        [
         101,
         "iPhone 13",
         "Electronics",
         "Phone",
         "new"
        ],
        [
         102,
         "MacBook Pro",
         "Electronics",
         "Laptop",
         "new"
        ],
        [
         103,
         "T-shirt",
         "Clothing",
         "Top",
         "new"
        ],
        [
         104,
         "Sofa",
         "Furniture",
         "Seating",
         "new"
        ],
        [
         105,
         "Mixer Grinder",
         "Kitchenware",
         "Appliance",
         "new"
        ],
        [
         106,
         "Shoes",
         "Footwear",
         "Sneakers",
         "new"
        ],
        [
         107,
         "Samsung TV",
         "Electronics",
         "TV",
         "new"
        ]
       ],
       "datasetInfos": [],
       "dbfsResultPath": null,
       "isJsonSchema": true,
       "metadata": {},
       "overflow": false,
       "plotOptions": {
        "customPlotOptions": {},
        "displayType": "table",
        "pivotAggregation": null,
        "pivotColumns": null,
        "xColumns": null,
        "yColumns": null
       },
       "removedWidgets": [],
       "schema": [
        {
         "metadata": "{}",
         "name": "product_id",
         "type": "\"integer\""
        },
        {
         "metadata": "{}",
         "name": "name",
         "type": "\"string\""
        },
        {
         "metadata": "{}",
         "name": "category",
         "type": "\"string\""
        },
        {
         "metadata": "{}",
         "name": "sub_category",
         "type": "\"string\""
        },
        {
         "metadata": "{}",
         "name": "flag",
         "type": "\"string\""
        }
       ],
       "type": "table"
      }
     },
     "output_type": "display_data"
    }
   ],
   "source": [
    "from pyspark.sql.functions import *\n",
    "\n",
    "df = spark.read.format(\"csv\") \\\n",
    "    .option(\"inferSchema\", \"true\") \\\n",
    "    .option(\"header\", \"true\") \\\n",
    "    .load(\"/Volumes/workspace/navpractise/naveen/navnaa/products.csv\")\n",
    "\n",
    "df= df.withColumn(\"flag\", lit(\"new\"))\n",
    "df.display()"
   ]
  },
  {
   "cell_type": "markdown",
   "metadata": {
    "application/vnd.databricks.v1+cell": {
     "cellMetadata": {},
     "inputWidgets": {},
     "nuid": "c188576a-6dd0-4bc6-95ce-24d2523ecb74",
     "showTitle": false,
     "tableResultSettingsMap": {},
     "title": ""
    }
   },
   "source": [
    "#Scenario 2 modify existing column"
   ]
  },
  {
   "cell_type": "code",
   "execution_count": 0,
   "metadata": {
    "application/vnd.databricks.v1+cell": {
     "cellMetadata": {
      "byteLimit": 2048000,
      "rowLimit": 10000
     },
     "inputWidgets": {},
     "nuid": "bbdbd7a9-e86a-4aee-86e0-62f4f9c135d8",
     "showTitle": false,
     "tableResultSettingsMap": {},
     "title": ""
    }
   },
   "outputs": [
    {
     "output_type": "display_data",
     "data": {
      "text/html": [
       "<style scoped>\n",
       "  .table-result-container {\n",
       "    max-height: 300px;\n",
       "    overflow: auto;\n",
       "  }\n",
       "  table, th, td {\n",
       "    border: 1px solid black;\n",
       "    border-collapse: collapse;\n",
       "  }\n",
       "  th, td {\n",
       "    padding: 5px;\n",
       "  }\n",
       "  th {\n",
       "    text-align: left;\n",
       "  }\n",
       "</style><div class='table-result-container'><table class='table-result'><thead style='background-color: white'><tr><th>product_id</th><th>name</th><th>category</th><th>sub_category</th><th>adding</th></tr></thead><tbody><tr><td>101</td><td>iPhone 13</td><td>Electronics</td><td>Phone</td><td>101iPhone 13</td></tr><tr><td>102</td><td>MacBook Pro</td><td>Electronics</td><td>Laptop</td><td>102MacBook Pro</td></tr><tr><td>103</td><td>T-shirt</td><td>Clothing</td><td>Top</td><td>103T-shirt</td></tr><tr><td>104</td><td>Sofa</td><td>Furniture</td><td>Seating</td><td>104Sofa</td></tr><tr><td>105</td><td>Mixer Grinder</td><td>Kitchenware</td><td>Appliance</td><td>105Mixer Grinder</td></tr><tr><td>106</td><td>Shoes</td><td>Footwear</td><td>Sneakers</td><td>106Shoes</td></tr><tr><td>107</td><td>Samsung TV</td><td>Electronics</td><td>TV</td><td>107Samsung TV</td></tr></tbody></table></div>"
      ]
     },
     "metadata": {
      "application/vnd.databricks.v1+output": {
       "addedWidgets": {},
       "aggData": [],
       "aggError": "",
       "aggOverflow": false,
       "aggSchema": [],
       "aggSeriesLimitReached": false,
       "aggType": "",
       "arguments": {},
       "columnCustomDisplayInfos": {},
       "data": [
        [
         101,
         "iPhone 13",
         "Electronics",
         "Phone",
         "101iPhone 13"
        ],
        [
         102,
         "MacBook Pro",
         "Electronics",
         "Laptop",
         "102MacBook Pro"
        ],
        [
         103,
         "T-shirt",
         "Clothing",
         "Top",
         "103T-shirt"
        ],
        [
         104,
         "Sofa",
         "Furniture",
         "Seating",
         "104Sofa"
        ],
        [
         105,
         "Mixer Grinder",
         "Kitchenware",
         "Appliance",
         "105Mixer Grinder"
        ],
        [
         106,
         "Shoes",
         "Footwear",
         "Sneakers",
         "106Shoes"
        ],
        [
         107,
         "Samsung TV",
         "Electronics",
         "TV",
         "107Samsung TV"
        ]
       ],
       "datasetInfos": [],
       "dbfsResultPath": null,
       "isJsonSchema": true,
       "metadata": {},
       "overflow": false,
       "plotOptions": {
        "customPlotOptions": {},
        "displayType": "table",
        "pivotAggregation": null,
        "pivotColumns": null,
        "xColumns": null,
        "yColumns": null
       },
       "removedWidgets": [],
       "schema": [
        {
         "metadata": "{}",
         "name": "product_id",
         "type": "\"integer\""
        },
        {
         "metadata": "{}",
         "name": "name",
         "type": "\"string\""
        },
        {
         "metadata": "{}",
         "name": "category",
         "type": "\"string\""
        },
        {
         "metadata": "{}",
         "name": "sub_category",
         "type": "\"string\""
        },
        {
         "metadata": "{}",
         "name": "adding",
         "type": "\"string\""
        }
       ],
       "type": "table"
      }
     },
     "output_type": "display_data"
    }
   ],
   "source": [
    "from pyspark.sql.functions import *\n",
    "\n",
    "df = spark.read.format(\"csv\") \\\n",
    "    .option(\"inferSchema\", \"true\") \\\n",
    "    .option(\"header\", \"true\") \\\n",
    "    .load(\"/Volumes/workspace/navpractise/naveen/navnaa/products.csv\")\n",
    "\n",
    "df = df.withColumn(\"adding\", concat(\"product_id\", \"name\"))\n",
    "df.display()"
   ]
  },
  {
   "cell_type": "markdown",
   "metadata": {
    "application/vnd.databricks.v1+cell": {
     "cellMetadata": {},
     "inputWidgets": {},
     "nuid": "86eb483e-de53-40c4-be1f-0e255862afc7",
     "showTitle": false,
     "tableResultSettingsMap": {},
     "title": ""
    }
   },
   "source": [
    "#Scenario 3 : Replace the content inside the column regexp_replace()"
   ]
  },
  {
   "cell_type": "code",
   "execution_count": 0,
   "metadata": {
    "application/vnd.databricks.v1+cell": {
     "cellMetadata": {
      "byteLimit": 2048000,
      "rowLimit": 10000
     },
     "inputWidgets": {},
     "nuid": "a730e8dc-e057-4936-a0ae-f8aa0af01d4a",
     "showTitle": false,
     "tableResultSettingsMap": {},
     "title": ""
    }
   },
   "outputs": [
    {
     "output_type": "stream",
     "name": "stdout",
     "output_type": "stream",
     "text": [
      "+----------+-------------+-----------+------------+\n|product_id|         name|   category|sub_category|\n+----------+-------------+-----------+------------+\n|       101|    iPhone 13|       Elec|       Phone|\n|       102|  MacBook Pro|       Elec|      Laptop|\n|       103|      T-shirt|      Cloth|         Top|\n|       104|         Sofa|  Furniture|     Seating|\n|       105|Mixer Grinder|Kitchenware|   Appliance|\n|       106|        Shoes|   Footwear|    Sneakers|\n|       107|   Samsung TV|       Elec|          TV|\n+----------+-------------+-----------+------------+\n\nroot\n |-- product_id: integer (nullable = true)\n |-- name: string (nullable = true)\n |-- category: string (nullable = true)\n |-- sub_category: string (nullable = true)\n\n"
     ]
    }
   ],
   "source": [
    "from pyspark.sql.functions import *\n",
    "\n",
    "df = spark.read.format(\"csv\") \\\n",
    "    .option(\"inferSchema\", \"true\") \\\n",
    "    .option(\"header\", \"true\") \\\n",
    "    .load(\"/Volumes/workspace/navpractise/naveen/navnaa/products.csv\")\n",
    "\n",
    "transformed_df = df.withColumn(\n",
    "    \"category\",\n",
    "    regexp_replace(regexp_replace(col(\"category\"), \"Electronics\", \"Elec\"), \"Clothing\", \"Cloth\")\n",
    ")\n",
    "\n",
    "transformed_df.show()\n",
    "transformed_df.printSchema()"
   ]
  },
  {
   "cell_type": "markdown",
   "metadata": {
    "application/vnd.databricks.v1+cell": {
     "cellMetadata": {},
     "inputWidgets": {},
     "nuid": "278bf821-60af-41ed-9500-fc4bb4b1b5ca",
     "showTitle": false,
     "tableResultSettingsMap": {},
     "title": ""
    }
   },
   "source": [
    "#Type Casting"
   ]
  },
  {
   "cell_type": "code",
   "execution_count": 0,
   "metadata": {
    "application/vnd.databricks.v1+cell": {
     "cellMetadata": {
      "byteLimit": 2048000,
      "rowLimit": 10000
     },
     "inputWidgets": {},
     "nuid": "8904c2ad-a9f5-4732-b67d-d627da3f33c8",
     "showTitle": false,
     "tableResultSettingsMap": {},
     "title": ""
    }
   },
   "outputs": [
    {
     "output_type": "display_data",
     "data": {
      "text/html": [
       "<style scoped>\n",
       "  .table-result-container {\n",
       "    max-height: 300px;\n",
       "    overflow: auto;\n",
       "  }\n",
       "  table, th, td {\n",
       "    border: 1px solid black;\n",
       "    border-collapse: collapse;\n",
       "  }\n",
       "  th, td {\n",
       "    padding: 5px;\n",
       "  }\n",
       "  th {\n",
       "    text-align: left;\n",
       "  }\n",
       "</style><div class='table-result-container'><table class='table-result'><thead style='background-color: white'><tr><th>product_id</th><th>name</th><th>category</th><th>sub_category</th></tr></thead><tbody><tr><td>101</td><td>iPhone 13</td><td>Electronics</td><td>Phone</td></tr><tr><td>102</td><td>MacBook Pro</td><td>Electronics</td><td>Laptop</td></tr><tr><td>103</td><td>T-shirt</td><td>Clothing</td><td>Top</td></tr><tr><td>104</td><td>Sofa</td><td>Furniture</td><td>Seating</td></tr><tr><td>105</td><td>Mixer Grinder</td><td>Kitchenware</td><td>Appliance</td></tr><tr><td>106</td><td>Shoes</td><td>Footwear</td><td>Sneakers</td></tr><tr><td>107</td><td>Samsung TV</td><td>Electronics</td><td>TV</td></tr></tbody></table></div>"
      ]
     },
     "metadata": {
      "application/vnd.databricks.v1+output": {
       "addedWidgets": {},
       "aggData": [],
       "aggError": "",
       "aggOverflow": false,
       "aggSchema": [],
       "aggSeriesLimitReached": false,
       "aggType": "",
       "arguments": {},
       "columnCustomDisplayInfos": {},
       "data": [
        [
         "101",
         "iPhone 13",
         "Electronics",
         "Phone"
        ],
        [
         "102",
         "MacBook Pro",
         "Electronics",
         "Laptop"
        ],
        [
         "103",
         "T-shirt",
         "Clothing",
         "Top"
        ],
        [
         "104",
         "Sofa",
         "Furniture",
         "Seating"
        ],
        [
         "105",
         "Mixer Grinder",
         "Kitchenware",
         "Appliance"
        ],
        [
         "106",
         "Shoes",
         "Footwear",
         "Sneakers"
        ],
        [
         "107",
         "Samsung TV",
         "Electronics",
         "TV"
        ]
       ],
       "datasetInfos": [],
       "dbfsResultPath": null,
       "isJsonSchema": true,
       "metadata": {},
       "overflow": false,
       "plotOptions": {
        "customPlotOptions": {},
        "displayType": "table",
        "pivotAggregation": null,
        "pivotColumns": null,
        "xColumns": null,
        "yColumns": null
       },
       "removedWidgets": [],
       "schema": [
        {
         "metadata": "{}",
         "name": "product_id",
         "type": "\"string\""
        },
        {
         "metadata": "{}",
         "name": "name",
         "type": "\"string\""
        },
        {
         "metadata": "{}",
         "name": "category",
         "type": "\"string\""
        },
        {
         "metadata": "{}",
         "name": "sub_category",
         "type": "\"string\""
        }
       ],
       "type": "table"
      }
     },
     "output_type": "display_data"
    }
   ],
   "source": [
    "from pyspark.sql.functions import *\n",
    "\n",
    "df = spark.read.format(\"csv\") \\\n",
    "    .option(\"inferSchema\", \"true\") \\\n",
    "    .option(\"header\", \"true\") \\\n",
    "    .load(\"/Volumes/workspace/navpractise/naveen/navnaa/products.csv\")\n",
    "df1 = df.withColumn(\"product_id\", col(\"product_id\").cast(StringType()))\n",
    "display(df1)"
   ]
  },
  {
   "cell_type": "markdown",
   "metadata": {
    "application/vnd.databricks.v1+cell": {
     "cellMetadata": {},
     "inputWidgets": {},
     "nuid": "f936f493-c5bc-4832-ac15-765a29fc5804",
     "showTitle": false,
     "tableResultSettingsMap": {},
     "title": ""
    }
   },
   "source": [
    "#Sort Scenario 1"
   ]
  },
  {
   "cell_type": "code",
   "execution_count": 0,
   "metadata": {
    "application/vnd.databricks.v1+cell": {
     "cellMetadata": {
      "byteLimit": 2048000,
      "rowLimit": 10000
     },
     "inputWidgets": {},
     "nuid": "a437e66c-a0b7-4172-8442-97a27ec7adf4",
     "showTitle": false,
     "tableResultSettingsMap": {},
     "title": ""
    }
   },
   "outputs": [
    {
     "output_type": "display_data",
     "data": {
      "text/html": [
       "<style scoped>\n",
       "  .table-result-container {\n",
       "    max-height: 300px;\n",
       "    overflow: auto;\n",
       "  }\n",
       "  table, th, td {\n",
       "    border: 1px solid black;\n",
       "    border-collapse: collapse;\n",
       "  }\n",
       "  th, td {\n",
       "    padding: 5px;\n",
       "  }\n",
       "  th {\n",
       "    text-align: left;\n",
       "  }\n",
       "</style><div class='table-result-container'><table class='table-result'><thead style='background-color: white'><tr><th>product_id</th><th>name</th><th>category</th><th>sub_category</th></tr></thead><tbody><tr><td>107</td><td>Samsung TV</td><td>Electronics</td><td>TV</td></tr><tr><td>106</td><td>Shoes</td><td>Footwear</td><td>Sneakers</td></tr><tr><td>105</td><td>Mixer Grinder</td><td>Kitchenware</td><td>Appliance</td></tr><tr><td>104</td><td>Sofa</td><td>Furniture</td><td>Seating</td></tr><tr><td>103</td><td>T-shirt</td><td>Clothing</td><td>Top</td></tr><tr><td>102</td><td>MacBook Pro</td><td>Electronics</td><td>Laptop</td></tr><tr><td>101</td><td>iPhone 13</td><td>Electronics</td><td>Phone</td></tr></tbody></table></div>"
      ]
     },
     "metadata": {
      "application/vnd.databricks.v1+output": {
       "addedWidgets": {},
       "aggData": [],
       "aggError": "",
       "aggOverflow": false,
       "aggSchema": [],
       "aggSeriesLimitReached": false,
       "aggType": "",
       "arguments": {},
       "columnCustomDisplayInfos": {},
       "data": [
        [
         107,
         "Samsung TV",
         "Electronics",
         "TV"
        ],
        [
         106,
         "Shoes",
         "Footwear",
         "Sneakers"
        ],
        [
         105,
         "Mixer Grinder",
         "Kitchenware",
         "Appliance"
        ],
        [
         104,
         "Sofa",
         "Furniture",
         "Seating"
        ],
        [
         103,
         "T-shirt",
         "Clothing",
         "Top"
        ],
        [
         102,
         "MacBook Pro",
         "Electronics",
         "Laptop"
        ],
        [
         101,
         "iPhone 13",
         "Electronics",
         "Phone"
        ]
       ],
       "datasetInfos": [],
       "dbfsResultPath": null,
       "isJsonSchema": true,
       "metadata": {},
       "overflow": false,
       "plotOptions": {
        "customPlotOptions": {},
        "displayType": "table",
        "pivotAggregation": null,
        "pivotColumns": null,
        "xColumns": null,
        "yColumns": null
       },
       "removedWidgets": [],
       "schema": [
        {
         "metadata": "{}",
         "name": "product_id",
         "type": "\"integer\""
        },
        {
         "metadata": "{}",
         "name": "name",
         "type": "\"string\""
        },
        {
         "metadata": "{}",
         "name": "category",
         "type": "\"string\""
        },
        {
         "metadata": "{}",
         "name": "sub_category",
         "type": "\"string\""
        }
       ],
       "type": "table"
      }
     },
     "output_type": "display_data"
    }
   ],
   "source": [
    "from pyspark.sql.functions import *\n",
    "\n",
    "df = spark.read.format(\"csv\") \\\n",
    "    .option(\"inferSchema\", \"true\") \\\n",
    "    .option(\"header\", \"true\") \\\n",
    "    .load(\"/Volumes/workspace/navpractise/naveen/navnaa/products.csv\")\n",
    "df.sort(col(\"product_id\").desc()).display()"
   ]
  },
  {
   "cell_type": "markdown",
   "metadata": {
    "application/vnd.databricks.v1+cell": {
     "cellMetadata": {},
     "inputWidgets": {},
     "nuid": "e169d44e-f3b9-4c52-9228-53d1522af917",
     "showTitle": false,
     "tableResultSettingsMap": {},
     "title": ""
    }
   },
   "source": [
    "#Scenario 2"
   ]
  },
  {
   "cell_type": "code",
   "execution_count": 0,
   "metadata": {
    "application/vnd.databricks.v1+cell": {
     "cellMetadata": {
      "byteLimit": 2048000,
      "rowLimit": 10000
     },
     "inputWidgets": {},
     "nuid": "974f1047-eb39-48da-9391-a77df61ca73e",
     "showTitle": false,
     "tableResultSettingsMap": {},
     "title": ""
    }
   },
   "outputs": [
    {
     "output_type": "display_data",
     "data": {
      "text/html": [
       "<style scoped>\n",
       "  .table-result-container {\n",
       "    max-height: 300px;\n",
       "    overflow: auto;\n",
       "  }\n",
       "  table, th, td {\n",
       "    border: 1px solid black;\n",
       "    border-collapse: collapse;\n",
       "  }\n",
       "  th, td {\n",
       "    padding: 5px;\n",
       "  }\n",
       "  th {\n",
       "    text-align: left;\n",
       "  }\n",
       "</style><div class='table-result-container'><table class='table-result'><thead style='background-color: white'><tr><th>product_id</th><th>name</th><th>category</th><th>sub_category</th></tr></thead><tbody><tr><td>105</td><td>Mixer Grinder</td><td>Kitchenware</td><td>Appliance</td></tr><tr><td>102</td><td>MacBook Pro</td><td>Electronics</td><td>Laptop</td></tr><tr><td>101</td><td>iPhone 13</td><td>Electronics</td><td>Phone</td></tr><tr><td>104</td><td>Sofa</td><td>Furniture</td><td>Seating</td></tr><tr><td>106</td><td>Shoes</td><td>Footwear</td><td>Sneakers</td></tr><tr><td>107</td><td>Samsung TV</td><td>Electronics</td><td>TV</td></tr><tr><td>103</td><td>T-shirt</td><td>Clothing</td><td>Top</td></tr></tbody></table></div>"
      ]
     },
     "metadata": {
      "application/vnd.databricks.v1+output": {
       "addedWidgets": {},
       "aggData": [],
       "aggError": "",
       "aggOverflow": false,
       "aggSchema": [],
       "aggSeriesLimitReached": false,
       "aggType": "",
       "arguments": {},
       "columnCustomDisplayInfos": {},
       "data": [
        [
         105,
         "Mixer Grinder",
         "Kitchenware",
         "Appliance"
        ],
        [
         102,
         "MacBook Pro",
         "Electronics",
         "Laptop"
        ],
        [
         101,
         "iPhone 13",
         "Electronics",
         "Phone"
        ],
        [
         104,
         "Sofa",
         "Furniture",
         "Seating"
        ],
        [
         106,
         "Shoes",
         "Footwear",
         "Sneakers"
        ],
        [
         107,
         "Samsung TV",
         "Electronics",
         "TV"
        ],
        [
         103,
         "T-shirt",
         "Clothing",
         "Top"
        ]
       ],
       "datasetInfos": [],
       "dbfsResultPath": null,
       "isJsonSchema": true,
       "metadata": {},
       "overflow": false,
       "plotOptions": {
        "customPlotOptions": {},
        "displayType": "table",
        "pivotAggregation": null,
        "pivotColumns": null,
        "xColumns": null,
        "yColumns": null
       },
       "removedWidgets": [],
       "schema": [
        {
         "metadata": "{}",
         "name": "product_id",
         "type": "\"integer\""
        },
        {
         "metadata": "{}",
         "name": "name",
         "type": "\"string\""
        },
        {
         "metadata": "{}",
         "name": "category",
         "type": "\"string\""
        },
        {
         "metadata": "{}",
         "name": "sub_category",
         "type": "\"string\""
        }
       ],
       "type": "table"
      }
     },
     "output_type": "display_data"
    }
   ],
   "source": [
    "from pyspark.sql.functions import *\n",
    "\n",
    "df = spark.read.format(\"csv\") \\\n",
    "    .option(\"inferSchema\", \"true\") \\\n",
    "    .option(\"header\", \"true\") \\\n",
    "    .load(\"/Volumes/workspace/navpractise/naveen/navnaa/products.csv\")\n",
    "df.sort(col(\"sub_category\").asc()).display()"
   ]
  },
  {
   "cell_type": "markdown",
   "metadata": {
    "application/vnd.databricks.v1+cell": {
     "cellMetadata": {},
     "inputWidgets": {},
     "nuid": "03c8a5b2-d2f0-4204-bdd9-2a3649e77a7c",
     "showTitle": false,
     "tableResultSettingsMap": {},
     "title": ""
    }
   },
   "source": [
    "#Scenario 3"
   ]
  },
  {
   "cell_type": "code",
   "execution_count": 0,
   "metadata": {
    "application/vnd.databricks.v1+cell": {
     "cellMetadata": {
      "byteLimit": 2048000,
      "rowLimit": 10000
     },
     "inputWidgets": {},
     "nuid": "ec18c0ac-208b-4b14-971e-756919e42a19",
     "showTitle": false,
     "tableResultSettingsMap": {},
     "title": ""
    }
   },
   "outputs": [
    {
     "output_type": "display_data",
     "data": {
      "text/html": [
       "<style scoped>\n",
       "  .table-result-container {\n",
       "    max-height: 300px;\n",
       "    overflow: auto;\n",
       "  }\n",
       "  table, th, td {\n",
       "    border: 1px solid black;\n",
       "    border-collapse: collapse;\n",
       "  }\n",
       "  th, td {\n",
       "    padding: 5px;\n",
       "  }\n",
       "  th {\n",
       "    text-align: left;\n",
       "  }\n",
       "</style><div class='table-result-container'><table class='table-result'><thead style='background-color: white'><tr><th>product_id</th><th>name</th><th>category</th><th>sub_category</th></tr></thead><tbody><tr><td>107</td><td>Samsung TV</td><td>Electronics</td><td>TV</td></tr><tr><td>106</td><td>Shoes</td><td>Footwear</td><td>Sneakers</td></tr><tr><td>105</td><td>Mixer Grinder</td><td>Kitchenware</td><td>Appliance</td></tr><tr><td>104</td><td>Sofa</td><td>Furniture</td><td>Seating</td></tr><tr><td>103</td><td>T-shirt</td><td>Clothing</td><td>Top</td></tr><tr><td>102</td><td>MacBook Pro</td><td>Electronics</td><td>Laptop</td></tr><tr><td>101</td><td>iPhone 13</td><td>Electronics</td><td>Phone</td></tr></tbody></table></div>"
      ]
     },
     "metadata": {
      "application/vnd.databricks.v1+output": {
       "addedWidgets": {},
       "aggData": [],
       "aggError": "",
       "aggOverflow": false,
       "aggSchema": [],
       "aggSeriesLimitReached": false,
       "aggType": "",
       "arguments": {},
       "columnCustomDisplayInfos": {},
       "data": [
        [
         107,
         "Samsung TV",
         "Electronics",
         "TV"
        ],
        [
         106,
         "Shoes",
         "Footwear",
         "Sneakers"
        ],
        [
         105,
         "Mixer Grinder",
         "Kitchenware",
         "Appliance"
        ],
        [
         104,
         "Sofa",
         "Furniture",
         "Seating"
        ],
        [
         103,
         "T-shirt",
         "Clothing",
         "Top"
        ],
        [
         102,
         "MacBook Pro",
         "Electronics",
         "Laptop"
        ],
        [
         101,
         "iPhone 13",
         "Electronics",
         "Phone"
        ]
       ],
       "datasetInfos": [],
       "dbfsResultPath": null,
       "isJsonSchema": true,
       "metadata": {},
       "overflow": false,
       "plotOptions": {
        "customPlotOptions": {},
        "displayType": "table",
        "pivotAggregation": null,
        "pivotColumns": null,
        "xColumns": null,
        "yColumns": null
       },
       "removedWidgets": [],
       "schema": [
        {
         "metadata": "{}",
         "name": "product_id",
         "type": "\"integer\""
        },
        {
         "metadata": "{}",
         "name": "name",
         "type": "\"string\""
        },
        {
         "metadata": "{}",
         "name": "category",
         "type": "\"string\""
        },
        {
         "metadata": "{}",
         "name": "sub_category",
         "type": "\"string\""
        }
       ],
       "type": "table"
      }
     },
     "output_type": "display_data"
    }
   ],
   "source": [
    "from pyspark.sql.functions import *\n",
    "\n",
    "df = spark.read.format(\"csv\") \\\n",
    "    .option(\"inferSchema\", \"true\") \\\n",
    "    .option(\"header\", \"true\") \\\n",
    "    .load(\"/Volumes/workspace/navpractise/naveen/navnaa/products.csv\")\n",
    "df.sort([\"product_id\",\"name\"],ascending=[0,1]).display()"
   ]
  },
  {
   "cell_type": "markdown",
   "metadata": {
    "application/vnd.databricks.v1+cell": {
     "cellMetadata": {},
     "inputWidgets": {},
     "nuid": "7f2a2d9e-98cc-41fa-b172-804b29c68656",
     "showTitle": false,
     "tableResultSettingsMap": {},
     "title": ""
    }
   },
   "source": [
    "#Limit"
   ]
  },
  {
   "cell_type": "code",
   "execution_count": 0,
   "metadata": {
    "application/vnd.databricks.v1+cell": {
     "cellMetadata": {
      "byteLimit": 2048000,
      "rowLimit": 10000
     },
     "inputWidgets": {},
     "nuid": "9bc78098-2450-4e97-8279-488a1092a7ce",
     "showTitle": false,
     "tableResultSettingsMap": {},
     "title": ""
    }
   },
   "outputs": [
    {
     "output_type": "display_data",
     "data": {
      "text/html": [
       "<style scoped>\n",
       "  .table-result-container {\n",
       "    max-height: 300px;\n",
       "    overflow: auto;\n",
       "  }\n",
       "  table, th, td {\n",
       "    border: 1px solid black;\n",
       "    border-collapse: collapse;\n",
       "  }\n",
       "  th, td {\n",
       "    padding: 5px;\n",
       "  }\n",
       "  th {\n",
       "    text-align: left;\n",
       "  }\n",
       "</style><div class='table-result-container'><table class='table-result'><thead style='background-color: white'><tr><th>product_id</th><th>name</th><th>category</th><th>sub_category</th></tr></thead><tbody><tr><td>101</td><td>iPhone 13</td><td>Electronics</td><td>Phone</td></tr><tr><td>102</td><td>MacBook Pro</td><td>Electronics</td><td>Laptop</td></tr><tr><td>103</td><td>T-shirt</td><td>Clothing</td><td>Top</td></tr></tbody></table></div>"
      ]
     },
     "metadata": {
      "application/vnd.databricks.v1+output": {
       "addedWidgets": {},
       "aggData": [],
       "aggError": "",
       "aggOverflow": false,
       "aggSchema": [],
       "aggSeriesLimitReached": false,
       "aggType": "",
       "arguments": {},
       "columnCustomDisplayInfos": {},
       "data": [
        [
         101,
         "iPhone 13",
         "Electronics",
         "Phone"
        ],
        [
         102,
         "MacBook Pro",
         "Electronics",
         "Laptop"
        ],
        [
         103,
         "T-shirt",
         "Clothing",
         "Top"
        ]
       ],
       "datasetInfos": [],
       "dbfsResultPath": null,
       "isJsonSchema": true,
       "metadata": {},
       "overflow": false,
       "plotOptions": {
        "customPlotOptions": {},
        "displayType": "table",
        "pivotAggregation": null,
        "pivotColumns": null,
        "xColumns": null,
        "yColumns": null
       },
       "removedWidgets": [],
       "schema": [
        {
         "metadata": "{}",
         "name": "product_id",
         "type": "\"integer\""
        },
        {
         "metadata": "{}",
         "name": "name",
         "type": "\"string\""
        },
        {
         "metadata": "{}",
         "name": "category",
         "type": "\"string\""
        },
        {
         "metadata": "{}",
         "name": "sub_category",
         "type": "\"string\""
        }
       ],
       "type": "table"
      }
     },
     "output_type": "display_data"
    }
   ],
   "source": [
    "from pyspark.sql.functions import *\n",
    "\n",
    "df = spark.read.format(\"csv\") \\\n",
    "    .option(\"inferSchema\", \"true\") \\\n",
    "    .option(\"header\", \"true\") \\\n",
    "    .load(\"/Volumes/workspace/navpractise/naveen/navnaa/products.csv\")\n",
    "df.limit(3).display()"
   ]
  },
  {
   "cell_type": "markdown",
   "metadata": {
    "application/vnd.databricks.v1+cell": {
     "cellMetadata": {},
     "inputWidgets": {},
     "nuid": "6bfb4ffd-a371-4033-99e4-f80fbd36af07",
     "showTitle": false,
     "tableResultSettingsMap": {},
     "title": ""
    }
   },
   "source": [
    "#Drop"
   ]
  },
  {
   "cell_type": "code",
   "execution_count": 0,
   "metadata": {
    "application/vnd.databricks.v1+cell": {
     "cellMetadata": {
      "byteLimit": 2048000,
      "rowLimit": 10000
     },
     "inputWidgets": {},
     "nuid": "8123d83f-d558-4f03-9601-dc5d0036309e",
     "showTitle": false,
     "tableResultSettingsMap": {},
     "title": ""
    }
   },
   "outputs": [
    {
     "output_type": "display_data",
     "data": {
      "text/html": [
       "<style scoped>\n",
       "  .table-result-container {\n",
       "    max-height: 300px;\n",
       "    overflow: auto;\n",
       "  }\n",
       "  table, th, td {\n",
       "    border: 1px solid black;\n",
       "    border-collapse: collapse;\n",
       "  }\n",
       "  th, td {\n",
       "    padding: 5px;\n",
       "  }\n",
       "  th {\n",
       "    text-align: left;\n",
       "  }\n",
       "</style><div class='table-result-container'><table class='table-result'><thead style='background-color: white'><tr><th>product_id</th><th>category</th></tr></thead><tbody><tr><td>101</td><td>Electronics</td></tr><tr><td>102</td><td>Electronics</td></tr><tr><td>103</td><td>Clothing</td></tr><tr><td>104</td><td>Furniture</td></tr><tr><td>105</td><td>Kitchenware</td></tr><tr><td>106</td><td>Footwear</td></tr><tr><td>107</td><td>Electronics</td></tr></tbody></table></div>"
      ]
     },
     "metadata": {
      "application/vnd.databricks.v1+output": {
       "addedWidgets": {},
       "aggData": [],
       "aggError": "",
       "aggOverflow": false,
       "aggSchema": [],
       "aggSeriesLimitReached": false,
       "aggType": "",
       "arguments": {},
       "columnCustomDisplayInfos": {},
       "data": [
        [
         101,
         "Electronics"
        ],
        [
         102,
         "Electronics"
        ],
        [
         103,
         "Clothing"
        ],
        [
         104,
         "Furniture"
        ],
        [
         105,
         "Kitchenware"
        ],
        [
         106,
         "Footwear"
        ],
        [
         107,
         "Electronics"
        ]
       ],
       "datasetInfos": [],
       "dbfsResultPath": null,
       "isJsonSchema": true,
       "metadata": {},
       "overflow": false,
       "plotOptions": {
        "customPlotOptions": {},
        "displayType": "table",
        "pivotAggregation": null,
        "pivotColumns": null,
        "xColumns": null,
        "yColumns": null
       },
       "removedWidgets": [],
       "schema": [
        {
         "metadata": "{}",
         "name": "product_id",
         "type": "\"integer\""
        },
        {
         "metadata": "{}",
         "name": "category",
         "type": "\"string\""
        }
       ],
       "type": "table"
      }
     },
     "output_type": "display_data"
    }
   ],
   "source": [
    "from pyspark.sql.functions import *\n",
    "\n",
    "df = spark.read.format(\"csv\") \\\n",
    "    .option(\"inferSchema\", \"true\") \\\n",
    "    .option(\"header\", \"true\") \\\n",
    "    .load(\"/Volumes/workspace/navpractise/naveen/navnaa/products.csv\")\n",
    "df.drop(\"sub_category\", \"name\").display()"
   ]
  },
  {
   "cell_type": "markdown",
   "metadata": {
    "application/vnd.databricks.v1+cell": {
     "cellMetadata": {},
     "inputWidgets": {},
     "nuid": "12172f4a-f528-45f4-ae57-167c4a29554c",
     "showTitle": false,
     "tableResultSettingsMap": {},
     "title": ""
    }
   },
   "source": [
    "#Drop_Duplicates"
   ]
  },
  {
   "cell_type": "code",
   "execution_count": 0,
   "metadata": {
    "application/vnd.databricks.v1+cell": {
     "cellMetadata": {
      "byteLimit": 2048000,
      "rowLimit": 10000
     },
     "inputWidgets": {},
     "nuid": "5195c5d8-21f4-4b4c-b5a1-9f7e92490210",
     "showTitle": false,
     "tableResultSettingsMap": {},
     "title": ""
    }
   },
   "outputs": [
    {
     "output_type": "display_data",
     "data": {
      "text/html": [
       "<style scoped>\n",
       "  .table-result-container {\n",
       "    max-height: 300px;\n",
       "    overflow: auto;\n",
       "  }\n",
       "  table, th, td {\n",
       "    border: 1px solid black;\n",
       "    border-collapse: collapse;\n",
       "  }\n",
       "  th, td {\n",
       "    padding: 5px;\n",
       "  }\n",
       "  th {\n",
       "    text-align: left;\n",
       "  }\n",
       "</style><div class='table-result-container'><table class='table-result'><thead style='background-color: white'><tr><th>product_id</th><th>name</th><th>category</th><th>sub_category</th></tr></thead><tbody><tr><td>103</td><td>T-shirt</td><td>Clothing</td><td>Top</td></tr><tr><td>101</td><td>iPhone 13</td><td>Electronics</td><td>Phone</td></tr><tr><td>106</td><td>Shoes</td><td>Footwear</td><td>Sneakers</td></tr><tr><td>104</td><td>Sofa</td><td>Furniture</td><td>Seating</td></tr><tr><td>105</td><td>Mixer Grinder</td><td>Kitchenware</td><td>Appliance</td></tr></tbody></table></div>"
      ]
     },
     "metadata": {
      "application/vnd.databricks.v1+output": {
       "addedWidgets": {},
       "aggData": [],
       "aggError": "",
       "aggOverflow": false,
       "aggSchema": [],
       "aggSeriesLimitReached": false,
       "aggType": "",
       "arguments": {},
       "columnCustomDisplayInfos": {},
       "data": [
        [
         103,
         "T-shirt",
         "Clothing",
         "Top"
        ],
        [
         101,
         "iPhone 13",
         "Electronics",
         "Phone"
        ],
        [
         106,
         "Shoes",
         "Footwear",
         "Sneakers"
        ],
        [
         104,
         "Sofa",
         "Furniture",
         "Seating"
        ],
        [
         105,
         "Mixer Grinder",
         "Kitchenware",
         "Appliance"
        ]
       ],
       "datasetInfos": [],
       "dbfsResultPath": null,
       "isJsonSchema": true,
       "metadata": {},
       "overflow": false,
       "plotOptions": {
        "customPlotOptions": {},
        "displayType": "table",
        "pivotAggregation": null,
        "pivotColumns": null,
        "xColumns": null,
        "yColumns": null
       },
       "removedWidgets": [],
       "schema": [
        {
         "metadata": "{}",
         "name": "product_id",
         "type": "\"integer\""
        },
        {
         "metadata": "{}",
         "name": "name",
         "type": "\"string\""
        },
        {
         "metadata": "{}",
         "name": "category",
         "type": "\"string\""
        },
        {
         "metadata": "{}",
         "name": "sub_category",
         "type": "\"string\""
        }
       ],
       "type": "table"
      }
     },
     "output_type": "display_data"
    }
   ],
   "source": [
    "from pyspark.sql.functions import *\n",
    "\n",
    "df = spark.read.format(\"csv\") \\\n",
    "    .option(\"inferSchema\", \"true\") \\\n",
    "    .option(\"header\", \"true\") \\\n",
    "    .load(\"/Volumes/workspace/navpractise/naveen/navnaa/products.csv\")\n",
    "df.drop_duplicates(['category']).display()"
   ]
  },
  {
   "cell_type": "markdown",
   "metadata": {
    "application/vnd.databricks.v1+cell": {
     "cellMetadata": {},
     "inputWidgets": {},
     "nuid": "2c833cd1-17aa-4300-8800-244c5d01a8d8",
     "showTitle": false,
     "tableResultSettingsMap": {},
     "title": ""
    }
   },
   "source": [
    "#Distinct"
   ]
  },
  {
   "cell_type": "code",
   "execution_count": 0,
   "metadata": {
    "application/vnd.databricks.v1+cell": {
     "cellMetadata": {
      "byteLimit": 2048000,
      "rowLimit": 10000
     },
     "inputWidgets": {},
     "nuid": "e21db780-82bc-4476-975f-d63d83fcb6e6",
     "showTitle": false,
     "tableResultSettingsMap": {},
     "title": ""
    }
   },
   "outputs": [
    {
     "output_type": "display_data",
     "data": {
      "text/html": [
       "<style scoped>\n",
       "  .table-result-container {\n",
       "    max-height: 300px;\n",
       "    overflow: auto;\n",
       "  }\n",
       "  table, th, td {\n",
       "    border: 1px solid black;\n",
       "    border-collapse: collapse;\n",
       "  }\n",
       "  th, td {\n",
       "    padding: 5px;\n",
       "  }\n",
       "  th {\n",
       "    text-align: left;\n",
       "  }\n",
       "</style><div class='table-result-container'><table class='table-result'><thead style='background-color: white'><tr><th>category</th></tr></thead><tbody><tr><td>Furniture</td></tr><tr><td>Clothing</td></tr><tr><td>Kitchenware</td></tr><tr><td>Footwear</td></tr><tr><td>Electronics</td></tr></tbody></table></div>"
      ]
     },
     "metadata": {
      "application/vnd.databricks.v1+output": {
       "addedWidgets": {},
       "aggData": [],
       "aggError": "",
       "aggOverflow": false,
       "aggSchema": [],
       "aggSeriesLimitReached": false,
       "aggType": "",
       "arguments": {},
       "columnCustomDisplayInfos": {},
       "data": [
        [
         "Furniture"
        ],
        [
         "Clothing"
        ],
        [
         "Kitchenware"
        ],
        [
         "Footwear"
        ],
        [
         "Electronics"
        ]
       ],
       "datasetInfos": [],
       "dbfsResultPath": null,
       "isJsonSchema": true,
       "metadata": {},
       "overflow": false,
       "plotOptions": {
        "customPlotOptions": {},
        "displayType": "table",
        "pivotAggregation": null,
        "pivotColumns": null,
        "xColumns": null,
        "yColumns": null
       },
       "removedWidgets": [],
       "schema": [
        {
         "metadata": "{}",
         "name": "category",
         "type": "\"string\""
        }
       ],
       "type": "table"
      }
     },
     "output_type": "display_data"
    }
   ],
   "source": [
    "from pyspark.sql.functions import *\n",
    "\n",
    "df = spark.read.format(\"csv\") \\\n",
    "    .option(\"inferSchema\", \"true\") \\\n",
    "    .option(\"header\", \"true\") \\\n",
    "    .load(\"/Volumes/workspace/navpractise/naveen/navnaa/products.csv\")\n",
    "df.select(\"category\").distinct().display()"
   ]
  },
  {
   "cell_type": "markdown",
   "metadata": {
    "application/vnd.databricks.v1+cell": {
     "cellMetadata": {},
     "inputWidgets": {},
     "nuid": "82b905a0-4201-49bc-8f40-08fa2edf77ee",
     "showTitle": false,
     "tableResultSettingsMap": {},
     "title": ""
    }
   },
   "source": [
    "#Union"
   ]
  },
  {
   "cell_type": "code",
   "execution_count": 0,
   "metadata": {
    "application/vnd.databricks.v1+cell": {
     "cellMetadata": {
      "byteLimit": 2048000,
      "rowLimit": 10000
     },
     "inputWidgets": {},
     "nuid": "f0ebb765-0199-472d-9955-6b256e745ba1",
     "showTitle": false,
     "tableResultSettingsMap": {},
     "title": ""
    }
   },
   "outputs": [
    {
     "output_type": "display_data",
     "data": {
      "text/html": [
       "<style scoped>\n",
       "  .table-result-container {\n",
       "    max-height: 300px;\n",
       "    overflow: auto;\n",
       "  }\n",
       "  table, th, td {\n",
       "    border: 1px solid black;\n",
       "    border-collapse: collapse;\n",
       "  }\n",
       "  th, td {\n",
       "    padding: 5px;\n",
       "  }\n",
       "  th {\n",
       "    text-align: left;\n",
       "  }\n",
       "</style><div class='table-result-container'><table class='table-result'><thead style='background-color: white'><tr><th>id</th><th>name</th></tr></thead><tbody><tr><td>1</td><td>jio</td></tr><tr><td>2</td><td>min</td></tr><tr><td>3</td><td>var</td></tr><tr><td>4</td><td>haul</td></tr></tbody></table></div>"
      ]
     },
     "metadata": {
      "application/vnd.databricks.v1+output": {
       "addedWidgets": {},
       "aggData": [],
       "aggError": "",
       "aggOverflow": false,
       "aggSchema": [],
       "aggSeriesLimitReached": false,
       "aggType": "",
       "arguments": {},
       "columnCustomDisplayInfos": {},
       "data": [
        [
         1,
         "jio"
        ],
        [
         2,
         "min"
        ],
        [
         3,
         "var"
        ],
        [
         4,
         "haul"
        ]
       ],
       "datasetInfos": [],
       "dbfsResultPath": null,
       "isJsonSchema": true,
       "metadata": {},
       "overflow": false,
       "plotOptions": {
        "customPlotOptions": {},
        "displayType": "table",
        "pivotAggregation": null,
        "pivotColumns": null,
        "xColumns": null,
        "yColumns": null
       },
       "removedWidgets": [],
       "schema": [
        {
         "metadata": "{}",
         "name": "id",
         "type": "\"long\""
        },
        {
         "metadata": "{}",
         "name": "name",
         "type": "\"string\""
        }
       ],
       "type": "table"
      }
     },
     "output_type": "display_data"
    }
   ],
   "source": [
    "data1 = [(1,\"jio\"), (2, \"min\")]\n",
    "schema1= [\"id\",\"name\"]\n",
    "\n",
    "data2 = [(3,\"var\"),(4, \"haul\")]\n",
    "schema2 = [\"id\", \"name\"]\n",
    "\n",
    "df1 = spark.createDataFrame(data1, schema1)\n",
    "df2 = spark.createDataFrame(data2, schema2)\n",
    "\n",
    "uni = df1.union(df2)\n",
    "display(uni)\n"
   ]
  },
  {
   "cell_type": "markdown",
   "metadata": {
    "application/vnd.databricks.v1+cell": {
     "cellMetadata": {},
     "inputWidgets": {},
     "nuid": "77772abb-aead-4676-97d9-1f4adfb51e83",
     "showTitle": false,
     "tableResultSettingsMap": {},
     "title": ""
    }
   },
   "source": [
    "#UnionByName\n"
   ]
  },
  {
   "cell_type": "code",
   "execution_count": 0,
   "metadata": {
    "application/vnd.databricks.v1+cell": {
     "cellMetadata": {
      "byteLimit": 2048000,
      "rowLimit": 10000
     },
     "inputWidgets": {},
     "nuid": "864b39e4-d09d-4294-b954-6019d0b65eb5",
     "showTitle": false,
     "tableResultSettingsMap": {},
     "title": ""
    }
   },
   "outputs": [
    {
     "output_type": "display_data",
     "data": {
      "text/html": [
       "<style scoped>\n",
       "  .table-result-container {\n",
       "    max-height: 300px;\n",
       "    overflow: auto;\n",
       "  }\n",
       "  table, th, td {\n",
       "    border: 1px solid black;\n",
       "    border-collapse: collapse;\n",
       "  }\n",
       "  th, td {\n",
       "    padding: 5px;\n",
       "  }\n",
       "  th {\n",
       "    text-align: left;\n",
       "  }\n",
       "</style><div class='table-result-container'><table class='table-result'><thead style='background-color: white'><tr><th>name</th><th>id</th></tr></thead><tbody><tr><td>jio</td><td>1</td></tr><tr><td>min</td><td>2</td></tr><tr><td>var</td><td>3</td></tr><tr><td>haul</td><td>4</td></tr></tbody></table></div>"
      ]
     },
     "metadata": {
      "application/vnd.databricks.v1+output": {
       "addedWidgets": {},
       "aggData": [],
       "aggError": "",
       "aggOverflow": false,
       "aggSchema": [],
       "aggSeriesLimitReached": false,
       "aggType": "",
       "arguments": {},
       "columnCustomDisplayInfos": {},
       "data": [
        [
         "jio",
         1
        ],
        [
         "min",
         2
        ],
        [
         "var",
         3
        ],
        [
         "haul",
         4
        ]
       ],
       "datasetInfos": [],
       "dbfsResultPath": null,
       "isJsonSchema": true,
       "metadata": {},
       "overflow": false,
       "plotOptions": {
        "customPlotOptions": {},
        "displayType": "table",
        "pivotAggregation": null,
        "pivotColumns": null,
        "xColumns": null,
        "yColumns": null
       },
       "removedWidgets": [],
       "schema": [
        {
         "metadata": "{}",
         "name": "name",
         "type": "\"string\""
        },
        {
         "metadata": "{}",
         "name": "id",
         "type": "\"long\""
        }
       ],
       "type": "table"
      }
     },
     "output_type": "display_data"
    }
   ],
   "source": [
    "data1 = [(\"jio\", 1), (\"min\", 2)]\n",
    "schema1 = [\"name\", \"id\"]\n",
    "\n",
    "data2 = [(\"var\", 3), (\"haul\", 4)]\n",
    "schema2 = [\"name\", \"id\"]\n",
    "\n",
    "\n",
    "df1 = spark.createDataFrame(data1, schema1)\n",
    "df2 = spark.createDataFrame(data2, schema2)\n",
    "uni = df1.unionByName(df2)\n",
    "display(uni)\n"
   ]
  },
  {
   "cell_type": "markdown",
   "metadata": {
    "application/vnd.databricks.v1+cell": {
     "cellMetadata": {},
     "inputWidgets": {},
     "nuid": "81067b11-2dd2-4097-ad97-79511841d2d5",
     "showTitle": false,
     "tableResultSettingsMap": {},
     "title": ""
    }
   },
   "source": [
    "#String Function\n",
    "#Initcap(),upper(),lower(``)"
   ]
  },
  {
   "cell_type": "code",
   "execution_count": 0,
   "metadata": {
    "application/vnd.databricks.v1+cell": {
     "cellMetadata": {
      "byteLimit": 2048000,
      "rowLimit": 10000
     },
     "inputWidgets": {},
     "nuid": "4902c5c8-218e-45c4-a1a3-cf8e2228ce5a",
     "showTitle": false,
     "tableResultSettingsMap": {},
     "title": ""
    }
   },
   "outputs": [
    {
     "output_type": "display_data",
     "data": {
      "text/html": [
       "<style scoped>\n",
       "  .table-result-container {\n",
       "    max-height: 300px;\n",
       "    overflow: auto;\n",
       "  }\n",
       "  table, th, td {\n",
       "    border: 1px solid black;\n",
       "    border-collapse: collapse;\n",
       "  }\n",
       "  th, td {\n",
       "    padding: 5px;\n",
       "  }\n",
       "  th {\n",
       "    text-align: left;\n",
       "  }\n",
       "</style><div class='table-result-container'><table class='table-result'><thead style='background-color: white'><tr><th>nam</th></tr></thead><tbody><tr><td>Iphone 13</td></tr><tr><td>Macbook Pro</td></tr><tr><td>T-shirt</td></tr><tr><td>Sofa</td></tr><tr><td>Mixer Grinder</td></tr><tr><td>Shoes</td></tr><tr><td>Samsung Tv</td></tr></tbody></table></div>"
      ]
     },
     "metadata": {
      "application/vnd.databricks.v1+output": {
       "addedWidgets": {},
       "aggData": [],
       "aggError": "",
       "aggOverflow": false,
       "aggSchema": [],
       "aggSeriesLimitReached": false,
       "aggType": "",
       "arguments": {},
       "columnCustomDisplayInfos": {},
       "data": [
        [
         "Iphone 13"
        ],
        [
         "Macbook Pro"
        ],
        [
         "T-shirt"
        ],
        [
         "Sofa"
        ],
        [
         "Mixer Grinder"
        ],
        [
         "Shoes"
        ],
        [
         "Samsung Tv"
        ]
       ],
       "datasetInfos": [],
       "dbfsResultPath": null,
       "isJsonSchema": true,
       "metadata": {},
       "overflow": false,
       "plotOptions": {
        "customPlotOptions": {},
        "displayType": "table",
        "pivotAggregation": null,
        "pivotColumns": null,
        "xColumns": null,
        "yColumns": null
       },
       "removedWidgets": [],
       "schema": [
        {
         "metadata": "{}",
         "name": "nam",
         "type": "\"string\""
        }
       ],
       "type": "table"
      }
     },
     "output_type": "display_data"
    },
    {
     "output_type": "display_data",
     "data": {
      "text/html": [
       "<style scoped>\n",
       "  .table-result-container {\n",
       "    max-height: 300px;\n",
       "    overflow: auto;\n",
       "  }\n",
       "  table, th, td {\n",
       "    border: 1px solid black;\n",
       "    border-collapse: collapse;\n",
       "  }\n",
       "  th, td {\n",
       "    padding: 5px;\n",
       "  }\n",
       "  th {\n",
       "    text-align: left;\n",
       "  }\n",
       "</style><div class='table-result-container'><table class='table-result'><thead style='background-color: white'><tr><th>cat</th></tr></thead><tbody><tr><td>electronics</td></tr><tr><td>electronics</td></tr><tr><td>clothing</td></tr><tr><td>furniture</td></tr><tr><td>kitchenware</td></tr><tr><td>footwear</td></tr><tr><td>electronics</td></tr></tbody></table></div>"
      ]
     },
     "metadata": {
      "application/vnd.databricks.v1+output": {
       "addedWidgets": {},
       "aggData": [],
       "aggError": "",
       "aggOverflow": false,
       "aggSchema": [],
       "aggSeriesLimitReached": false,
       "aggType": "",
       "arguments": {},
       "columnCustomDisplayInfos": {},
       "data": [
        [
         "electronics"
        ],
        [
         "electronics"
        ],
        [
         "clothing"
        ],
        [
         "furniture"
        ],
        [
         "kitchenware"
        ],
        [
         "footwear"
        ],
        [
         "electronics"
        ]
       ],
       "datasetInfos": [],
       "dbfsResultPath": null,
       "isJsonSchema": true,
       "metadata": {},
       "overflow": false,
       "plotOptions": {
        "customPlotOptions": {},
        "displayType": "table",
        "pivotAggregation": null,
        "pivotColumns": null,
        "xColumns": null,
        "yColumns": null
       },
       "removedWidgets": [],
       "schema": [
        {
         "metadata": "{}",
         "name": "cat",
         "type": "\"string\""
        }
       ],
       "type": "table"
      }
     },
     "output_type": "display_data"
    },
    {
     "output_type": "display_data",
     "data": {
      "text/html": [
       "<style scoped>\n",
       "  .table-result-container {\n",
       "    max-height: 300px;\n",
       "    overflow: auto;\n",
       "  }\n",
       "  table, th, td {\n",
       "    border: 1px solid black;\n",
       "    border-collapse: collapse;\n",
       "  }\n",
       "  th, td {\n",
       "    padding: 5px;\n",
       "  }\n",
       "  th {\n",
       "    text-align: left;\n",
       "  }\n",
       "</style><div class='table-result-container'><table class='table-result'><thead style='background-color: white'><tr><th>sub</th></tr></thead><tbody><tr><td>PHONE</td></tr><tr><td>LAPTOP</td></tr><tr><td>TOP</td></tr><tr><td>SEATING</td></tr><tr><td>APPLIANCE</td></tr><tr><td>SNEAKERS</td></tr><tr><td>TV</td></tr></tbody></table></div>"
      ]
     },
     "metadata": {
      "application/vnd.databricks.v1+output": {
       "addedWidgets": {},
       "aggData": [],
       "aggError": "",
       "aggOverflow": false,
       "aggSchema": [],
       "aggSeriesLimitReached": false,
       "aggType": "",
       "arguments": {},
       "columnCustomDisplayInfos": {},
       "data": [
        [
         "PHONE"
        ],
        [
         "LAPTOP"
        ],
        [
         "TOP"
        ],
        [
         "SEATING"
        ],
        [
         "APPLIANCE"
        ],
        [
         "SNEAKERS"
        ],
        [
         "TV"
        ]
       ],
       "datasetInfos": [],
       "dbfsResultPath": null,
       "isJsonSchema": true,
       "metadata": {},
       "overflow": false,
       "plotOptions": {
        "customPlotOptions": {},
        "displayType": "table",
        "pivotAggregation": null,
        "pivotColumns": null,
        "xColumns": null,
        "yColumns": null
       },
       "removedWidgets": [],
       "schema": [
        {
         "metadata": "{}",
         "name": "sub",
         "type": "\"string\""
        }
       ],
       "type": "table"
      }
     },
     "output_type": "display_data"
    }
   ],
   "source": [
    "from pyspark.sql.functions import *\n",
    "\n",
    "df = spark.read.format(\"csv\") \\\n",
    "    .option(\"inferSchema\", \"true\") \\\n",
    "    .option(\"header\", \"true\") \\\n",
    "    .load(\"/Volumes/workspace/navpractise/naveen/navnaa/products.csv\")\n",
    "\n",
    "df.select(initcap(\"name\").alias(\"nam\")).display()\n",
    "df.select(lower(\"category\").alias(\"cat\")).display()\n",
    "df.select(upper(\"sub_category\").alias(\"sub\")).display()"
   ]
  },
  {
   "cell_type": "markdown",
   "metadata": {
    "application/vnd.databricks.v1+cell": {
     "cellMetadata": {},
     "inputWidgets": {},
     "nuid": "cf644a2b-2b3e-48ac-8dff-4cd3da0d7dda",
     "showTitle": false,
     "tableResultSettingsMap": {},
     "title": ""
    }
   },
   "source": [
    "#Date function current_date()"
   ]
  },
  {
   "cell_type": "code",
   "execution_count": 0,
   "metadata": {
    "application/vnd.databricks.v1+cell": {
     "cellMetadata": {
      "byteLimit": 2048000,
      "rowLimit": 10000
     },
     "inputWidgets": {},
     "nuid": "cded8461-d853-4f95-8436-3c86957d9615",
     "showTitle": false,
     "tableResultSettingsMap": {},
     "title": ""
    }
   },
   "outputs": [
    {
     "output_type": "stream",
     "name": "stdout",
     "output_type": "stream",
     "text": [
      "+----------+-------------+-----------+------------+----------+\n|product_id|         name|   category|sub_category|       Now|\n+----------+-------------+-----------+------------+----------+\n|       101|    iPhone 13|Electronics|       Phone|2025-07-06|\n|       102|  MacBook Pro|Electronics|      Laptop|2025-07-06|\n|       103|      T-shirt|   Clothing|         Top|2025-07-06|\n|       104|         Sofa|  Furniture|     Seating|2025-07-06|\n|       105|Mixer Grinder|Kitchenware|   Appliance|2025-07-06|\n|       106|        Shoes|   Footwear|    Sneakers|2025-07-06|\n|       107|   Samsung TV|Electronics|          TV|2025-07-06|\n+----------+-------------+-----------+------------+----------+\n\n"
     ]
    }
   ],
   "source": [
    "from pyspark.sql.functions import col, current_date, date_add\n",
    "\n",
    "# Load data\n",
    "df = spark.read.format(\"csv\") \\\n",
    "    .option(\"inferSchema\", \"true\") \\\n",
    "    .option(\"header\", \"true\") \\\n",
    "    .load(\"/Volumes/workspace/navpractise/naveen/navnaa/products.csv\")\n",
    "\n",
    "# Add current date\n",
    "df = df.withColumn(\"Now\", current_date())\n",
    "df.show()  # or display(df) if you're in Databricks\n",
    "\n",
    "\n",
    "\n"
   ]
  },
  {
   "cell_type": "markdown",
   "metadata": {
    "application/vnd.databricks.v1+cell": {
     "cellMetadata": {},
     "inputWidgets": {},
     "nuid": "c18fd4f2-c0cb-4b3c-8896-6f4e90304222",
     "showTitle": false,
     "tableResultSettingsMap": {},
     "title": ""
    }
   },
   "source": [
    "#Date add()"
   ]
  },
  {
   "cell_type": "code",
   "execution_count": 0,
   "metadata": {
    "application/vnd.databricks.v1+cell": {
     "cellMetadata": {
      "byteLimit": 2048000,
      "rowLimit": 10000
     },
     "inputWidgets": {},
     "nuid": "dca35edb-33f8-4d5a-9ae0-122708ab76e8",
     "showTitle": false,
     "tableResultSettingsMap": {},
     "title": ""
    }
   },
   "outputs": [
    {
     "output_type": "stream",
     "name": "stdout",
     "output_type": "stream",
     "text": [
      "+----------+-------------+-----------+------------+----------+----------+\n|product_id|         name|   category|sub_category|       Now|week_after|\n+----------+-------------+-----------+------------+----------+----------+\n|       101|    iPhone 13|Electronics|       Phone|2025-07-06|2025-07-13|\n|       102|  MacBook Pro|Electronics|      Laptop|2025-07-06|2025-07-13|\n|       103|      T-shirt|   Clothing|         Top|2025-07-06|2025-07-13|\n|       104|         Sofa|  Furniture|     Seating|2025-07-06|2025-07-13|\n|       105|Mixer Grinder|Kitchenware|   Appliance|2025-07-06|2025-07-13|\n|       106|        Shoes|   Footwear|    Sneakers|2025-07-06|2025-07-13|\n|       107|   Samsung TV|Electronics|          TV|2025-07-06|2025-07-13|\n+----------+-------------+-----------+------------+----------+----------+\n\n"
     ]
    }
   ],
   "source": [
    "# Add 7 days to the 'Now' column\n",
    "df = df.withColumn(\"week_after\", date_add(col(\"Now\"), 7))\n",
    "df.show()\n",
    "\n",
    "\n"
   ]
  },
  {
   "cell_type": "markdown",
   "metadata": {
    "application/vnd.databricks.v1+cell": {
     "cellMetadata": {},
     "inputWidgets": {},
     "nuid": "e5aac0f9-7bc6-4071-90f6-f39921ab5c19",
     "showTitle": false,
     "tableResultSettingsMap": {},
     "title": ""
    }
   },
   "source": [
    "#Date sub()"
   ]
  },
  {
   "cell_type": "code",
   "execution_count": 0,
   "metadata": {
    "application/vnd.databricks.v1+cell": {
     "cellMetadata": {
      "byteLimit": 2048000,
      "rowLimit": 10000
     },
     "inputWidgets": {},
     "nuid": "ec9151a2-7d1a-4e52-b5a7-601e60b3d061",
     "showTitle": false,
     "tableResultSettingsMap": {},
     "title": ""
    }
   },
   "outputs": [
    {
     "output_type": "stream",
     "name": "stdout",
     "output_type": "stream",
     "text": [
      "+----------+-------------+-----------+------------+----------+----------+-----------+----------+\n|product_id|         name|   category|sub_category|       Now|week_after|week_before|  week_bef|\n+----------+-------------+-----------+------------+----------+----------+-----------+----------+\n|       101|    iPhone 13|Electronics|       Phone|2025-07-06|2025-07-13| 2025-06-29|2025-06-29|\n|       102|  MacBook Pro|Electronics|      Laptop|2025-07-06|2025-07-13| 2025-06-29|2025-06-29|\n|       103|      T-shirt|   Clothing|         Top|2025-07-06|2025-07-13| 2025-06-29|2025-06-29|\n|       104|         Sofa|  Furniture|     Seating|2025-07-06|2025-07-13| 2025-06-29|2025-06-29|\n|       105|Mixer Grinder|Kitchenware|   Appliance|2025-07-06|2025-07-13| 2025-06-29|2025-06-29|\n|       106|        Shoes|   Footwear|    Sneakers|2025-07-06|2025-07-13| 2025-06-29|2025-06-29|\n|       107|   Samsung TV|Electronics|          TV|2025-07-06|2025-07-13| 2025-06-29|2025-06-29|\n+----------+-------------+-----------+------------+----------+----------+-----------+----------+\n\n"
     ]
    }
   ],
   "source": [
    "# sub 7 days to the 'Now' column\n",
    "df = df.withColumn(\"week_before\", date_sub(col(\"Now\"), 7))\n",
    "df.show()\n",
    "\n",
    "\n",
    "# sub 7 days to the 'Now' column\n",
    "#df = df.withColumn(\"week_bef\", date_add(col(\"Now\"), -7))\n",
    "#df.show()"
   ]
  },
  {
   "cell_type": "markdown",
   "metadata": {
    "application/vnd.databricks.v1+cell": {
     "cellMetadata": {},
     "inputWidgets": {},
     "nuid": "8ec50401-e38d-43b9-875d-3475013901ce",
     "showTitle": false,
     "tableResultSettingsMap": {},
     "title": ""
    }
   },
   "source": [
    "#Datediff"
   ]
  },
  {
   "cell_type": "code",
   "execution_count": 0,
   "metadata": {
    "application/vnd.databricks.v1+cell": {
     "cellMetadata": {
      "byteLimit": 2048000,
      "rowLimit": 10000
     },
     "inputWidgets": {},
     "nuid": "99ac365e-c0ea-4982-878c-ad9de873a76a",
     "showTitle": false,
     "tableResultSettingsMap": {},
     "title": ""
    }
   },
   "outputs": [
    {
     "output_type": "display_data",
     "data": {
      "text/html": [
       "<style scoped>\n",
       "  .table-result-container {\n",
       "    max-height: 300px;\n",
       "    overflow: auto;\n",
       "  }\n",
       "  table, th, td {\n",
       "    border: 1px solid black;\n",
       "    border-collapse: collapse;\n",
       "  }\n",
       "  th, td {\n",
       "    padding: 5px;\n",
       "  }\n",
       "  th {\n",
       "    text-align: left;\n",
       "  }\n",
       "</style><div class='table-result-container'><table class='table-result'><thead style='background-color: white'><tr><th>product_id</th><th>name</th><th>category</th><th>sub_category</th><th>Now</th><th>week_after</th><th>Datedif</th></tr></thead><tbody><tr><td>101</td><td>iPhone 13</td><td>Electronics</td><td>Phone</td><td>2025-07-06</td><td>2025-07-13</td><td>7</td></tr><tr><td>102</td><td>MacBook Pro</td><td>Electronics</td><td>Laptop</td><td>2025-07-06</td><td>2025-07-13</td><td>7</td></tr><tr><td>103</td><td>T-shirt</td><td>Clothing</td><td>Top</td><td>2025-07-06</td><td>2025-07-13</td><td>7</td></tr><tr><td>104</td><td>Sofa</td><td>Furniture</td><td>Seating</td><td>2025-07-06</td><td>2025-07-13</td><td>7</td></tr><tr><td>105</td><td>Mixer Grinder</td><td>Kitchenware</td><td>Appliance</td><td>2025-07-06</td><td>2025-07-13</td><td>7</td></tr><tr><td>106</td><td>Shoes</td><td>Footwear</td><td>Sneakers</td><td>2025-07-06</td><td>2025-07-13</td><td>7</td></tr><tr><td>107</td><td>Samsung TV</td><td>Electronics</td><td>TV</td><td>2025-07-06</td><td>2025-07-13</td><td>7</td></tr></tbody></table></div>"
      ]
     },
     "metadata": {
      "application/vnd.databricks.v1+output": {
       "addedWidgets": {},
       "aggData": [],
       "aggError": "",
       "aggOverflow": false,
       "aggSchema": [],
       "aggSeriesLimitReached": false,
       "aggType": "",
       "arguments": {},
       "columnCustomDisplayInfos": {},
       "data": [
        [
         101,
         "iPhone 13",
         "Electronics",
         "Phone",
         "2025-07-06",
         "2025-07-13",
         7
        ],
        [
         102,
         "MacBook Pro",
         "Electronics",
         "Laptop",
         "2025-07-06",
         "2025-07-13",
         7
        ],
        [
         103,
         "T-shirt",
         "Clothing",
         "Top",
         "2025-07-06",
         "2025-07-13",
         7
        ],
        [
         104,
         "Sofa",
         "Furniture",
         "Seating",
         "2025-07-06",
         "2025-07-13",
         7
        ],
        [
         105,
         "Mixer Grinder",
         "Kitchenware",
         "Appliance",
         "2025-07-06",
         "2025-07-13",
         7
        ],
        [
         106,
         "Shoes",
         "Footwear",
         "Sneakers",
         "2025-07-06",
         "2025-07-13",
         7
        ],
        [
         107,
         "Samsung TV",
         "Electronics",
         "TV",
         "2025-07-06",
         "2025-07-13",
         7
        ]
       ],
       "datasetInfos": [],
       "dbfsResultPath": null,
       "isJsonSchema": true,
       "metadata": {},
       "overflow": false,
       "plotOptions": {
        "customPlotOptions": {},
        "displayType": "table",
        "pivotAggregation": null,
        "pivotColumns": null,
        "xColumns": null,
        "yColumns": null
       },
       "removedWidgets": [],
       "schema": [
        {
         "metadata": "{}",
         "name": "product_id",
         "type": "\"integer\""
        },
        {
         "metadata": "{}",
         "name": "name",
         "type": "\"string\""
        },
        {
         "metadata": "{}",
         "name": "category",
         "type": "\"string\""
        },
        {
         "metadata": "{}",
         "name": "sub_category",
         "type": "\"string\""
        },
        {
         "metadata": "{}",
         "name": "Now",
         "type": "\"date\""
        },
        {
         "metadata": "{}",
         "name": "week_after",
         "type": "\"date\""
        },
        {
         "metadata": "{}",
         "name": "Datedif",
         "type": "\"integer\""
        }
       ],
       "type": "table"
      }
     },
     "output_type": "display_data"
    }
   ],
   "source": [
    "#Datediff\n",
    "df = df1.withColumn(\"Datedif\", datediff(col(\"week_after\"), col(\"Now\")))\n",
    "display(df)"
   ]
  },
  {
   "cell_type": "markdown",
   "metadata": {
    "application/vnd.databricks.v1+cell": {
     "cellMetadata": {
      "byteLimit": 2048000,
      "rowLimit": 10000
     },
     "inputWidgets": {},
     "nuid": "875a1618-b8ab-4557-aea1-af761c5079d8",
     "showTitle": false,
     "tableResultSettingsMap": {},
     "title": ""
    }
   },
   "source": [
    "# Handling Nulls"
   ]
  },
  {
   "cell_type": "markdown",
   "metadata": {
    "application/vnd.databricks.v1+cell": {
     "cellMetadata": {},
     "inputWidgets": {},
     "nuid": "bad98956-1d4e-4d7b-9657-58c714d49cb1",
     "showTitle": false,
     "tableResultSettingsMap": {},
     "title": ""
    }
   },
   "source": [
    "# dropna(\"all\", \"any\", \"subset\")"
   ]
  },
  {
   "cell_type": "code",
   "execution_count": 0,
   "metadata": {
    "application/vnd.databricks.v1+cell": {
     "cellMetadata": {
      "byteLimit": 2048000,
      "rowLimit": 10000
     },
     "inputWidgets": {},
     "nuid": "b0ab8403-5058-45ab-b28a-826a23754131",
     "showTitle": false,
     "tableResultSettingsMap": {},
     "title": ""
    }
   },
   "outputs": [
    {
     "output_type": "stream",
     "name": "stdout",
     "output_type": "stream",
     "text": [
      "+---+-----+----+----------+\n| id| name| age|department|\n+---+-----+----+----------+\n|  1|Alice|  25|        HR|\n|  2|  Bob|NULL|   Finance|\n|  3| NULL|  30|        IT|\n|  4|David|  28|      NULL|\n|  5|  Eve|NULL|        HR|\n|  6| NULL|NULL|   Finance|\n|  7|Grace|  29|        IT|\n|  8|Henry|  35|      NULL|\n|  9| NULL|NULL|      NULL|\n| 10|  Ivy|  32|     Sales|\n+---+-----+----+----------+\n\n"
     ]
    },
    {
     "output_type": "display_data",
     "data": {
      "text/html": [
       "<style scoped>\n",
       "  .table-result-container {\n",
       "    max-height: 300px;\n",
       "    overflow: auto;\n",
       "  }\n",
       "  table, th, td {\n",
       "    border: 1px solid black;\n",
       "    border-collapse: collapse;\n",
       "  }\n",
       "  th, td {\n",
       "    padding: 5px;\n",
       "  }\n",
       "  th {\n",
       "    text-align: left;\n",
       "  }\n",
       "</style><div class='table-result-container'><table class='table-result'><thead style='background-color: white'><tr><th>id</th><th>name</th><th>age</th><th>department</th></tr></thead><tbody><tr><td>1</td><td>Alice</td><td>25</td><td>HR</td></tr><tr><td>2</td><td>Bob</td><td>null</td><td>Finance</td></tr><tr><td>3</td><td>null</td><td>30</td><td>IT</td></tr><tr><td>4</td><td>David</td><td>28</td><td>null</td></tr><tr><td>5</td><td>Eve</td><td>null</td><td>HR</td></tr><tr><td>6</td><td>null</td><td>null</td><td>Finance</td></tr><tr><td>7</td><td>Grace</td><td>29</td><td>IT</td></tr><tr><td>8</td><td>Henry</td><td>35</td><td>null</td></tr><tr><td>9</td><td>null</td><td>null</td><td>null</td></tr><tr><td>10</td><td>Ivy</td><td>32</td><td>Sales</td></tr></tbody></table></div>"
      ]
     },
     "metadata": {
      "application/vnd.databricks.v1+output": {
       "addedWidgets": {},
       "aggData": [],
       "aggError": "",
       "aggOverflow": false,
       "aggSchema": [],
       "aggSeriesLimitReached": false,
       "aggType": "",
       "arguments": {},
       "columnCustomDisplayInfos": {},
       "data": [
        [
         1,
         "Alice",
         25,
         "HR"
        ],
        [
         2,
         "Bob",
         null,
         "Finance"
        ],
        [
         3,
         null,
         30,
         "IT"
        ],
        [
         4,
         "David",
         28,
         null
        ],
        [
         5,
         "Eve",
         null,
         "HR"
        ],
        [
         6,
         null,
         null,
         "Finance"
        ],
        [
         7,
         "Grace",
         29,
         "IT"
        ],
        [
         8,
         "Henry",
         35,
         null
        ],
        [
         9,
         null,
         null,
         null
        ],
        [
         10,
         "Ivy",
         32,
         "Sales"
        ]
       ],
       "datasetInfos": [],
       "dbfsResultPath": null,
       "isJsonSchema": true,
       "metadata": {},
       "overflow": false,
       "plotOptions": {
        "customPlotOptions": {},
        "displayType": "table",
        "pivotAggregation": null,
        "pivotColumns": null,
        "xColumns": null,
        "yColumns": null
       },
       "removedWidgets": [],
       "schema": [
        {
         "metadata": "{}",
         "name": "id",
         "type": "\"integer\""
        },
        {
         "metadata": "{}",
         "name": "name",
         "type": "\"string\""
        },
        {
         "metadata": "{}",
         "name": "age",
         "type": "\"integer\""
        },
        {
         "metadata": "{}",
         "name": "department",
         "type": "\"string\""
        }
       ],
       "type": "table"
      }
     },
     "output_type": "display_data"
    },
    {
     "output_type": "display_data",
     "data": {
      "text/html": [
       "<style scoped>\n",
       "  .table-result-container {\n",
       "    max-height: 300px;\n",
       "    overflow: auto;\n",
       "  }\n",
       "  table, th, td {\n",
       "    border: 1px solid black;\n",
       "    border-collapse: collapse;\n",
       "  }\n",
       "  th, td {\n",
       "    padding: 5px;\n",
       "  }\n",
       "  th {\n",
       "    text-align: left;\n",
       "  }\n",
       "</style><div class='table-result-container'><table class='table-result'><thead style='background-color: white'><tr><th>id</th><th>name</th><th>age</th><th>department</th></tr></thead><tbody><tr><td>1</td><td>Alice</td><td>25</td><td>HR</td></tr><tr><td>7</td><td>Grace</td><td>29</td><td>IT</td></tr><tr><td>10</td><td>Ivy</td><td>32</td><td>Sales</td></tr></tbody></table></div>"
      ]
     },
     "metadata": {
      "application/vnd.databricks.v1+output": {
       "addedWidgets": {},
       "aggData": [],
       "aggError": "",
       "aggOverflow": false,
       "aggSchema": [],
       "aggSeriesLimitReached": false,
       "aggType": "",
       "arguments": {},
       "columnCustomDisplayInfos": {},
       "data": [
        [
         1,
         "Alice",
         25,
         "HR"
        ],
        [
         7,
         "Grace",
         29,
         "IT"
        ],
        [
         10,
         "Ivy",
         32,
         "Sales"
        ]
       ],
       "datasetInfos": [],
       "dbfsResultPath": null,
       "isJsonSchema": true,
       "metadata": {},
       "overflow": false,
       "plotOptions": {
        "customPlotOptions": {},
        "displayType": "table",
        "pivotAggregation": null,
        "pivotColumns": null,
        "xColumns": null,
        "yColumns": null
       },
       "removedWidgets": [],
       "schema": [
        {
         "metadata": "{}",
         "name": "id",
         "type": "\"integer\""
        },
        {
         "metadata": "{}",
         "name": "name",
         "type": "\"string\""
        },
        {
         "metadata": "{}",
         "name": "age",
         "type": "\"integer\""
        },
        {
         "metadata": "{}",
         "name": "department",
         "type": "\"string\""
        }
       ],
       "type": "table"
      }
     },
     "output_type": "display_data"
    },
    {
     "output_type": "display_data",
     "data": {
      "text/html": [
       "<style scoped>\n",
       "  .table-result-container {\n",
       "    max-height: 300px;\n",
       "    overflow: auto;\n",
       "  }\n",
       "  table, th, td {\n",
       "    border: 1px solid black;\n",
       "    border-collapse: collapse;\n",
       "  }\n",
       "  th, td {\n",
       "    padding: 5px;\n",
       "  }\n",
       "  th {\n",
       "    text-align: left;\n",
       "  }\n",
       "</style><div class='table-result-container'><table class='table-result'><thead style='background-color: white'><tr><th>id</th><th>name</th><th>age</th><th>department</th></tr></thead><tbody><tr><td>1</td><td>Alice</td><td>25</td><td>HR</td></tr><tr><td>3</td><td>null</td><td>30</td><td>IT</td></tr><tr><td>4</td><td>David</td><td>28</td><td>null</td></tr><tr><td>7</td><td>Grace</td><td>29</td><td>IT</td></tr><tr><td>8</td><td>Henry</td><td>35</td><td>null</td></tr><tr><td>10</td><td>Ivy</td><td>32</td><td>Sales</td></tr></tbody></table></div>"
      ]
     },
     "metadata": {
      "application/vnd.databricks.v1+output": {
       "addedWidgets": {},
       "aggData": [],
       "aggError": "",
       "aggOverflow": false,
       "aggSchema": [],
       "aggSeriesLimitReached": false,
       "aggType": "",
       "arguments": {},
       "columnCustomDisplayInfos": {},
       "data": [
        [
         1,
         "Alice",
         25,
         "HR"
        ],
        [
         3,
         null,
         30,
         "IT"
        ],
        [
         4,
         "David",
         28,
         null
        ],
        [
         7,
         "Grace",
         29,
         "IT"
        ],
        [
         8,
         "Henry",
         35,
         null
        ],
        [
         10,
         "Ivy",
         32,
         "Sales"
        ]
       ],
       "datasetInfos": [],
       "dbfsResultPath": null,
       "isJsonSchema": true,
       "metadata": {},
       "overflow": false,
       "plotOptions": {
        "customPlotOptions": {},
        "displayType": "table",
        "pivotAggregation": null,
        "pivotColumns": null,
        "xColumns": null,
        "yColumns": null
       },
       "removedWidgets": [],
       "schema": [
        {
         "metadata": "{}",
         "name": "id",
         "type": "\"integer\""
        },
        {
         "metadata": "{}",
         "name": "name",
         "type": "\"string\""
        },
        {
         "metadata": "{}",
         "name": "age",
         "type": "\"integer\""
        },
        {
         "metadata": "{}",
         "name": "department",
         "type": "\"string\""
        }
       ],
       "type": "table"
      }
     },
     "output_type": "display_data"
    }
   ],
   "source": [
    "from pyspark.sql import SparkSession\n",
    "from pyspark.sql.functions import lit\n",
    "from pyspark.sql.types import StructType, StructField, StringType, IntegerType\n",
    "\n",
    "# Create Spark session (if not already done)\n",
    "spark = SparkSession.builder.getOrCreate()\n",
    "\n",
    "# Sample data with null values\n",
    "data = [\n",
    "    (1, \"Alice\", 25, \"HR\"),\n",
    "    (2, \"Bob\", None, \"Finance\"),\n",
    "    (3, None, 30, \"IT\"),\n",
    "    (4, \"David\", 28, None),\n",
    "    (5, \"Eve\", None, \"HR\"),\n",
    "    (6, None, None, \"Finance\"),\n",
    "    (7, \"Grace\", 29, \"IT\"),\n",
    "    (8, \"Henry\", 35, None),\n",
    "    (9, None, None, None),\n",
    "    (10, \"Ivy\", 32, \"Sales\")\n",
    "]\n",
    "\n",
    "# Define schema\n",
    "schema = StructType([\n",
    "    StructField(\"id\", IntegerType(), True),\n",
    "    StructField(\"name\", StringType(), True),\n",
    "    StructField(\"age\", IntegerType(), True),\n",
    "    StructField(\"department\", StringType(), True)\n",
    "])\n",
    "\n",
    "# Create DataFrame\n",
    "df = spark.createDataFrame(data, schema)\n",
    "df.show()\n",
    "\n",
    "df.dropna(\"all\").display()\n",
    "df.dropna(\"any\").display()\n",
    "df.dropna(subset = \"age\").display()\n"
   ]
  },
  {
   "cell_type": "markdown",
   "metadata": {
    "application/vnd.databricks.v1+cell": {
     "cellMetadata": {},
     "inputWidgets": {},
     "nuid": "1e2190c7-53ff-4a76-bcf4-e08ea61900ab",
     "showTitle": false,
     "tableResultSettingsMap": {},
     "title": ""
    }
   },
   "source": [
    "# Filling nulls"
   ]
  },
  {
   "cell_type": "code",
   "execution_count": 0,
   "metadata": {
    "application/vnd.databricks.v1+cell": {
     "cellMetadata": {
      "byteLimit": 2048000,
      "rowLimit": 10000
     },
     "inputWidgets": {},
     "nuid": "9629dce0-634e-4a88-9efb-0eeb852c308d",
     "showTitle": false,
     "tableResultSettingsMap": {},
     "title": ""
    }
   },
   "outputs": [
    {
     "output_type": "display_data",
     "data": {
      "text/html": [
       "<style scoped>\n",
       "  .table-result-container {\n",
       "    max-height: 300px;\n",
       "    overflow: auto;\n",
       "  }\n",
       "  table, th, td {\n",
       "    border: 1px solid black;\n",
       "    border-collapse: collapse;\n",
       "  }\n",
       "  th, td {\n",
       "    padding: 5px;\n",
       "  }\n",
       "  th {\n",
       "    text-align: left;\n",
       "  }\n",
       "</style><div class='table-result-container'><table class='table-result'><thead style='background-color: white'><tr><th>id</th><th>name</th><th>age</th><th>department</th></tr></thead><tbody><tr><td>1</td><td>Alice</td><td>25</td><td>HR</td></tr><tr><td>2</td><td>Bob</td><td>null</td><td>Finance</td></tr><tr><td>3</td><td>not available</td><td>30</td><td>IT</td></tr><tr><td>4</td><td>David</td><td>28</td><td>not available</td></tr><tr><td>5</td><td>Eve</td><td>null</td><td>HR</td></tr><tr><td>6</td><td>not available</td><td>null</td><td>Finance</td></tr><tr><td>7</td><td>Grace</td><td>29</td><td>IT</td></tr><tr><td>8</td><td>Henry</td><td>35</td><td>not available</td></tr><tr><td>9</td><td>not available</td><td>null</td><td>not available</td></tr><tr><td>10</td><td>Ivy</td><td>32</td><td>Sales</td></tr></tbody></table></div>"
      ]
     },
     "metadata": {
      "application/vnd.databricks.v1+output": {
       "addedWidgets": {},
       "aggData": [],
       "aggError": "",
       "aggOverflow": false,
       "aggSchema": [],
       "aggSeriesLimitReached": false,
       "aggType": "",
       "arguments": {},
       "columnCustomDisplayInfos": {},
       "data": [
        [
         1,
         "Alice",
         25,
         "HR"
        ],
        [
         2,
         "Bob",
         null,
         "Finance"
        ],
        [
         3,
         "not available",
         30,
         "IT"
        ],
        [
         4,
         "David",
         28,
         "not available"
        ],
        [
         5,
         "Eve",
         null,
         "HR"
        ],
        [
         6,
         "not available",
         null,
         "Finance"
        ],
        [
         7,
         "Grace",
         29,
         "IT"
        ],
        [
         8,
         "Henry",
         35,
         "not available"
        ],
        [
         9,
         "not available",
         null,
         "not available"
        ],
        [
         10,
         "Ivy",
         32,
         "Sales"
        ]
       ],
       "datasetInfos": [],
       "dbfsResultPath": null,
       "isJsonSchema": true,
       "metadata": {},
       "overflow": false,
       "plotOptions": {
        "customPlotOptions": {},
        "displayType": "table",
        "pivotAggregation": null,
        "pivotColumns": null,
        "xColumns": null,
        "yColumns": null
       },
       "removedWidgets": [],
       "schema": [
        {
         "metadata": "{}",
         "name": "id",
         "type": "\"integer\""
        },
        {
         "metadata": "{}",
         "name": "name",
         "type": "\"string\""
        },
        {
         "metadata": "{}",
         "name": "age",
         "type": "\"integer\""
        },
        {
         "metadata": "{}",
         "name": "department",
         "type": "\"string\""
        }
       ],
       "type": "table"
      }
     },
     "output_type": "display_data"
    },
    {
     "output_type": "display_data",
     "data": {
      "text/html": [
       "<style scoped>\n",
       "  .table-result-container {\n",
       "    max-height: 300px;\n",
       "    overflow: auto;\n",
       "  }\n",
       "  table, th, td {\n",
       "    border: 1px solid black;\n",
       "    border-collapse: collapse;\n",
       "  }\n",
       "  th, td {\n",
       "    padding: 5px;\n",
       "  }\n",
       "  th {\n",
       "    text-align: left;\n",
       "  }\n",
       "</style><div class='table-result-container'><table class='table-result'><thead style='background-color: white'><tr><th>id</th><th>name</th><th>age</th><th>department</th></tr></thead><tbody><tr><td>1</td><td>Alice</td><td>25</td><td>HR</td></tr><tr><td>2</td><td>Bob</td><td>not avail</td><td>Finance</td></tr><tr><td>3</td><td>null</td><td>30</td><td>IT</td></tr><tr><td>4</td><td>David</td><td>28</td><td>null</td></tr><tr><td>5</td><td>Eve</td><td>not avail</td><td>HR</td></tr><tr><td>6</td><td>null</td><td>not avail</td><td>Finance</td></tr><tr><td>7</td><td>Grace</td><td>29</td><td>IT</td></tr><tr><td>8</td><td>Henry</td><td>35</td><td>null</td></tr><tr><td>9</td><td>null</td><td>not avail</td><td>null</td></tr><tr><td>10</td><td>Ivy</td><td>32</td><td>Sales</td></tr></tbody></table></div>"
      ]
     },
     "metadata": {
      "application/vnd.databricks.v1+output": {
       "addedWidgets": {},
       "aggData": [],
       "aggError": "",
       "aggOverflow": false,
       "aggSchema": [],
       "aggSeriesLimitReached": false,
       "aggType": "",
       "arguments": {},
       "columnCustomDisplayInfos": {},
       "data": [
        [
         1,
         "Alice",
         "25",
         "HR"
        ],
        [
         2,
         "Bob",
         "not avail",
         "Finance"
        ],
        [
         3,
         null,
         "30",
         "IT"
        ],
        [
         4,
         "David",
         "28",
         null
        ],
        [
         5,
         "Eve",
         "not avail",
         "HR"
        ],
        [
         6,
         null,
         "not avail",
         "Finance"
        ],
        [
         7,
         "Grace",
         "29",
         "IT"
        ],
        [
         8,
         "Henry",
         "35",
         null
        ],
        [
         9,
         null,
         "not avail",
         null
        ],
        [
         10,
         "Ivy",
         "32",
         "Sales"
        ]
       ],
       "datasetInfos": [],
       "dbfsResultPath": null,
       "isJsonSchema": true,
       "metadata": {},
       "overflow": false,
       "plotOptions": {
        "customPlotOptions": {},
        "displayType": "table",
        "pivotAggregation": null,
        "pivotColumns": null,
        "xColumns": null,
        "yColumns": null
       },
       "removedWidgets": [],
       "schema": [
        {
         "metadata": "{}",
         "name": "id",
         "type": "\"integer\""
        },
        {
         "metadata": "{}",
         "name": "name",
         "type": "\"string\""
        },
        {
         "metadata": "{}",
         "name": "age",
         "type": "\"string\""
        },
        {
         "metadata": "{}",
         "name": "department",
         "type": "\"string\""
        }
       ],
       "type": "table"
      }
     },
     "output_type": "display_data"
    }
   ],
   "source": [
    "df.fillna(\"not available\").display()\n",
    "df = df.withColumn(\"age\", df[\"age\"].cast(\"string\"))\n",
    "df.fillna(\"not avail\", subset=[\"age\"]).display()"
   ]
  },
  {
   "cell_type": "markdown",
   "metadata": {
    "application/vnd.databricks.v1+cell": {
     "cellMetadata": {},
     "inputWidgets": {},
     "nuid": "10814516-34b5-4cd5-a78a-1453d3ebdd96",
     "showTitle": false,
     "tableResultSettingsMap": {},
     "title": ""
    }
   },
   "source": [
    "# Split and Indexing"
   ]
  },
  {
   "cell_type": "code",
   "execution_count": 0,
   "metadata": {
    "application/vnd.databricks.v1+cell": {
     "cellMetadata": {
      "byteLimit": 2048000,
      "rowLimit": 10000
     },
     "inputWidgets": {},
     "nuid": "da01d127-c82b-4151-b787-b517d4aae036",
     "showTitle": false,
     "tableResultSettingsMap": {},
     "title": ""
    }
   },
   "outputs": [
    {
     "output_type": "stream",
     "name": "stdout",
     "output_type": "stream",
     "text": [
      "+-----------+--------------------+-------------------------------+\n|full_name  |email               |category_path                  |\n+-----------+--------------------+-------------------------------+\n|John Doe   |john.doe@example.com|Electronics>Mobiles>Smartphones|\n|Alice Smith|alice.smith@abc.com |Clothing>Women>Tops            |\n|Bob Johnson|bob.j@xyz.org       |Electronics>Computers>Laptops  |\n|Mary Lee   |mary.lee@company.net|Home>Furniture>Chairs          |\n|James Bond |james.bond@mi6.uk   |Accessories>Men>Watches        |\n+-----------+--------------------+-------------------------------+\n\n"
     ]
    },
    {
     "output_type": "display_data",
     "data": {
      "text/html": [
       "<style scoped>\n",
       "  .table-result-container {\n",
       "    max-height: 300px;\n",
       "    overflow: auto;\n",
       "  }\n",
       "  table, th, td {\n",
       "    border: 1px solid black;\n",
       "    border-collapse: collapse;\n",
       "  }\n",
       "  th, td {\n",
       "    padding: 5px;\n",
       "  }\n",
       "  th {\n",
       "    text-align: left;\n",
       "  }\n",
       "</style><div class='table-result-container'><table class='table-result'><thead style='background-color: white'><tr><th>full_name</th><th>email</th><th>category_path</th></tr></thead><tbody><tr><td>John Doe</td><td>john.doe@example.com</td><td>List(Electronics, Mobiles, Smartphones)</td></tr><tr><td>Alice Smith</td><td>alice.smith@abc.com</td><td>List(Clothing, Women, Tops)</td></tr><tr><td>Bob Johnson</td><td>bob.j@xyz.org</td><td>List(Electronics, Computers, Laptops)</td></tr><tr><td>Mary Lee</td><td>mary.lee@company.net</td><td>List(Home, Furniture, Chairs)</td></tr><tr><td>James Bond</td><td>james.bond@mi6.uk</td><td>List(Accessories, Men, Watches)</td></tr></tbody></table></div>"
      ]
     },
     "metadata": {
      "application/vnd.databricks.v1+output": {
       "addedWidgets": {},
       "aggData": [],
       "aggError": "",
       "aggOverflow": false,
       "aggSchema": [],
       "aggSeriesLimitReached": false,
       "aggType": "",
       "arguments": {},
       "columnCustomDisplayInfos": {},
       "data": [
        [
         "John Doe",
         "john.doe@example.com",
         [
          "Electronics",
          "Mobiles",
          "Smartphones"
         ]
        ],
        [
         "Alice Smith",
         "alice.smith@abc.com",
         [
          "Clothing",
          "Women",
          "Tops"
         ]
        ],
        [
         "Bob Johnson",
         "bob.j@xyz.org",
         [
          "Electronics",
          "Computers",
          "Laptops"
         ]
        ],
        [
         "Mary Lee",
         "mary.lee@company.net",
         [
          "Home",
          "Furniture",
          "Chairs"
         ]
        ],
        [
         "James Bond",
         "james.bond@mi6.uk",
         [
          "Accessories",
          "Men",
          "Watches"
         ]
        ]
       ],
       "datasetInfos": [],
       "dbfsResultPath": null,
       "isJsonSchema": true,
       "metadata": {},
       "overflow": false,
       "plotOptions": {
        "customPlotOptions": {},
        "displayType": "table",
        "pivotAggregation": null,
        "pivotColumns": null,
        "xColumns": null,
        "yColumns": null
       },
       "removedWidgets": [],
       "schema": [
        {
         "metadata": "{}",
         "name": "full_name",
         "type": "\"string\""
        },
        {
         "metadata": "{}",
         "name": "email",
         "type": "\"string\""
        },
        {
         "metadata": "{}",
         "name": "category_path",
         "type": "{\"containsNull\":false,\"elementType\":\"string\",\"type\":\"array\"}"
        }
       ],
       "type": "table"
      }
     },
     "output_type": "display_data"
    },
    {
     "output_type": "display_data",
     "data": {
      "text/html": [
       "<style scoped>\n",
       "  .table-result-container {\n",
       "    max-height: 300px;\n",
       "    overflow: auto;\n",
       "  }\n",
       "  table, th, td {\n",
       "    border: 1px solid black;\n",
       "    border-collapse: collapse;\n",
       "  }\n",
       "  th, td {\n",
       "    padding: 5px;\n",
       "  }\n",
       "  th {\n",
       "    text-align: left;\n",
       "  }\n",
       "</style><div class='table-result-container'><table class='table-result'><thead style='background-color: white'><tr><th>full_name</th><th>email</th><th>category_path</th></tr></thead><tbody><tr><td>John Doe</td><td>john.doe@example.com</td><td>Smartphones</td></tr><tr><td>Alice Smith</td><td>alice.smith@abc.com</td><td>Tops</td></tr><tr><td>Bob Johnson</td><td>bob.j@xyz.org</td><td>Laptops</td></tr><tr><td>Mary Lee</td><td>mary.lee@company.net</td><td>Chairs</td></tr><tr><td>James Bond</td><td>james.bond@mi6.uk</td><td>Watches</td></tr></tbody></table></div>"
      ]
     },
     "metadata": {
      "application/vnd.databricks.v1+output": {
       "addedWidgets": {},
       "aggData": [],
       "aggError": "",
       "aggOverflow": false,
       "aggSchema": [],
       "aggSeriesLimitReached": false,
       "aggType": "",
       "arguments": {},
       "columnCustomDisplayInfos": {},
       "data": [
        [
         "John Doe",
         "john.doe@example.com",
         "Smartphones"
        ],
        [
         "Alice Smith",
         "alice.smith@abc.com",
         "Tops"
        ],
        [
         "Bob Johnson",
         "bob.j@xyz.org",
         "Laptops"
        ],
        [
         "Mary Lee",
         "mary.lee@company.net",
         "Chairs"
        ],
        [
         "James Bond",
         "james.bond@mi6.uk",
         "Watches"
        ]
       ],
       "datasetInfos": [],
       "dbfsResultPath": null,
       "isJsonSchema": true,
       "metadata": {},
       "overflow": false,
       "plotOptions": {
        "customPlotOptions": {},
        "displayType": "table",
        "pivotAggregation": null,
        "pivotColumns": null,
        "xColumns": null,
        "yColumns": null
       },
       "removedWidgets": [],
       "schema": [
        {
         "metadata": "{}",
         "name": "full_name",
         "type": "\"string\""
        },
        {
         "metadata": "{}",
         "name": "email",
         "type": "\"string\""
        },
        {
         "metadata": "{}",
         "name": "category_path",
         "type": "\"string\""
        }
       ],
       "type": "table"
      }
     },
     "output_type": "display_data"
    }
   ],
   "source": [
    "from pyspark.sql import SparkSession\n",
    "from pyspark.sql.functions import split, col\n",
    "\n",
    "# Start Spark Session\n",
    "spark = SparkSession.builder.getOrCreate()\n",
    "\n",
    "# Sample data\n",
    "data = [\n",
    "    (\"John Doe\", \"john.doe@example.com\", \"Electronics>Mobiles>Smartphones\"),\n",
    "    (\"Alice Smith\", \"alice.smith@abc.com\", \"Clothing>Women>Tops\"),\n",
    "    (\"Bob Johnson\", \"bob.j@xyz.org\", \"Electronics>Computers>Laptops\"),\n",
    "    (\"Mary Lee\", \"mary.lee@company.net\", \"Home>Furniture>Chairs\"),\n",
    "    (\"James Bond\", \"james.bond@mi6.uk\", \"Accessories>Men>Watches\")\n",
    "]\n",
    "\n",
    "# Column names\n",
    "columns = [\"full_name\", \"email\", \"category_path\"]\n",
    "\n",
    "# Create DataFrame\n",
    "df = spark.createDataFrame(data, columns)\n",
    "df.show(truncate=False)\n",
    "#Split\n",
    "df.withColumn(\"category_path\", split(\"category_path\",\">\").alias(\"cat_path\")).display()\n",
    "#Indexing\n",
    "df.withColumn(\"category_path\", split(\"category_path\",\">\")[2].alias(\"cat_path\")).display()\n"
   ]
  },
  {
   "cell_type": "markdown",
   "metadata": {
    "application/vnd.databricks.v1+cell": {
     "cellMetadata": {},
     "inputWidgets": {},
     "nuid": "0a1392f3-a5ef-464c-9cad-8fe993948d0e",
     "showTitle": false,
     "tableResultSettingsMap": {},
     "title": ""
    }
   },
   "source": [
    "# Explode"
   ]
  },
  {
   "cell_type": "code",
   "execution_count": 0,
   "metadata": {
    "application/vnd.databricks.v1+cell": {
     "cellMetadata": {
      "byteLimit": 2048000,
      "rowLimit": 10000
     },
     "inputWidgets": {},
     "nuid": "5ea8bce5-c93c-49c4-bff5-145db3b2fe6e",
     "showTitle": false,
     "tableResultSettingsMap": {},
     "title": ""
    }
   },
   "outputs": [
    {
     "output_type": "display_data",
     "data": {
      "text/html": [
       "<style scoped>\n",
       "  .table-result-container {\n",
       "    max-height: 300px;\n",
       "    overflow: auto;\n",
       "  }\n",
       "  table, th, td {\n",
       "    border: 1px solid black;\n",
       "    border-collapse: collapse;\n",
       "  }\n",
       "  th, td {\n",
       "    padding: 5px;\n",
       "  }\n",
       "  th {\n",
       "    text-align: left;\n",
       "  }\n",
       "</style><div class='table-result-container'><table class='table-result'><thead style='background-color: white'><tr><th>full_name</th><th>email</th><th>category_path</th></tr></thead><tbody><tr><td>John Doe</td><td>john.doe@example.com</td><td>Electronics</td></tr><tr><td>John Doe</td><td>john.doe@example.com</td><td>Mobiles</td></tr><tr><td>John Doe</td><td>john.doe@example.com</td><td>Smartphones</td></tr><tr><td>Alice Smith</td><td>alice.smith@abc.com</td><td>Clothing</td></tr><tr><td>Alice Smith</td><td>alice.smith@abc.com</td><td>Women</td></tr><tr><td>Alice Smith</td><td>alice.smith@abc.com</td><td>Tops</td></tr><tr><td>Bob Johnson</td><td>bob.j@xyz.org</td><td>Electronics</td></tr><tr><td>Bob Johnson</td><td>bob.j@xyz.org</td><td>Computers</td></tr><tr><td>Bob Johnson</td><td>bob.j@xyz.org</td><td>Laptops</td></tr><tr><td>Mary Lee</td><td>mary.lee@company.net</td><td>Home</td></tr><tr><td>Mary Lee</td><td>mary.lee@company.net</td><td>Furniture</td></tr><tr><td>Mary Lee</td><td>mary.lee@company.net</td><td>Chairs</td></tr><tr><td>James Bond</td><td>james.bond@mi6.uk</td><td>Accessories</td></tr><tr><td>James Bond</td><td>james.bond@mi6.uk</td><td>Men</td></tr><tr><td>James Bond</td><td>james.bond@mi6.uk</td><td>Watches</td></tr></tbody></table></div>"
      ]
     },
     "metadata": {
      "application/vnd.databricks.v1+output": {
       "addedWidgets": {},
       "aggData": [],
       "aggError": "",
       "aggOverflow": false,
       "aggSchema": [],
       "aggSeriesLimitReached": false,
       "aggType": "",
       "arguments": {},
       "columnCustomDisplayInfos": {},
       "data": [
        [
         "John Doe",
         "john.doe@example.com",
         "Electronics"
        ],
        [
         "John Doe",
         "john.doe@example.com",
         "Mobiles"
        ],
        [
         "John Doe",
         "john.doe@example.com",
         "Smartphones"
        ],
        [
         "Alice Smith",
         "alice.smith@abc.com",
         "Clothing"
        ],
        [
         "Alice Smith",
         "alice.smith@abc.com",
         "Women"
        ],
        [
         "Alice Smith",
         "alice.smith@abc.com",
         "Tops"
        ],
        [
         "Bob Johnson",
         "bob.j@xyz.org",
         "Electronics"
        ],
        [
         "Bob Johnson",
         "bob.j@xyz.org",
         "Computers"
        ],
        [
         "Bob Johnson",
         "bob.j@xyz.org",
         "Laptops"
        ],
        [
         "Mary Lee",
         "mary.lee@company.net",
         "Home"
        ],
        [
         "Mary Lee",
         "mary.lee@company.net",
         "Furniture"
        ],
        [
         "Mary Lee",
         "mary.lee@company.net",
         "Chairs"
        ],
        [
         "James Bond",
         "james.bond@mi6.uk",
         "Accessories"
        ],
        [
         "James Bond",
         "james.bond@mi6.uk",
         "Men"
        ],
        [
         "James Bond",
         "james.bond@mi6.uk",
         "Watches"
        ]
       ],
       "datasetInfos": [],
       "dbfsResultPath": null,
       "isJsonSchema": true,
       "metadata": {},
       "overflow": false,
       "plotOptions": {
        "customPlotOptions": {},
        "displayType": "table",
        "pivotAggregation": null,
        "pivotColumns": null,
        "xColumns": null,
        "yColumns": null
       },
       "removedWidgets": [],
       "schema": [
        {
         "metadata": "{}",
         "name": "full_name",
         "type": "\"string\""
        },
        {
         "metadata": "{}",
         "name": "email",
         "type": "\"string\""
        },
        {
         "metadata": "{}",
         "name": "category_path",
         "type": "\"string\""
        }
       ],
       "type": "table"
      }
     },
     "output_type": "display_data"
    }
   ],
   "source": [
    "from pyspark.sql.functions import split, explode\n",
    "\n",
    "df_exp = df.withColumn(\"category_path\", split(\"category_path\",\">\").alias(\"cat_path\"))\n",
    "df_exp.withColumn(\"category_path\", explode(\"category_path\")).display()\n"
   ]
  },
  {
   "cell_type": "markdown",
   "metadata": {
    "application/vnd.databricks.v1+cell": {
     "cellMetadata": {},
     "inputWidgets": {},
     "nuid": "c57bca60-9d5d-40f5-8480-ac6b1592a77e",
     "showTitle": false,
     "tableResultSettingsMap": {},
     "title": ""
    }
   },
   "source": [
    "# Array_Contains"
   ]
  },
  {
   "cell_type": "code",
   "execution_count": 0,
   "metadata": {
    "application/vnd.databricks.v1+cell": {
     "cellMetadata": {
      "byteLimit": 2048000,
      "rowLimit": 10000
     },
     "inputWidgets": {},
     "nuid": "b34613d8-9990-4581-a5d3-3883cdf29b61",
     "showTitle": false,
     "tableResultSettingsMap": {},
     "title": ""
    }
   },
   "outputs": [
    {
     "output_type": "display_data",
     "data": {
      "text/html": [
       "<style scoped>\n",
       "  .table-result-container {\n",
       "    max-height: 300px;\n",
       "    overflow: auto;\n",
       "  }\n",
       "  table, th, td {\n",
       "    border: 1px solid black;\n",
       "    border-collapse: collapse;\n",
       "  }\n",
       "  th, td {\n",
       "    padding: 5px;\n",
       "  }\n",
       "  th {\n",
       "    text-align: left;\n",
       "  }\n",
       "</style><div class='table-result-container'><table class='table-result'><thead style='background-color: white'><tr><th>full_name</th><th>email</th><th>category_path</th><th>flag</th></tr></thead><tbody><tr><td>John Doe</td><td>john.doe@example.com</td><td>List(Electronics, Mobiles, Smartphones)</td><td>true</td></tr><tr><td>Alice Smith</td><td>alice.smith@abc.com</td><td>List(Clothing, Women, Tops)</td><td>false</td></tr><tr><td>Bob Johnson</td><td>bob.j@xyz.org</td><td>List(Electronics, Computers, Laptops)</td><td>true</td></tr><tr><td>Mary Lee</td><td>mary.lee@company.net</td><td>List(Home, Furniture, Chairs)</td><td>false</td></tr><tr><td>James Bond</td><td>james.bond@mi6.uk</td><td>List(Accessories, Men, Watches)</td><td>false</td></tr></tbody></table></div>"
      ]
     },
     "metadata": {
      "application/vnd.databricks.v1+output": {
       "addedWidgets": {},
       "aggData": [],
       "aggError": "",
       "aggOverflow": false,
       "aggSchema": [],
       "aggSeriesLimitReached": false,
       "aggType": "",
       "arguments": {},
       "columnCustomDisplayInfos": {},
       "data": [
        [
         "John Doe",
         "john.doe@example.com",
         [
          "Electronics",
          "Mobiles",
          "Smartphones"
         ],
         true
        ],
        [
         "Alice Smith",
         "alice.smith@abc.com",
         [
          "Clothing",
          "Women",
          "Tops"
         ],
         false
        ],
        [
         "Bob Johnson",
         "bob.j@xyz.org",
         [
          "Electronics",
          "Computers",
          "Laptops"
         ],
         true
        ],
        [
         "Mary Lee",
         "mary.lee@company.net",
         [
          "Home",
          "Furniture",
          "Chairs"
         ],
         false
        ],
        [
         "James Bond",
         "james.bond@mi6.uk",
         [
          "Accessories",
          "Men",
          "Watches"
         ],
         false
        ]
       ],
       "datasetInfos": [],
       "dbfsResultPath": null,
       "isJsonSchema": true,
       "metadata": {},
       "overflow": false,
       "plotOptions": {
        "customPlotOptions": {},
        "displayType": "table",
        "pivotAggregation": null,
        "pivotColumns": null,
        "xColumns": null,
        "yColumns": null
       },
       "removedWidgets": [],
       "schema": [
        {
         "metadata": "{}",
         "name": "full_name",
         "type": "\"string\""
        },
        {
         "metadata": "{}",
         "name": "email",
         "type": "\"string\""
        },
        {
         "metadata": "{}",
         "name": "category_path",
         "type": "{\"containsNull\":false,\"elementType\":\"string\",\"type\":\"array\"}"
        },
        {
         "metadata": "{}",
         "name": "flag",
         "type": "\"boolean\""
        }
       ],
       "type": "table"
      }
     },
     "output_type": "display_data"
    }
   ],
   "source": [
    "from pyspark.sql.functions import array_contains\n",
    "\n",
    "df_exp.withColumn(\"flag\",array_contains(\"category_path\",\"Electronics\")).display()\n"
   ]
  },
  {
   "cell_type": "markdown",
   "metadata": {
    "application/vnd.databricks.v1+cell": {
     "cellMetadata": {},
     "inputWidgets": {},
     "nuid": "5b3ed5b2-aff8-4d80-aec9-e636cbea66d5",
     "showTitle": false,
     "tableResultSettingsMap": {},
     "title": ""
    }
   },
   "source": [
    "# GroupBy"
   ]
  },
  {
   "cell_type": "markdown",
   "metadata": {
    "application/vnd.databricks.v1+cell": {
     "cellMetadata": {},
     "inputWidgets": {},
     "nuid": "5f977087-34f4-40ec-8bce-fa9612df742d",
     "showTitle": false,
     "tableResultSettingsMap": {},
     "title": ""
    }
   },
   "source": [
    "# scenario 1"
   ]
  },
  {
   "cell_type": "code",
   "execution_count": 0,
   "metadata": {
    "application/vnd.databricks.v1+cell": {
     "cellMetadata": {
      "byteLimit": 2048000,
      "rowLimit": 10000
     },
     "inputWidgets": {},
     "nuid": "7fe2bf4b-6205-4bc7-9972-6fca57472567",
     "showTitle": false,
     "tableResultSettingsMap": {},
     "title": ""
    }
   },
   "outputs": [
    {
     "output_type": "display_data",
     "data": {
      "text/html": [
       "<style scoped>\n",
       "  .table-result-container {\n",
       "    max-height: 300px;\n",
       "    overflow: auto;\n",
       "  }\n",
       "  table, th, td {\n",
       "    border: 1px solid black;\n",
       "    border-collapse: collapse;\n",
       "  }\n",
       "  th, td {\n",
       "    padding: 5px;\n",
       "  }\n",
       "  th {\n",
       "    text-align: left;\n",
       "  }\n",
       "</style><div class='table-result-container'><table class='table-result'><thead style='background-color: white'><tr><th>transaction_id</th><th>customer</th><th>region</th><th>category</th><th>amount</th></tr></thead><tbody><tr><td>1</td><td>Alice</td><td>North</td><td>Electronics</td><td>1200</td></tr><tr><td>2</td><td>Bob</td><td>South</td><td>Clothing</td><td>800</td></tr><tr><td>3</td><td>Alice</td><td>North</td><td>Clothing</td><td>300</td></tr><tr><td>4</td><td>David</td><td>East</td><td>Electronics</td><td>1500</td></tr><tr><td>5</td><td>Alice</td><td>North</td><td>Electronics</td><td>2000</td></tr><tr><td>6</td><td>Bob</td><td>South</td><td>Electronics</td><td>2200</td></tr><tr><td>7</td><td>Carol</td><td>West</td><td>Clothing</td><td>400</td></tr><tr><td>8</td><td>David</td><td>East</td><td>Clothing</td><td>700</td></tr><tr><td>9</td><td>Carol</td><td>West</td><td>Electronics</td><td>1300</td></tr><tr><td>10</td><td>Bob</td><td>South</td><td>Clothing</td><td>900</td></tr></tbody></table></div>"
      ]
     },
     "metadata": {
      "application/vnd.databricks.v1+output": {
       "addedWidgets": {},
       "aggData": [],
       "aggError": "",
       "aggOverflow": false,
       "aggSchema": [],
       "aggSeriesLimitReached": false,
       "aggType": "",
       "arguments": {},
       "columnCustomDisplayInfos": {},
       "data": [
        [
         1,
         "Alice",
         "North",
         "Electronics",
         1200
        ],
        [
         2,
         "Bob",
         "South",
         "Clothing",
         800
        ],
        [
         3,
         "Alice",
         "North",
         "Clothing",
         300
        ],
        [
         4,
         "David",
         "East",
         "Electronics",
         1500
        ],
        [
         5,
         "Alice",
         "North",
         "Electronics",
         2000
        ],
        [
         6,
         "Bob",
         "South",
         "Electronics",
         2200
        ],
        [
         7,
         "Carol",
         "West",
         "Clothing",
         400
        ],
        [
         8,
         "David",
         "East",
         "Clothing",
         700
        ],
        [
         9,
         "Carol",
         "West",
         "Electronics",
         1300
        ],
        [
         10,
         "Bob",
         "South",
         "Clothing",
         900
        ]
       ],
       "datasetInfos": [],
       "dbfsResultPath": null,
       "isJsonSchema": true,
       "metadata": {},
       "overflow": false,
       "plotOptions": {
        "customPlotOptions": {},
        "displayType": "table",
        "pivotAggregation": null,
        "pivotColumns": null,
        "xColumns": null,
        "yColumns": null
       },
       "removedWidgets": [],
       "schema": [
        {
         "metadata": "{}",
         "name": "transaction_id",
         "type": "\"long\""
        },
        {
         "metadata": "{}",
         "name": "customer",
         "type": "\"string\""
        },
        {
         "metadata": "{}",
         "name": "region",
         "type": "\"string\""
        },
        {
         "metadata": "{}",
         "name": "category",
         "type": "\"string\""
        },
        {
         "metadata": "{}",
         "name": "amount",
         "type": "\"long\""
        }
       ],
       "type": "table"
      }
     },
     "output_type": "display_data"
    },
    {
     "output_type": "display_data",
     "data": {
      "text/html": [
       "<style scoped>\n",
       "  .table-result-container {\n",
       "    max-height: 300px;\n",
       "    overflow: auto;\n",
       "  }\n",
       "  table, th, td {\n",
       "    border: 1px solid black;\n",
       "    border-collapse: collapse;\n",
       "  }\n",
       "  th, td {\n",
       "    padding: 5px;\n",
       "  }\n",
       "  th {\n",
       "    text-align: left;\n",
       "  }\n",
       "</style><div class='table-result-container'><table class='table-result'><thead style='background-color: white'><tr><th>category</th><th>total_amount</th></tr></thead><tbody><tr><td>Electronics</td><td>8200</td></tr><tr><td>Clothing</td><td>3100</td></tr></tbody></table></div>"
      ]
     },
     "metadata": {
      "application/vnd.databricks.v1+output": {
       "addedWidgets": {},
       "aggData": [],
       "aggError": "",
       "aggOverflow": false,
       "aggSchema": [],
       "aggSeriesLimitReached": false,
       "aggType": "",
       "arguments": {},
       "columnCustomDisplayInfos": {},
       "data": [
        [
         "Electronics",
         8200
        ],
        [
         "Clothing",
         3100
        ]
       ],
       "datasetInfos": [],
       "dbfsResultPath": null,
       "isJsonSchema": true,
       "metadata": {},
       "overflow": false,
       "plotOptions": {
        "customPlotOptions": {},
        "displayType": "table",
        "pivotAggregation": null,
        "pivotColumns": null,
        "xColumns": null,
        "yColumns": null
       },
       "removedWidgets": [],
       "schema": [
        {
         "metadata": "{}",
         "name": "category",
         "type": "\"string\""
        },
        {
         "metadata": "{}",
         "name": "total_amount",
         "type": "\"long\""
        }
       ],
       "type": "table"
      }
     },
     "output_type": "display_data"
    },
    {
     "output_type": "display_data",
     "data": {
      "text/html": [
       "<style scoped>\n",
       "  .table-result-container {\n",
       "    max-height: 300px;\n",
       "    overflow: auto;\n",
       "  }\n",
       "  table, th, td {\n",
       "    border: 1px solid black;\n",
       "    border-collapse: collapse;\n",
       "  }\n",
       "  th, td {\n",
       "    padding: 5px;\n",
       "  }\n",
       "  th {\n",
       "    text-align: left;\n",
       "  }\n",
       "</style><div class='table-result-container'><table class='table-result'><thead style='background-color: white'><tr><th>category</th><th>avg_amouny</th></tr></thead><tbody><tr><td>Electronics</td><td>1640.0</td></tr><tr><td>Clothing</td><td>620.0</td></tr></tbody></table></div>"
      ]
     },
     "metadata": {
      "application/vnd.databricks.v1+output": {
       "addedWidgets": {},
       "aggData": [],
       "aggError": "",
       "aggOverflow": false,
       "aggSchema": [],
       "aggSeriesLimitReached": false,
       "aggType": "",
       "arguments": {},
       "columnCustomDisplayInfos": {},
       "data": [
        [
         "Electronics",
         1640.0
        ],
        [
         "Clothing",
         620.0
        ]
       ],
       "datasetInfos": [],
       "dbfsResultPath": null,
       "isJsonSchema": true,
       "metadata": {},
       "overflow": false,
       "plotOptions": {
        "customPlotOptions": {},
        "displayType": "table",
        "pivotAggregation": null,
        "pivotColumns": null,
        "xColumns": null,
        "yColumns": null
       },
       "removedWidgets": [],
       "schema": [
        {
         "metadata": "{}",
         "name": "category",
         "type": "\"string\""
        },
        {
         "metadata": "{}",
         "name": "avg_amouny",
         "type": "\"double\""
        }
       ],
       "type": "table"
      }
     },
     "output_type": "display_data"
    },
    {
     "output_type": "display_data",
     "data": {
      "text/html": [
       "<style scoped>\n",
       "  .table-result-container {\n",
       "    max-height: 300px;\n",
       "    overflow: auto;\n",
       "  }\n",
       "  table, th, td {\n",
       "    border: 1px solid black;\n",
       "    border-collapse: collapse;\n",
       "  }\n",
       "  th, td {\n",
       "    padding: 5px;\n",
       "  }\n",
       "  th {\n",
       "    text-align: left;\n",
       "  }\n",
       "</style><div class='table-result-container'><table class='table-result'><thead style='background-color: white'><tr><th>region</th><th>category</th><th>total</th></tr></thead><tbody><tr><td>North</td><td>Electronics</td><td>3200</td></tr><tr><td>South</td><td>Clothing</td><td>1700</td></tr><tr><td>North</td><td>Clothing</td><td>300</td></tr><tr><td>East</td><td>Electronics</td><td>1500</td></tr><tr><td>South</td><td>Electronics</td><td>2200</td></tr><tr><td>West</td><td>Clothing</td><td>400</td></tr><tr><td>East</td><td>Clothing</td><td>700</td></tr><tr><td>West</td><td>Electronics</td><td>1300</td></tr></tbody></table></div>"
      ]
     },
     "metadata": {
      "application/vnd.databricks.v1+output": {
       "addedWidgets": {},
       "aggData": [],
       "aggError": "",
       "aggOverflow": false,
       "aggSchema": [],
       "aggSeriesLimitReached": false,
       "aggType": "",
       "arguments": {},
       "columnCustomDisplayInfos": {},
       "data": [
        [
         "North",
         "Electronics",
         3200
        ],
        [
         "South",
         "Clothing",
         1700
        ],
        [
         "North",
         "Clothing",
         300
        ],
        [
         "East",
         "Electronics",
         1500
        ],
        [
         "South",
         "Electronics",
         2200
        ],
        [
         "West",
         "Clothing",
         400
        ],
        [
         "East",
         "Clothing",
         700
        ],
        [
         "West",
         "Electronics",
         1300
        ]
       ],
       "datasetInfos": [],
       "dbfsResultPath": null,
       "isJsonSchema": true,
       "metadata": {},
       "overflow": false,
       "plotOptions": {
        "customPlotOptions": {},
        "displayType": "table",
        "pivotAggregation": null,
        "pivotColumns": null,
        "xColumns": null,
        "yColumns": null
       },
       "removedWidgets": [],
       "schema": [
        {
         "metadata": "{}",
         "name": "region",
         "type": "\"string\""
        },
        {
         "metadata": "{}",
         "name": "category",
         "type": "\"string\""
        },
        {
         "metadata": "{}",
         "name": "total",
         "type": "\"long\""
        }
       ],
       "type": "table"
      }
     },
     "output_type": "display_data"
    },
    {
     "output_type": "display_data",
     "data": {
      "text/html": [
       "<style scoped>\n",
       "  .table-result-container {\n",
       "    max-height: 300px;\n",
       "    overflow: auto;\n",
       "  }\n",
       "  table, th, td {\n",
       "    border: 1px solid black;\n",
       "    border-collapse: collapse;\n",
       "  }\n",
       "  th, td {\n",
       "    padding: 5px;\n",
       "  }\n",
       "  th {\n",
       "    text-align: left;\n",
       "  }\n",
       "</style><div class='table-result-container'><table class='table-result'><thead style='background-color: white'><tr><th>region</th><th>category</th><th>total</th><th>avg_amt</th></tr></thead><tbody><tr><td>North</td><td>Electronics</td><td>3200</td><td>1600.0</td></tr><tr><td>South</td><td>Clothing</td><td>1700</td><td>850.0</td></tr><tr><td>North</td><td>Clothing</td><td>300</td><td>300.0</td></tr><tr><td>East</td><td>Electronics</td><td>1500</td><td>1500.0</td></tr><tr><td>South</td><td>Electronics</td><td>2200</td><td>2200.0</td></tr><tr><td>West</td><td>Clothing</td><td>400</td><td>400.0</td></tr><tr><td>East</td><td>Clothing</td><td>700</td><td>700.0</td></tr><tr><td>West</td><td>Electronics</td><td>1300</td><td>1300.0</td></tr></tbody></table></div>"
      ]
     },
     "metadata": {
      "application/vnd.databricks.v1+output": {
       "addedWidgets": {},
       "aggData": [],
       "aggError": "",
       "aggOverflow": false,
       "aggSchema": [],
       "aggSeriesLimitReached": false,
       "aggType": "",
       "arguments": {},
       "columnCustomDisplayInfos": {},
       "data": [
        [
         "North",
         "Electronics",
         3200,
         1600.0
        ],
        [
         "South",
         "Clothing",
         1700,
         850.0
        ],
        [
         "North",
         "Clothing",
         300,
         300.0
        ],
        [
         "East",
         "Electronics",
         1500,
         1500.0
        ],
        [
         "South",
         "Electronics",
         2200,
         2200.0
        ],
        [
         "West",
         "Clothing",
         400,
         400.0
        ],
        [
         "East",
         "Clothing",
         700,
         700.0
        ],
        [
         "West",
         "Electronics",
         1300,
         1300.0
        ]
       ],
       "datasetInfos": [],
       "dbfsResultPath": null,
       "isJsonSchema": true,
       "metadata": {},
       "overflow": false,
       "plotOptions": {
        "customPlotOptions": {},
        "displayType": "table",
        "pivotAggregation": null,
        "pivotColumns": null,
        "xColumns": null,
        "yColumns": null
       },
       "removedWidgets": [],
       "schema": [
        {
         "metadata": "{}",
         "name": "region",
         "type": "\"string\""
        },
        {
         "metadata": "{}",
         "name": "category",
         "type": "\"string\""
        },
        {
         "metadata": "{}",
         "name": "total",
         "type": "\"long\""
        },
        {
         "metadata": "{}",
         "name": "avg_amt",
         "type": "\"double\""
        }
       ],
       "type": "table"
      }
     },
     "output_type": "display_data"
    }
   ],
   "source": [
    "from pyspark.sql import SparkSession\n",
    "from pyspark.sql.functions import *\n",
    "\n",
    "# Start Spark Session\n",
    "spark = SparkSession.builder.getOrCreate()\n",
    "\n",
    "# Sample data\n",
    "data = [\n",
    "    (1, \"Alice\", \"North\", \"Electronics\", 1200),\n",
    "    (2, \"Bob\", \"South\", \"Clothing\", 800),\n",
    "    (3, \"Alice\", \"North\", \"Clothing\", 300),\n",
    "    (4, \"David\", \"East\", \"Electronics\", 1500),\n",
    "    (5, \"Alice\", \"North\", \"Electronics\", 2000),\n",
    "    (6, \"Bob\", \"South\", \"Electronics\", 2200),\n",
    "    (7, \"Carol\", \"West\", \"Clothing\", 400),\n",
    "    (8, \"David\", \"East\", \"Clothing\", 700),\n",
    "    (9, \"Carol\", \"West\", \"Electronics\", 1300),\n",
    "    (10, \"Bob\", \"South\", \"Clothing\", 900),\n",
    "]\n",
    "\n",
    "columns = [\"transaction_id\", \"customer\", \"region\", \"category\", \"amount\"]\n",
    "\n",
    "# Create DataFrame\n",
    "df = spark.createDataFrame(data, columns)\n",
    "df.display()\n",
    "\n",
    "# Group by category and sum amount\n",
    "df.groupBy(\"category\").agg(sum(\"amount\").alias(\"total_amount\")).display()\n",
    "\n",
    "# Group by category and avg amount\n",
    "df.groupBy(\"category\").agg(avg(\"amount\").alias(\"avg_amouny\")).display()\n",
    "\n",
    "# Group by 2 columns category and region \n",
    "df.groupBy(\"region\",\"category\").agg(sum(\"amount\").alias(\"total\")).display()\n",
    "\n",
    "# Group by 2 columns and 2 aggregation \n",
    "df.groupBy(\"region\",\"category\").agg(sum(\"amount\").alias(\"total\"), avg(\"amount\").alias(\"avg_amt\")).display()\n",
    "\n",
    "\n"
   ]
  },
  {
   "cell_type": "markdown",
   "metadata": {
    "application/vnd.databricks.v1+cell": {
     "cellMetadata": {},
     "inputWidgets": {},
     "nuid": "ac544d57-25ed-41ad-b987-c7821f98d9c3",
     "showTitle": false,
     "tableResultSettingsMap": {},
     "title": ""
    }
   },
   "source": [
    "# Collect_list : make all the entity as list"
   ]
  },
  {
   "cell_type": "code",
   "execution_count": 0,
   "metadata": {
    "application/vnd.databricks.v1+cell": {
     "cellMetadata": {
      "byteLimit": 2048000,
      "rowLimit": 10000
     },
     "inputWidgets": {},
     "nuid": "fbbd5dff-85bc-4f46-af64-b2dd0e874e05",
     "showTitle": false,
     "tableResultSettingsMap": {},
     "title": ""
    }
   },
   "outputs": [
    {
     "output_type": "stream",
     "name": "stdout",
     "output_type": "stream",
     "text": [
      "+-----+------+\n| user|  book|\n+-----+------+\n|user1|Book 1|\n|user1|Book 2|\n|user1|Book 3|\n|user2|Book 1|\n|user2|Book 2|\n|user2|Book 3|\n|user3|Book 1|\n|user3|Book 2|\n|user3|Book 3|\n+-----+------+\n\n"
     ]
    },
    {
     "output_type": "display_data",
     "data": {
      "text/html": [
       "<style scoped>\n",
       "  .table-result-container {\n",
       "    max-height: 300px;\n",
       "    overflow: auto;\n",
       "  }\n",
       "  table, th, td {\n",
       "    border: 1px solid black;\n",
       "    border-collapse: collapse;\n",
       "  }\n",
       "  th, td {\n",
       "    padding: 5px;\n",
       "  }\n",
       "  th {\n",
       "    text-align: left;\n",
       "  }\n",
       "</style><div class='table-result-container'><table class='table-result'><thead style='background-color: white'><tr><th>user</th><th>collected</th></tr></thead><tbody><tr><td>user1</td><td>List(Book 1, Book 2, Book 3)</td></tr><tr><td>user2</td><td>List(Book 1, Book 2, Book 3)</td></tr><tr><td>user3</td><td>List(Book 1, Book 2, Book 3)</td></tr></tbody></table></div>"
      ]
     },
     "metadata": {
      "application/vnd.databricks.v1+output": {
       "addedWidgets": {},
       "aggData": [],
       "aggError": "",
       "aggOverflow": false,
       "aggSchema": [],
       "aggSeriesLimitReached": false,
       "aggType": "",
       "arguments": {},
       "columnCustomDisplayInfos": {},
       "data": [
        [
         "user1",
         [
          "Book 1",
          "Book 2",
          "Book 3"
         ]
        ],
        [
         "user2",
         [
          "Book 1",
          "Book 2",
          "Book 3"
         ]
        ],
        [
         "user3",
         [
          "Book 1",
          "Book 2",
          "Book 3"
         ]
        ]
       ],
       "datasetInfos": [],
       "dbfsResultPath": null,
       "isJsonSchema": true,
       "metadata": {},
       "overflow": false,
       "plotOptions": {
        "customPlotOptions": {},
        "displayType": "table",
        "pivotAggregation": null,
        "pivotColumns": null,
        "xColumns": null,
        "yColumns": null
       },
       "removedWidgets": [],
       "schema": [
        {
         "metadata": "{}",
         "name": "user",
         "type": "\"string\""
        },
        {
         "metadata": "{}",
         "name": "collected",
         "type": "{\"containsNull\":false,\"elementType\":\"string\",\"type\":\"array\"}"
        }
       ],
       "type": "table"
      }
     },
     "output_type": "display_data"
    }
   ],
   "source": [
    "from pyspark.sql import SparkSession\n",
    "\n",
    "# Start Spark session\n",
    "spark = SparkSession.builder.getOrCreate()\n",
    "\n",
    "# Sample data: (user, book)\n",
    "data = [\n",
    "    (\"user1\", \"Book 1\"),\n",
    "    (\"user1\", \"Book 2\"),\n",
    "    (\"user1\", \"Book 3\"),\n",
    "    (\"user2\", \"Book 1\"),\n",
    "    (\"user2\", \"Book 2\"),\n",
    "    (\"user2\", \"Book 3\"),\n",
    "    (\"user3\", \"Book 1\"),\n",
    "    (\"user3\", \"Book 2\"),\n",
    "    (\"user3\", \"Book 3\"),\n",
    "]\n",
    "\n",
    "# Create DataFrame\n",
    "columns = [\"user\", \"book\"]\n",
    "df = spark.createDataFrame(data, columns)\n",
    "df.show()\n",
    "df.groupBy(\"user\").agg(collect_list(\"book\").alias(\"collected\")).display()\n"
   ]
  },
  {
   "cell_type": "markdown",
   "metadata": {
    "application/vnd.databricks.v1+cell": {
     "cellMetadata": {},
     "inputWidgets": {},
     "nuid": "03c40dde-006d-490d-8707-5605867bf904",
     "showTitle": false,
     "tableResultSettingsMap": {},
     "title": ""
    }
   },
   "source": [
    "# Pivot"
   ]
  },
  {
   "cell_type": "code",
   "execution_count": 0,
   "metadata": {
    "application/vnd.databricks.v1+cell": {
     "cellMetadata": {
      "byteLimit": 2048000,
      "rowLimit": 10000
     },
     "inputWidgets": {},
     "nuid": "2a019dec-f064-47ec-a8fe-3bc13e350f3f",
     "showTitle": false,
     "tableResultSettingsMap": {},
     "title": ""
    }
   },
   "outputs": [
    {
     "output_type": "display_data",
     "data": {
      "text/html": [
       "<style scoped>\n",
       "  .table-result-container {\n",
       "    max-height: 300px;\n",
       "    overflow: auto;\n",
       "  }\n",
       "  table, th, td {\n",
       "    border: 1px solid black;\n",
       "    border-collapse: collapse;\n",
       "  }\n",
       "  th, td {\n",
       "    padding: 5px;\n",
       "  }\n",
       "  th {\n",
       "    text-align: left;\n",
       "  }\n",
       "</style><div class='table-result-container'><table class='table-result'><thead style='background-color: white'><tr><th>region</th><th>month</th><th>sales</th></tr></thead><tbody><tr><td>North</td><td>Jan</td><td>1000</td></tr><tr><td>North</td><td>Feb</td><td>1200</td></tr><tr><td>North</td><td>Mar</td><td>900</td></tr><tr><td>South</td><td>Jan</td><td>1100</td></tr><tr><td>South</td><td>Feb</td><td>1050</td></tr><tr><td>South</td><td>Mar</td><td>1150</td></tr><tr><td>East</td><td>Jan</td><td>950</td></tr><tr><td>East</td><td>Feb</td><td>1000</td></tr><tr><td>East</td><td>Mar</td><td>980</td></tr><tr><td>West</td><td>Jan</td><td>1030</td></tr><tr><td>West</td><td>Feb</td><td>1070</td></tr><tr><td>West</td><td>Mar</td><td>990</td></tr></tbody></table></div>"
      ]
     },
     "metadata": {
      "application/vnd.databricks.v1+output": {
       "addedWidgets": {},
       "aggData": [],
       "aggError": "",
       "aggOverflow": false,
       "aggSchema": [],
       "aggSeriesLimitReached": false,
       "aggType": "",
       "arguments": {},
       "columnCustomDisplayInfos": {},
       "data": [
        [
         "North",
         "Jan",
         1000
        ],
        [
         "North",
         "Feb",
         1200
        ],
        [
         "North",
         "Mar",
         900
        ],
        [
         "South",
         "Jan",
         1100
        ],
        [
         "South",
         "Feb",
         1050
        ],
        [
         "South",
         "Mar",
         1150
        ],
        [
         "East",
         "Jan",
         950
        ],
        [
         "East",
         "Feb",
         1000
        ],
        [
         "East",
         "Mar",
         980
        ],
        [
         "West",
         "Jan",
         1030
        ],
        [
         "West",
         "Feb",
         1070
        ],
        [
         "West",
         "Mar",
         990
        ]
       ],
       "datasetInfos": [],
       "dbfsResultPath": null,
       "isJsonSchema": true,
       "metadata": {},
       "overflow": false,
       "plotOptions": {
        "customPlotOptions": {},
        "displayType": "table",
        "pivotAggregation": null,
        "pivotColumns": null,
        "xColumns": null,
        "yColumns": null
       },
       "removedWidgets": [],
       "schema": [
        {
         "metadata": "{}",
         "name": "region",
         "type": "\"string\""
        },
        {
         "metadata": "{}",
         "name": "month",
         "type": "\"string\""
        },
        {
         "metadata": "{}",
         "name": "sales",
         "type": "\"long\""
        }
       ],
       "type": "table"
      }
     },
     "output_type": "display_data"
    },
    {
     "output_type": "display_data",
     "data": {
      "text/html": [
       "<style scoped>\n",
       "  .table-result-container {\n",
       "    max-height: 300px;\n",
       "    overflow: auto;\n",
       "  }\n",
       "  table, th, td {\n",
       "    border: 1px solid black;\n",
       "    border-collapse: collapse;\n",
       "  }\n",
       "  th, td {\n",
       "    padding: 5px;\n",
       "  }\n",
       "  th {\n",
       "    text-align: left;\n",
       "  }\n",
       "</style><div class='table-result-container'><table class='table-result'><thead style='background-color: white'><tr><th>region</th><th>Feb</th><th>Jan</th><th>Mar</th></tr></thead><tbody><tr><td>West</td><td>1070.0</td><td>1030.0</td><td>990.0</td></tr><tr><td>East</td><td>1000.0</td><td>950.0</td><td>980.0</td></tr><tr><td>North</td><td>1200.0</td><td>1000.0</td><td>900.0</td></tr><tr><td>South</td><td>1050.0</td><td>1100.0</td><td>1150.0</td></tr></tbody></table></div>"
      ]
     },
     "metadata": {
      "application/vnd.databricks.v1+output": {
       "addedWidgets": {},
       "aggData": [],
       "aggError": "",
       "aggOverflow": false,
       "aggSchema": [],
       "aggSeriesLimitReached": false,
       "aggType": "",
       "arguments": {},
       "columnCustomDisplayInfos": {},
       "data": [
        [
         "West",
         1070.0,
         1030.0,
         990.0
        ],
        [
         "East",
         1000.0,
         950.0,
         980.0
        ],
        [
         "North",
         1200.0,
         1000.0,
         900.0
        ],
        [
         "South",
         1050.0,
         1100.0,
         1150.0
        ]
       ],
       "datasetInfos": [],
       "dbfsResultPath": null,
       "isJsonSchema": true,
       "metadata": {},
       "overflow": false,
       "plotOptions": {
        "customPlotOptions": {},
        "displayType": "table",
        "pivotAggregation": null,
        "pivotColumns": null,
        "xColumns": null,
        "yColumns": null
       },
       "removedWidgets": [],
       "schema": [
        {
         "metadata": "{}",
         "name": "region",
         "type": "\"string\""
        },
        {
         "metadata": "{}",
         "name": "Feb",
         "type": "\"double\""
        },
        {
         "metadata": "{}",
         "name": "Jan",
         "type": "\"double\""
        },
        {
         "metadata": "{}",
         "name": "Mar",
         "type": "\"double\""
        }
       ],
       "type": "table"
      }
     },
     "output_type": "display_data"
    }
   ],
   "source": [
    "from pyspark.sql import SparkSession\n",
    "from pyspark.sql.functions import sum\n",
    "\n",
    "# Start Spark session\n",
    "spark = SparkSession.builder.getOrCreate()\n",
    "\n",
    "# Sample data: (region, month, sales)\n",
    "data = [\n",
    "    (\"North\", \"Jan\", 1000),\n",
    "    (\"North\", \"Feb\", 1200),\n",
    "    (\"North\", \"Mar\", 900),\n",
    "    (\"South\", \"Jan\", 1100),\n",
    "    (\"South\", \"Feb\", 1050),\n",
    "    (\"South\", \"Mar\", 1150),\n",
    "    (\"East\", \"Jan\", 950),\n",
    "    (\"East\", \"Feb\", 1000),\n",
    "    (\"East\", \"Mar\", 980),\n",
    "    (\"West\", \"Jan\", 1030),\n",
    "    (\"West\", \"Feb\", 1070),\n",
    "    (\"West\", \"Mar\", 990),\n",
    "]\n",
    "\n",
    "columns = [\"region\", \"month\", \"sales\"]\n",
    "\n",
    "# Create DataFrame\n",
    "df = spark.createDataFrame(data, columns)\n",
    "df.display()\n",
    "df.groupBy(\"region\").pivot(\"month\").agg(avg(\"sales\")).display()\n"
   ]
  },
  {
   "cell_type": "markdown",
   "metadata": {
    "application/vnd.databricks.v1+cell": {
     "cellMetadata": {},
     "inputWidgets": {},
     "nuid": "6c23f862-1fa4-4bca-826d-5cbce1d40f60",
     "showTitle": false,
     "tableResultSettingsMap": {},
     "title": ""
    }
   },
   "source": [
    "# When-Otherwise"
   ]
  },
  {
   "cell_type": "code",
   "execution_count": 0,
   "metadata": {
    "application/vnd.databricks.v1+cell": {
     "cellMetadata": {
      "byteLimit": 2048000,
      "rowLimit": 10000
     },
     "inputWidgets": {},
     "nuid": "e35ed5dd-911c-425a-a39a-f8dab927b6cc",
     "showTitle": false,
     "tableResultSettingsMap": {},
     "title": ""
    }
   },
   "outputs": [
    {
     "output_type": "stream",
     "name": "stdout",
     "output_type": "stream",
     "text": [
      "+-------+--------------------+---------+---------+\n|food_id|food_item           |food_type|food_rate|\n+-------+--------------------+---------+---------+\n|1      |Paneer Butter Masala|veg      |1000     |\n|2      |Chicken Biryani     |non-veg  |3000     |\n|3      |Dal Tadka           |veg      |477      |\n|4      |Mutton Curry        |non-veg  |200      |\n|5      |Veg Fried Rice      |veg      |400      |\n|6      |Fish Fry            |non-veg  |600      |\n|7      |Aloo Gobi           |veg      |800      |\n|8      |Egg Curry           |non-veg  |700      |\n|9      |Masala Dosa         |veg      |600      |\n|10     |Prawn Masala        |non-veg  |200      |\n+-------+--------------------+---------+---------+\n\n"
     ]
    },
    {
     "output_type": "display_data",
     "data": {
      "text/html": [
       "<style scoped>\n",
       "  .table-result-container {\n",
       "    max-height: 300px;\n",
       "    overflow: auto;\n",
       "  }\n",
       "  table, th, td {\n",
       "    border: 1px solid black;\n",
       "    border-collapse: collapse;\n",
       "  }\n",
       "  th, td {\n",
       "    padding: 5px;\n",
       "  }\n",
       "  th {\n",
       "    text-align: left;\n",
       "  }\n",
       "</style><div class='table-result-container'><table class='table-result'><thead style='background-color: white'><tr><th>food_id</th><th>food_item</th><th>food_type</th><th>food_rate</th><th>Food_flag</th></tr></thead><tbody><tr><td>1</td><td>Paneer Butter Masala</td><td>veg</td><td>1000</td><td>veg eaters</td></tr><tr><td>2</td><td>Chicken Biryani</td><td>non-veg</td><td>3000</td><td>Non-veg eaters</td></tr><tr><td>3</td><td>Dal Tadka</td><td>veg</td><td>477</td><td>veg eaters</td></tr><tr><td>4</td><td>Mutton Curry</td><td>non-veg</td><td>200</td><td>Non-veg eaters</td></tr><tr><td>5</td><td>Veg Fried Rice</td><td>veg</td><td>400</td><td>veg eaters</td></tr><tr><td>6</td><td>Fish Fry</td><td>non-veg</td><td>600</td><td>Non-veg eaters</td></tr><tr><td>7</td><td>Aloo Gobi</td><td>veg</td><td>800</td><td>veg eaters</td></tr><tr><td>8</td><td>Egg Curry</td><td>non-veg</td><td>700</td><td>Non-veg eaters</td></tr><tr><td>9</td><td>Masala Dosa</td><td>veg</td><td>600</td><td>veg eaters</td></tr><tr><td>10</td><td>Prawn Masala</td><td>non-veg</td><td>200</td><td>Non-veg eaters</td></tr></tbody></table></div>"
      ]
     },
     "metadata": {
      "application/vnd.databricks.v1+output": {
       "addedWidgets": {},
       "aggData": [],
       "aggError": "",
       "aggOverflow": false,
       "aggSchema": [],
       "aggSeriesLimitReached": false,
       "aggType": "",
       "arguments": {},
       "columnCustomDisplayInfos": {},
       "data": [
        [
         1,
         "Paneer Butter Masala",
         "veg",
         1000,
         "veg eaters"
        ],
        [
         2,
         "Chicken Biryani",
         "non-veg",
         3000,
         "Non-veg eaters"
        ],
        [
         3,
         "Dal Tadka",
         "veg",
         477,
         "veg eaters"
        ],
        [
         4,
         "Mutton Curry",
         "non-veg",
         200,
         "Non-veg eaters"
        ],
        [
         5,
         "Veg Fried Rice",
         "veg",
         400,
         "veg eaters"
        ],
        [
         6,
         "Fish Fry",
         "non-veg",
         600,
         "Non-veg eaters"
        ],
        [
         7,
         "Aloo Gobi",
         "veg",
         800,
         "veg eaters"
        ],
        [
         8,
         "Egg Curry",
         "non-veg",
         700,
         "Non-veg eaters"
        ],
        [
         9,
         "Masala Dosa",
         "veg",
         600,
         "veg eaters"
        ],
        [
         10,
         "Prawn Masala",
         "non-veg",
         200,
         "Non-veg eaters"
        ]
       ],
       "datasetInfos": [],
       "dbfsResultPath": null,
       "isJsonSchema": true,
       "metadata": {},
       "overflow": false,
       "plotOptions": {
        "customPlotOptions": {},
        "displayType": "table",
        "pivotAggregation": null,
        "pivotColumns": null,
        "xColumns": null,
        "yColumns": null
       },
       "removedWidgets": [],
       "schema": [
        {
         "metadata": "{}",
         "name": "food_id",
         "type": "\"long\""
        },
        {
         "metadata": "{}",
         "name": "food_item",
         "type": "\"string\""
        },
        {
         "metadata": "{}",
         "name": "food_type",
         "type": "\"string\""
        },
        {
         "metadata": "{}",
         "name": "food_rate",
         "type": "\"long\""
        },
        {
         "metadata": "{}",
         "name": "Food_flag",
         "type": "\"string\""
        }
       ],
       "type": "table"
      }
     },
     "output_type": "display_data"
    },
    {
     "output_type": "display_data",
     "data": {
      "text/html": [
       "<style scoped>\n",
       "  .table-result-container {\n",
       "    max-height: 300px;\n",
       "    overflow: auto;\n",
       "  }\n",
       "  table, th, td {\n",
       "    border: 1px solid black;\n",
       "    border-collapse: collapse;\n",
       "  }\n",
       "  th, td {\n",
       "    padding: 5px;\n",
       "  }\n",
       "  th {\n",
       "    text-align: left;\n",
       "  }\n",
       "</style><div class='table-result-container'><table class='table-result'><thead style='background-color: white'><tr><th>food_id</th><th>food_item</th><th>food_type</th><th>food_rate</th><th>Food_flag</th><th>Exp_flag</th></tr></thead><tbody><tr><td>1</td><td>Paneer Butter Masala</td><td>veg</td><td>1000</td><td>veg eaters</td><td>Expensive</td></tr><tr><td>2</td><td>Chicken Biryani</td><td>non-veg</td><td>3000</td><td>Non-veg eaters</td><td>Non-veg eaters</td></tr><tr><td>3</td><td>Dal Tadka</td><td>veg</td><td>477</td><td>veg eaters</td><td>InExpensive</td></tr><tr><td>4</td><td>Mutton Curry</td><td>non-veg</td><td>200</td><td>Non-veg eaters</td><td>Non-veg eaters</td></tr><tr><td>5</td><td>Veg Fried Rice</td><td>veg</td><td>400</td><td>veg eaters</td><td>InExpensive</td></tr><tr><td>6</td><td>Fish Fry</td><td>non-veg</td><td>600</td><td>Non-veg eaters</td><td>Non-veg eaters</td></tr><tr><td>7</td><td>Aloo Gobi</td><td>veg</td><td>800</td><td>veg eaters</td><td>Expensive</td></tr><tr><td>8</td><td>Egg Curry</td><td>non-veg</td><td>700</td><td>Non-veg eaters</td><td>Non-veg eaters</td></tr><tr><td>9</td><td>Masala Dosa</td><td>veg</td><td>600</td><td>veg eaters</td><td>InExpensive</td></tr><tr><td>10</td><td>Prawn Masala</td><td>non-veg</td><td>200</td><td>Non-veg eaters</td><td>Non-veg eaters</td></tr></tbody></table></div>"
      ]
     },
     "metadata": {
      "application/vnd.databricks.v1+output": {
       "addedWidgets": {},
       "aggData": [],
       "aggError": "",
       "aggOverflow": false,
       "aggSchema": [],
       "aggSeriesLimitReached": false,
       "aggType": "",
       "arguments": {},
       "columnCustomDisplayInfos": {},
       "data": [
        [
         1,
         "Paneer Butter Masala",
         "veg",
         1000,
         "veg eaters",
         "Expensive"
        ],
        [
         2,
         "Chicken Biryani",
         "non-veg",
         3000,
         "Non-veg eaters",
         "Non-veg eaters"
        ],
        [
         3,
         "Dal Tadka",
         "veg",
         477,
         "veg eaters",
         "InExpensive"
        ],
        [
         4,
         "Mutton Curry",
         "non-veg",
         200,
         "Non-veg eaters",
         "Non-veg eaters"
        ],
        [
         5,
         "Veg Fried Rice",
         "veg",
         400,
         "veg eaters",
         "InExpensive"
        ],
        [
         6,
         "Fish Fry",
         "non-veg",
         600,
         "Non-veg eaters",
         "Non-veg eaters"
        ],
        [
         7,
         "Aloo Gobi",
         "veg",
         800,
         "veg eaters",
         "Expensive"
        ],
        [
         8,
         "Egg Curry",
         "non-veg",
         700,
         "Non-veg eaters",
         "Non-veg eaters"
        ],
        [
         9,
         "Masala Dosa",
         "veg",
         600,
         "veg eaters",
         "InExpensive"
        ],
        [
         10,
         "Prawn Masala",
         "non-veg",
         200,
         "Non-veg eaters",
         "Non-veg eaters"
        ]
       ],
       "datasetInfos": [],
       "dbfsResultPath": null,
       "isJsonSchema": true,
       "metadata": {},
       "overflow": false,
       "plotOptions": {
        "customPlotOptions": {},
        "displayType": "table",
        "pivotAggregation": null,
        "pivotColumns": null,
        "xColumns": null,
        "yColumns": null
       },
       "removedWidgets": [],
       "schema": [
        {
         "metadata": "{}",
         "name": "food_id",
         "type": "\"long\""
        },
        {
         "metadata": "{}",
         "name": "food_item",
         "type": "\"string\""
        },
        {
         "metadata": "{}",
         "name": "food_type",
         "type": "\"string\""
        },
        {
         "metadata": "{}",
         "name": "food_rate",
         "type": "\"long\""
        },
        {
         "metadata": "{}",
         "name": "Food_flag",
         "type": "\"string\""
        },
        {
         "metadata": "{}",
         "name": "Exp_flag",
         "type": "\"string\""
        }
       ],
       "type": "table"
      }
     },
     "output_type": "display_data"
    }
   ],
   "source": [
    "from pyspark.sql import SparkSession\n",
    "from pyspark.sql.functions import when, col\n",
    "\n",
    "# Start Spark session\n",
    "spark = SparkSession.builder.getOrCreate()\n",
    "\n",
    "# Sample data: (food_id, food_item, food_type)\n",
    "data = [\n",
    "    (1, \"Paneer Butter Masala\", \"veg\", 1000),\n",
    "    (2, \"Chicken Biryani\", \"non-veg\",3000),\n",
    "    (3, \"Dal Tadka\", \"veg\",477),\n",
    "    (4, \"Mutton Curry\", \"non-veg\",200),\n",
    "    (5, \"Veg Fried Rice\", \"veg\",400),\n",
    "    (6, \"Fish Fry\", \"non-veg\",600),\n",
    "    (7, \"Aloo Gobi\", \"veg\",800),\n",
    "    (8, \"Egg Curry\", \"non-veg\",700),\n",
    "    (9, \"Masala Dosa\", \"veg\",600),\n",
    "    (10, \"Prawn Masala\", \"non-veg\",200)\n",
    "]\n",
    "\n",
    "columns = [\"food_id\", \"food_item\", \"food_type\", \"food_rate\"]\n",
    "\n",
    "# Create DataFrame\n",
    "df = spark.createDataFrame(data, columns)\n",
    "df.show(truncate=False)\n",
    "#scenario 1\n",
    "df1 = df.withColumn(\n",
    "    \"Food_flag\",\n",
    "    when(col(\"food_type\") == \"veg\", \"veg eaters\").otherwise(\"Non-veg eaters\")\n",
    ")\n",
    "display(df1)\n",
    "#scenario 2\n",
    "df2 = df1.withColumn(\n",
    "    \"Exp_flag\",\n",
    "    when((col(\"Food_flag\") == \"veg eaters\") & (col(\"food_rate\") > 700), \"Expensive\")\n",
    "    .when((col(\"Food_flag\") == \"veg eaters\") & (col(\"food_rate\") <= 700), \"InExpensive\")\n",
    "    .otherwise(\"Non-veg eaters\")\n",
    ")\n",
    "display(df2)  \n"
   ]
  },
  {
   "cell_type": "markdown",
   "metadata": {
    "application/vnd.databricks.v1+cell": {
     "cellMetadata": {},
     "inputWidgets": {},
     "nuid": "40fcff2b-07c4-454e-a5cd-882f7bbe60c8",
     "showTitle": false,
     "tableResultSettingsMap": {},
     "title": ""
    }
   },
   "source": [
    "# Joins"
   ]
  },
  {
   "cell_type": "code",
   "execution_count": 0,
   "metadata": {
    "application/vnd.databricks.v1+cell": {
     "cellMetadata": {
      "byteLimit": 2048000,
      "rowLimit": 10000
     },
     "inputWidgets": {},
     "nuid": "ffd22ad7-177d-45b1-ba4d-11a7fb5bd81c",
     "showTitle": false,
     "tableResultSettingsMap": {},
     "title": ""
    }
   },
   "outputs": [
    {
     "output_type": "display_data",
     "data": {
      "text/html": [
       "<style scoped>\n",
       "  .table-result-container {\n",
       "    max-height: 300px;\n",
       "    overflow: auto;\n",
       "  }\n",
       "  table, th, td {\n",
       "    border: 1px solid black;\n",
       "    border-collapse: collapse;\n",
       "  }\n",
       "  th, td {\n",
       "    padding: 5px;\n",
       "  }\n",
       "  th {\n",
       "    text-align: left;\n",
       "  }\n",
       "</style><div class='table-result-container'><table class='table-result'><thead style='background-color: white'><tr><th>customer_id</th><th>name</th><th>country</th></tr></thead><tbody><tr><td>1</td><td>Alice</td><td>USA</td></tr><tr><td>2</td><td>Bob</td><td>UK</td></tr><tr><td>3</td><td>Charlie</td><td>India</td></tr><tr><td>4</td><td>David</td><td>Germany</td></tr><tr><td>5</td><td>Eva</td><td>France</td></tr></tbody></table></div>"
      ]
     },
     "metadata": {
      "application/vnd.databricks.v1+output": {
       "addedWidgets": {},
       "aggData": [],
       "aggError": "",
       "aggOverflow": false,
       "aggSchema": [],
       "aggSeriesLimitReached": false,
       "aggType": "",
       "arguments": {},
       "columnCustomDisplayInfos": {},
       "data": [
        [
         1,
         "Alice",
         "USA"
        ],
        [
         2,
         "Bob",
         "UK"
        ],
        [
         3,
         "Charlie",
         "India"
        ],
        [
         4,
         "David",
         "Germany"
        ],
        [
         5,
         "Eva",
         "France"
        ]
       ],
       "datasetInfos": [],
       "dbfsResultPath": null,
       "isJsonSchema": true,
       "metadata": {},
       "overflow": false,
       "plotOptions": {
        "customPlotOptions": {},
        "displayType": "table",
        "pivotAggregation": null,
        "pivotColumns": null,
        "xColumns": null,
        "yColumns": null
       },
       "removedWidgets": [],
       "schema": [
        {
         "metadata": "{}",
         "name": "customer_id",
         "type": "\"long\""
        },
        {
         "metadata": "{}",
         "name": "name",
         "type": "\"string\""
        },
        {
         "metadata": "{}",
         "name": "country",
         "type": "\"string\""
        }
       ],
       "type": "table"
      }
     },
     "output_type": "display_data"
    },
    {
     "output_type": "display_data",
     "data": {
      "text/html": [
       "<style scoped>\n",
       "  .table-result-container {\n",
       "    max-height: 300px;\n",
       "    overflow: auto;\n",
       "  }\n",
       "  table, th, td {\n",
       "    border: 1px solid black;\n",
       "    border-collapse: collapse;\n",
       "  }\n",
       "  th, td {\n",
       "    padding: 5px;\n",
       "  }\n",
       "  th {\n",
       "    text-align: left;\n",
       "  }\n",
       "</style><div class='table-result-container'><table class='table-result'><thead style='background-color: white'><tr><th>order_id</th><th>customer_id</th><th>product</th></tr></thead><tbody><tr><td>101</td><td>1</td><td>Laptop</td></tr><tr><td>102</td><td>2</td><td>Phone</td></tr><tr><td>103</td><td>1</td><td>Mouse</td></tr><tr><td>104</td><td>6</td><td>Monitor</td></tr><tr><td>105</td><td>3</td><td>Keyboard</td></tr></tbody></table></div>"
      ]
     },
     "metadata": {
      "application/vnd.databricks.v1+output": {
       "addedWidgets": {},
       "aggData": [],
       "aggError": "",
       "aggOverflow": false,
       "aggSchema": [],
       "aggSeriesLimitReached": false,
       "aggType": "",
       "arguments": {},
       "columnCustomDisplayInfos": {},
       "data": [
        [
         101,
         1,
         "Laptop"
        ],
        [
         102,
         2,
         "Phone"
        ],
        [
         103,
         1,
         "Mouse"
        ],
        [
         104,
         6,
         "Monitor"
        ],
        [
         105,
         3,
         "Keyboard"
        ]
       ],
       "datasetInfos": [],
       "dbfsResultPath": null,
       "isJsonSchema": true,
       "metadata": {},
       "overflow": false,
       "plotOptions": {
        "customPlotOptions": {},
        "displayType": "table",
        "pivotAggregation": null,
        "pivotColumns": null,
        "xColumns": null,
        "yColumns": null
       },
       "removedWidgets": [],
       "schema": [
        {
         "metadata": "{}",
         "name": "order_id",
         "type": "\"long\""
        },
        {
         "metadata": "{}",
         "name": "customer_id",
         "type": "\"long\""
        },
        {
         "metadata": "{}",
         "name": "product",
         "type": "\"string\""
        }
       ],
       "type": "table"
      }
     },
     "output_type": "display_data"
    }
   ],
   "source": [
    "from pyspark.sql import SparkSession\n",
    "\n",
    "spark = SparkSession.builder.getOrCreate()\n",
    "\n",
    "# Customer DataFrame\n",
    "customers_data = [\n",
    "    (1, \"Alice\", \"USA\"),\n",
    "    (2, \"Bob\", \"UK\"),\n",
    "    (3, \"Charlie\", \"India\"),\n",
    "    (4, \"David\", \"Germany\"),\n",
    "    (5, \"Eva\", \"France\"),\n",
    "]\n",
    "\n",
    "customers_columns = [\"customer_id\", \"name\", \"country\"]\n",
    "df1 = spark.createDataFrame(customers_data, customers_columns)\n",
    "\n",
    "# Orders DataFrame\n",
    "orders_data = [\n",
    "    (101, 1, \"Laptop\"),\n",
    "    (102, 2, \"Phone\"),\n",
    "    (103, 1, \"Mouse\"),\n",
    "    (104, 6, \"Monitor\"),\n",
    "    (105, 3, \"Keyboard\"),\n",
    "]\n",
    "\n",
    "orders_columns = [\"order_id\", \"customer_id\", \"product\"]\n",
    "df2 = spark.createDataFrame(orders_data, orders_columns)\n",
    "\n",
    "# ✅ Now display separately (optional)\n",
    "display(df1)\n",
    "display(df2)\n"
   ]
  },
  {
   "cell_type": "markdown",
   "metadata": {
    "application/vnd.databricks.v1+cell": {
     "cellMetadata": {},
     "inputWidgets": {},
     "nuid": "1c342224-4003-4a1c-8064-1eb6379557f4",
     "showTitle": false,
     "tableResultSettingsMap": {},
     "title": ""
    }
   },
   "source": [
    "# Inner Join"
   ]
  },
  {
   "cell_type": "code",
   "execution_count": 0,
   "metadata": {
    "application/vnd.databricks.v1+cell": {
     "cellMetadata": {
      "byteLimit": 2048000,
      "rowLimit": 10000
     },
     "inputWidgets": {},
     "nuid": "bff82e2d-147b-46e8-ab8b-a654b5ab2f89",
     "showTitle": false,
     "tableResultSettingsMap": {},
     "title": ""
    }
   },
   "outputs": [
    {
     "output_type": "display_data",
     "data": {
      "text/html": [
       "<style scoped>\n",
       "  .table-result-container {\n",
       "    max-height: 300px;\n",
       "    overflow: auto;\n",
       "  }\n",
       "  table, th, td {\n",
       "    border: 1px solid black;\n",
       "    border-collapse: collapse;\n",
       "  }\n",
       "  th, td {\n",
       "    padding: 5px;\n",
       "  }\n",
       "  th {\n",
       "    text-align: left;\n",
       "  }\n",
       "</style><div class='table-result-container'><table class='table-result'><thead style='background-color: white'><tr><th>customer_id</th><th>name</th><th>country</th><th>order_id</th><th>customer_id</th><th>product</th></tr></thead><tbody><tr><td>1</td><td>Alice</td><td>USA</td><td>103</td><td>1</td><td>Mouse</td></tr><tr><td>1</td><td>Alice</td><td>USA</td><td>101</td><td>1</td><td>Laptop</td></tr><tr><td>2</td><td>Bob</td><td>UK</td><td>102</td><td>2</td><td>Phone</td></tr><tr><td>3</td><td>Charlie</td><td>India</td><td>105</td><td>3</td><td>Keyboard</td></tr></tbody></table></div>"
      ]
     },
     "metadata": {
      "application/vnd.databricks.v1+output": {
       "addedWidgets": {},
       "aggData": [],
       "aggError": "",
       "aggOverflow": false,
       "aggSchema": [],
       "aggSeriesLimitReached": false,
       "aggType": "",
       "arguments": {},
       "columnCustomDisplayInfos": {},
       "data": [
        [
         1,
         "Alice",
         "USA",
         103,
         1,
         "Mouse"
        ],
        [
         1,
         "Alice",
         "USA",
         101,
         1,
         "Laptop"
        ],
        [
         2,
         "Bob",
         "UK",
         102,
         2,
         "Phone"
        ],
        [
         3,
         "Charlie",
         "India",
         105,
         3,
         "Keyboard"
        ]
       ],
       "datasetInfos": [],
       "dbfsResultPath": null,
       "isJsonSchema": true,
       "metadata": {},
       "overflow": false,
       "plotOptions": {
        "customPlotOptions": {},
        "displayType": "table",
        "pivotAggregation": null,
        "pivotColumns": null,
        "xColumns": null,
        "yColumns": null
       },
       "removedWidgets": [],
       "schema": [
        {
         "metadata": "{}",
         "name": "customer_id",
         "type": "\"long\""
        },
        {
         "metadata": "{}",
         "name": "name",
         "type": "\"string\""
        },
        {
         "metadata": "{}",
         "name": "country",
         "type": "\"string\""
        },
        {
         "metadata": "{}",
         "name": "order_id",
         "type": "\"long\""
        },
        {
         "metadata": "{}",
         "name": "customer_id",
         "type": "\"long\""
        },
        {
         "metadata": "{}",
         "name": "product",
         "type": "\"string\""
        }
       ],
       "type": "table"
      }
     },
     "output_type": "display_data"
    }
   ],
   "source": [
    "# Inner join\n",
    "df1.join(df2, df1[\"customer_id\"] == df2[\"customer_id\"], \"inner\").display()"
   ]
  },
  {
   "cell_type": "markdown",
   "metadata": {
    "application/vnd.databricks.v1+cell": {
     "cellMetadata": {},
     "inputWidgets": {},
     "nuid": "d9708d57-b474-4c40-a09a-ec251b0a0aa7",
     "showTitle": false,
     "tableResultSettingsMap": {},
     "title": ""
    }
   },
   "source": [
    "# Left Join"
   ]
  },
  {
   "cell_type": "code",
   "execution_count": 0,
   "metadata": {
    "application/vnd.databricks.v1+cell": {
     "cellMetadata": {
      "byteLimit": 2048000,
      "rowLimit": 10000
     },
     "inputWidgets": {},
     "nuid": "065ace23-98dd-463b-86d0-fb0292322ed4",
     "showTitle": false,
     "tableResultSettingsMap": {},
     "title": ""
    }
   },
   "outputs": [
    {
     "output_type": "display_data",
     "data": {
      "text/html": [
       "<style scoped>\n",
       "  .table-result-container {\n",
       "    max-height: 300px;\n",
       "    overflow: auto;\n",
       "  }\n",
       "  table, th, td {\n",
       "    border: 1px solid black;\n",
       "    border-collapse: collapse;\n",
       "  }\n",
       "  th, td {\n",
       "    padding: 5px;\n",
       "  }\n",
       "  th {\n",
       "    text-align: left;\n",
       "  }\n",
       "</style><div class='table-result-container'><table class='table-result'><thead style='background-color: white'><tr><th>customer_id</th><th>name</th><th>country</th><th>order_id</th><th>customer_id</th><th>product</th></tr></thead><tbody><tr><td>1</td><td>Alice</td><td>USA</td><td>103</td><td>1</td><td>Mouse</td></tr><tr><td>1</td><td>Alice</td><td>USA</td><td>101</td><td>1</td><td>Laptop</td></tr><tr><td>2</td><td>Bob</td><td>UK</td><td>102</td><td>2</td><td>Phone</td></tr><tr><td>3</td><td>Charlie</td><td>India</td><td>105</td><td>3</td><td>Keyboard</td></tr><tr><td>4</td><td>David</td><td>Germany</td><td>null</td><td>null</td><td>null</td></tr><tr><td>5</td><td>Eva</td><td>France</td><td>null</td><td>null</td><td>null</td></tr></tbody></table></div>"
      ]
     },
     "metadata": {
      "application/vnd.databricks.v1+output": {
       "addedWidgets": {},
       "aggData": [],
       "aggError": "",
       "aggOverflow": false,
       "aggSchema": [],
       "aggSeriesLimitReached": false,
       "aggType": "",
       "arguments": {},
       "columnCustomDisplayInfos": {},
       "data": [
        [
         1,
         "Alice",
         "USA",
         103,
         1,
         "Mouse"
        ],
        [
         1,
         "Alice",
         "USA",
         101,
         1,
         "Laptop"
        ],
        [
         2,
         "Bob",
         "UK",
         102,
         2,
         "Phone"
        ],
        [
         3,
         "Charlie",
         "India",
         105,
         3,
         "Keyboard"
        ],
        [
         4,
         "David",
         "Germany",
         null,
         null,
         null
        ],
        [
         5,
         "Eva",
         "France",
         null,
         null,
         null
        ]
       ],
       "datasetInfos": [],
       "dbfsResultPath": null,
       "isJsonSchema": true,
       "metadata": {},
       "overflow": false,
       "plotOptions": {
        "customPlotOptions": {},
        "displayType": "table",
        "pivotAggregation": null,
        "pivotColumns": null,
        "xColumns": null,
        "yColumns": null
       },
       "removedWidgets": [],
       "schema": [
        {
         "metadata": "{}",
         "name": "customer_id",
         "type": "\"long\""
        },
        {
         "metadata": "{}",
         "name": "name",
         "type": "\"string\""
        },
        {
         "metadata": "{}",
         "name": "country",
         "type": "\"string\""
        },
        {
         "metadata": "{}",
         "name": "order_id",
         "type": "\"long\""
        },
        {
         "metadata": "{}",
         "name": "customer_id",
         "type": "\"long\""
        },
        {
         "metadata": "{}",
         "name": "product",
         "type": "\"string\""
        }
       ],
       "type": "table"
      }
     },
     "output_type": "display_data"
    }
   ],
   "source": [
    "# left join\n",
    "df1.join(df2, df1[\"customer_id\"] == df2[\"customer_id\"], \"left\").display()"
   ]
  },
  {
   "cell_type": "markdown",
   "metadata": {
    "application/vnd.databricks.v1+cell": {
     "cellMetadata": {},
     "inputWidgets": {},
     "nuid": "378a76f3-d231-479b-a19f-59c6bd1bf8d9",
     "showTitle": false,
     "tableResultSettingsMap": {},
     "title": ""
    }
   },
   "source": [
    "# Right Join"
   ]
  },
  {
   "cell_type": "code",
   "execution_count": 0,
   "metadata": {
    "application/vnd.databricks.v1+cell": {
     "cellMetadata": {
      "byteLimit": 2048000,
      "rowLimit": 10000
     },
     "inputWidgets": {},
     "nuid": "b78d95e1-fae6-41e7-9f7d-4992f6f7465c",
     "showTitle": false,
     "tableResultSettingsMap": {},
     "title": ""
    }
   },
   "outputs": [
    {
     "output_type": "display_data",
     "data": {
      "text/html": [
       "<style scoped>\n",
       "  .table-result-container {\n",
       "    max-height: 300px;\n",
       "    overflow: auto;\n",
       "  }\n",
       "  table, th, td {\n",
       "    border: 1px solid black;\n",
       "    border-collapse: collapse;\n",
       "  }\n",
       "  th, td {\n",
       "    padding: 5px;\n",
       "  }\n",
       "  th {\n",
       "    text-align: left;\n",
       "  }\n",
       "</style><div class='table-result-container'><table class='table-result'><thead style='background-color: white'><tr><th>customer_id</th><th>name</th><th>country</th><th>order_id</th><th>customer_id</th><th>product</th></tr></thead><tbody><tr><td>1</td><td>Alice</td><td>USA</td><td>103</td><td>1</td><td>Mouse</td></tr><tr><td>2</td><td>Bob</td><td>UK</td><td>102</td><td>2</td><td>Phone</td></tr><tr><td>3</td><td>Charlie</td><td>India</td><td>105</td><td>3</td><td>Keyboard</td></tr><tr><td>1</td><td>Alice</td><td>USA</td><td>101</td><td>1</td><td>Laptop</td></tr><tr><td>null</td><td>null</td><td>null</td><td>104</td><td>6</td><td>Monitor</td></tr></tbody></table></div>"
      ]
     },
     "metadata": {
      "application/vnd.databricks.v1+output": {
       "addedWidgets": {},
       "aggData": [],
       "aggError": "",
       "aggOverflow": false,
       "aggSchema": [],
       "aggSeriesLimitReached": false,
       "aggType": "",
       "arguments": {},
       "columnCustomDisplayInfos": {},
       "data": [
        [
         1,
         "Alice",
         "USA",
         103,
         1,
         "Mouse"
        ],
        [
         2,
         "Bob",
         "UK",
         102,
         2,
         "Phone"
        ],
        [
         3,
         "Charlie",
         "India",
         105,
         3,
         "Keyboard"
        ],
        [
         1,
         "Alice",
         "USA",
         101,
         1,
         "Laptop"
        ],
        [
         null,
         null,
         null,
         104,
         6,
         "Monitor"
        ]
       ],
       "datasetInfos": [],
       "dbfsResultPath": null,
       "isJsonSchema": true,
       "metadata": {},
       "overflow": false,
       "plotOptions": {
        "customPlotOptions": {},
        "displayType": "table",
        "pivotAggregation": null,
        "pivotColumns": null,
        "xColumns": null,
        "yColumns": null
       },
       "removedWidgets": [],
       "schema": [
        {
         "metadata": "{}",
         "name": "customer_id",
         "type": "\"long\""
        },
        {
         "metadata": "{}",
         "name": "name",
         "type": "\"string\""
        },
        {
         "metadata": "{}",
         "name": "country",
         "type": "\"string\""
        },
        {
         "metadata": "{}",
         "name": "order_id",
         "type": "\"long\""
        },
        {
         "metadata": "{}",
         "name": "customer_id",
         "type": "\"long\""
        },
        {
         "metadata": "{}",
         "name": "product",
         "type": "\"string\""
        }
       ],
       "type": "table"
      }
     },
     "output_type": "display_data"
    }
   ],
   "source": [
    "# Right  join\n",
    "df1.join(df2, df1[\"customer_id\"] == df2[\"customer_id\"], \"right\").display()"
   ]
  },
  {
   "cell_type": "markdown",
   "metadata": {
    "application/vnd.databricks.v1+cell": {
     "cellMetadata": {},
     "inputWidgets": {},
     "nuid": "458ea1d2-6833-426c-b798-909020c1fe60",
     "showTitle": false,
     "tableResultSettingsMap": {},
     "title": ""
    }
   },
   "source": [
    "# Anti Join"
   ]
  },
  {
   "cell_type": "code",
   "execution_count": 0,
   "metadata": {
    "application/vnd.databricks.v1+cell": {
     "cellMetadata": {
      "byteLimit": 2048000,
      "rowLimit": 10000
     },
     "inputWidgets": {},
     "nuid": "665b5ad7-0224-4111-8816-21ebfd5ce8d6",
     "showTitle": false,
     "tableResultSettingsMap": {},
     "title": ""
    }
   },
   "outputs": [
    {
     "output_type": "display_data",
     "data": {
      "text/html": [
       "<style scoped>\n",
       "  .table-result-container {\n",
       "    max-height: 300px;\n",
       "    overflow: auto;\n",
       "  }\n",
       "  table, th, td {\n",
       "    border: 1px solid black;\n",
       "    border-collapse: collapse;\n",
       "  }\n",
       "  th, td {\n",
       "    padding: 5px;\n",
       "  }\n",
       "  th {\n",
       "    text-align: left;\n",
       "  }\n",
       "</style><div class='table-result-container'><table class='table-result'><thead style='background-color: white'><tr><th>customer_id</th><th>name</th><th>country</th></tr></thead><tbody><tr><td>4</td><td>David</td><td>Germany</td></tr><tr><td>5</td><td>Eva</td><td>France</td></tr></tbody></table></div>"
      ]
     },
     "metadata": {
      "application/vnd.databricks.v1+output": {
       "addedWidgets": {},
       "aggData": [],
       "aggError": "",
       "aggOverflow": false,
       "aggSchema": [],
       "aggSeriesLimitReached": false,
       "aggType": "",
       "arguments": {},
       "columnCustomDisplayInfos": {},
       "data": [
        [
         4,
         "David",
         "Germany"
        ],
        [
         5,
         "Eva",
         "France"
        ]
       ],
       "datasetInfos": [],
       "dbfsResultPath": null,
       "isJsonSchema": true,
       "metadata": {},
       "overflow": false,
       "plotOptions": {
        "customPlotOptions": {},
        "displayType": "table",
        "pivotAggregation": null,
        "pivotColumns": null,
        "xColumns": null,
        "yColumns": null
       },
       "removedWidgets": [],
       "schema": [
        {
         "metadata": "{}",
         "name": "customer_id",
         "type": "\"long\""
        },
        {
         "metadata": "{}",
         "name": "name",
         "type": "\"string\""
        },
        {
         "metadata": "{}",
         "name": "country",
         "type": "\"string\""
        }
       ],
       "type": "table"
      }
     },
     "output_type": "display_data"
    }
   ],
   "source": [
    "# Anti join\n",
    "df1.join(df2, df1[\"customer_id\"] == df2[\"customer_id\"], \"anti\").display()"
   ]
  },
  {
   "cell_type": "markdown",
   "metadata": {
    "application/vnd.databricks.v1+cell": {
     "cellMetadata": {},
     "inputWidgets": {},
     "nuid": "c5a355a7-e7ed-4052-bd09-31051c008108",
     "showTitle": false,
     "tableResultSettingsMap": {},
     "title": ""
    }
   },
   "source": [
    "# Window Function"
   ]
  },
  {
   "cell_type": "code",
   "execution_count": 0,
   "metadata": {
    "application/vnd.databricks.v1+cell": {
     "cellMetadata": {
      "byteLimit": 2048000,
      "rowLimit": 10000
     },
     "inputWidgets": {},
     "nuid": "18a6c185-04de-4607-8777-9d12d29d14c6",
     "showTitle": false,
     "tableResultSettingsMap": {},
     "title": ""
    }
   },
   "outputs": [
    {
     "output_type": "display_data",
     "data": {
      "text/html": [
       "<style scoped>\n",
       "  .table-result-container {\n",
       "    max-height: 300px;\n",
       "    overflow: auto;\n",
       "  }\n",
       "  table, th, td {\n",
       "    border: 1px solid black;\n",
       "    border-collapse: collapse;\n",
       "  }\n",
       "  th, td {\n",
       "    padding: 5px;\n",
       "  }\n",
       "  th {\n",
       "    text-align: left;\n",
       "  }\n",
       "</style><div class='table-result-container'><table class='table-result'><thead style='background-color: white'><tr><th>emp_id</th><th>name</th><th>department</th><th>salary</th><th>month</th></tr></thead><tbody><tr><td>1</td><td>Alice</td><td>HR</td><td>4000</td><td>2023-01</td></tr><tr><td>2</td><td>Bob</td><td>HR</td><td>4500</td><td>2023-01</td></tr><tr><td>3</td><td>Charlie</td><td>IT</td><td>5000</td><td>2023-01</td></tr><tr><td>4</td><td>David</td><td>IT</td><td>4800</td><td>2023-01</td></tr><tr><td>5</td><td>Eve</td><td>Finance</td><td>5300</td><td>2023-01</td></tr><tr><td>1</td><td>Alice</td><td>HR</td><td>4100</td><td>2023-02</td></tr><tr><td>2</td><td>Bob</td><td>HR</td><td>4600</td><td>2023-02</td></tr><tr><td>3</td><td>Charlie</td><td>IT</td><td>5100</td><td>2023-02</td></tr><tr><td>4</td><td>David</td><td>IT</td><td>4900</td><td>2023-02</td></tr><tr><td>5</td><td>Eve</td><td>Finance</td><td>5400</td><td>2023-02</td></tr><tr><td>1</td><td>Alice</td><td>HR</td><td>4200</td><td>2023-03</td></tr><tr><td>2</td><td>Bob</td><td>HR</td><td>4700</td><td>2023-03</td></tr><tr><td>3</td><td>Charlie</td><td>IT</td><td>5200</td><td>2023-03</td></tr><tr><td>4</td><td>David</td><td>IT</td><td>5000</td><td>2023-03</td></tr><tr><td>5</td><td>Eve</td><td>Finance</td><td>5500</td><td>2023-03</td></tr></tbody></table></div>"
      ]
     },
     "metadata": {
      "application/vnd.databricks.v1+output": {
       "addedWidgets": {},
       "aggData": [],
       "aggError": "",
       "aggOverflow": false,
       "aggSchema": [],
       "aggSeriesLimitReached": false,
       "aggType": "",
       "arguments": {},
       "columnCustomDisplayInfos": {},
       "data": [
        [
         1,
         "Alice",
         "HR",
         4000,
         "2023-01"
        ],
        [
         2,
         "Bob",
         "HR",
         4500,
         "2023-01"
        ],
        [
         3,
         "Charlie",
         "IT",
         5000,
         "2023-01"
        ],
        [
         4,
         "David",
         "IT",
         4800,
         "2023-01"
        ],
        [
         5,
         "Eve",
         "Finance",
         5300,
         "2023-01"
        ],
        [
         1,
         "Alice",
         "HR",
         4100,
         "2023-02"
        ],
        [
         2,
         "Bob",
         "HR",
         4600,
         "2023-02"
        ],
        [
         3,
         "Charlie",
         "IT",
         5100,
         "2023-02"
        ],
        [
         4,
         "David",
         "IT",
         4900,
         "2023-02"
        ],
        [
         5,
         "Eve",
         "Finance",
         5400,
         "2023-02"
        ],
        [
         1,
         "Alice",
         "HR",
         4200,
         "2023-03"
        ],
        [
         2,
         "Bob",
         "HR",
         4700,
         "2023-03"
        ],
        [
         3,
         "Charlie",
         "IT",
         5200,
         "2023-03"
        ],
        [
         4,
         "David",
         "IT",
         5000,
         "2023-03"
        ],
        [
         5,
         "Eve",
         "Finance",
         5500,
         "2023-03"
        ]
       ],
       "datasetInfos": [],
       "dbfsResultPath": null,
       "isJsonSchema": true,
       "metadata": {},
       "overflow": false,
       "plotOptions": {
        "customPlotOptions": {},
        "displayType": "table",
        "pivotAggregation": null,
        "pivotColumns": null,
        "xColumns": null,
        "yColumns": null
       },
       "removedWidgets": [],
       "schema": [
        {
         "metadata": "{}",
         "name": "emp_id",
         "type": "\"long\""
        },
        {
         "metadata": "{}",
         "name": "name",
         "type": "\"string\""
        },
        {
         "metadata": "{}",
         "name": "department",
         "type": "\"string\""
        },
        {
         "metadata": "{}",
         "name": "salary",
         "type": "\"long\""
        },
        {
         "metadata": "{}",
         "name": "month",
         "type": "\"string\""
        }
       ],
       "type": "table"
      }
     },
     "output_type": "display_data"
    }
   ],
   "source": [
    "from pyspark.sql import SparkSession\n",
    "from pyspark.sql.functions import *\n",
    "from pyspark.sql.window import Window\n",
    "from pyspark.sql.functions import row_number\n",
    "\n",
    "# Start Spark session\n",
    "spark = SparkSession.builder.getOrCreate()\n",
    "\n",
    "# Sample data\n",
    "data = [\n",
    "    (1, \"Alice\", \"HR\", 4000, \"2023-01\"),\n",
    "    (2, \"Bob\", \"HR\", 4500, \"2023-01\"),\n",
    "    (3, \"Charlie\", \"IT\", 5000, \"2023-01\"),\n",
    "    (4, \"David\", \"IT\", 4800, \"2023-01\"),\n",
    "    (5, \"Eve\", \"Finance\", 5300, \"2023-01\"),\n",
    "    \n",
    "    (1, \"Alice\", \"HR\", 4100, \"2023-02\"),\n",
    "    (2, \"Bob\", \"HR\", 4600, \"2023-02\"),\n",
    "    (3, \"Charlie\", \"IT\", 5100, \"2023-02\"),\n",
    "    (4, \"David\", \"IT\", 4900, \"2023-02\"),\n",
    "    (5, \"Eve\", \"Finance\", 5400, \"2023-02\"),\n",
    "    \n",
    "    (1, \"Alice\", \"HR\", 4200, \"2023-03\"),\n",
    "    (2, \"Bob\", \"HR\", 4700, \"2023-03\"),\n",
    "    (3, \"Charlie\", \"IT\", 5200, \"2023-03\"),\n",
    "    (4, \"David\", \"IT\", 5000, \"2023-03\"),\n",
    "    (5, \"Eve\", \"Finance\", 5500, \"2023-03\"),\n",
    "]\n",
    "\n",
    "columns = [\"emp_id\", \"name\", \"department\", \"salary\", \"month\"]\n",
    "df = spark.createDataFrame(data, columns)\n",
    "display(df)\n"
   ]
  },
  {
   "cell_type": "markdown",
   "metadata": {
    "application/vnd.databricks.v1+cell": {
     "cellMetadata": {},
     "inputWidgets": {},
     "nuid": "50b594a3-c2a9-47b9-b247-354b7a01a829",
     "showTitle": false,
     "tableResultSettingsMap": {},
     "title": ""
    }
   },
   "source": [
    "# row number()"
   ]
  },
  {
   "cell_type": "code",
   "execution_count": 0,
   "metadata": {
    "application/vnd.databricks.v1+cell": {
     "cellMetadata": {
      "byteLimit": 2048000,
      "rowLimit": 10000
     },
     "inputWidgets": {},
     "nuid": "762de086-96b4-49fa-a188-bc1ec95434e5",
     "showTitle": false,
     "tableResultSettingsMap": {},
     "title": ""
    }
   },
   "outputs": [
    {
     "output_type": "stream",
     "name": "stderr",
     "output_type": "stream",
     "text": [
      "/databricks/python/lib/python3.11/site-packages/pyspark/sql/connect/expressions.py:1017: UserWarning: WARN WindowExpression: No Partition Defined for Window operation! Moving all data to a single partition, this can cause serious performance degradation.\n  warnings.warn(\n"
     ]
    },
    {
     "output_type": "display_data",
     "data": {
      "text/html": [
       "<style scoped>\n",
       "  .table-result-container {\n",
       "    max-height: 300px;\n",
       "    overflow: auto;\n",
       "  }\n",
       "  table, th, td {\n",
       "    border: 1px solid black;\n",
       "    border-collapse: collapse;\n",
       "  }\n",
       "  th, td {\n",
       "    padding: 5px;\n",
       "  }\n",
       "  th {\n",
       "    text-align: left;\n",
       "  }\n",
       "</style><div class='table-result-container'><table class='table-result'><thead style='background-color: white'><tr><th>emp_id</th><th>name</th><th>department</th><th>salary</th><th>month</th><th>rowcol</th></tr></thead><tbody><tr><td>1</td><td>Alice</td><td>HR</td><td>4000</td><td>2023-01</td><td>1</td></tr><tr><td>1</td><td>Alice</td><td>HR</td><td>4100</td><td>2023-02</td><td>2</td></tr><tr><td>1</td><td>Alice</td><td>HR</td><td>4200</td><td>2023-03</td><td>3</td></tr><tr><td>2</td><td>Bob</td><td>HR</td><td>4500</td><td>2023-01</td><td>4</td></tr><tr><td>2</td><td>Bob</td><td>HR</td><td>4600</td><td>2023-02</td><td>5</td></tr><tr><td>2</td><td>Bob</td><td>HR</td><td>4700</td><td>2023-03</td><td>6</td></tr><tr><td>3</td><td>Charlie</td><td>IT</td><td>5000</td><td>2023-01</td><td>7</td></tr><tr><td>3</td><td>Charlie</td><td>IT</td><td>5100</td><td>2023-02</td><td>8</td></tr><tr><td>3</td><td>Charlie</td><td>IT</td><td>5200</td><td>2023-03</td><td>9</td></tr><tr><td>4</td><td>David</td><td>IT</td><td>4800</td><td>2023-01</td><td>10</td></tr><tr><td>4</td><td>David</td><td>IT</td><td>4900</td><td>2023-02</td><td>11</td></tr><tr><td>4</td><td>David</td><td>IT</td><td>5000</td><td>2023-03</td><td>12</td></tr><tr><td>5</td><td>Eve</td><td>Finance</td><td>5300</td><td>2023-01</td><td>13</td></tr><tr><td>5</td><td>Eve</td><td>Finance</td><td>5400</td><td>2023-02</td><td>14</td></tr><tr><td>5</td><td>Eve</td><td>Finance</td><td>5500</td><td>2023-03</td><td>15</td></tr></tbody></table></div>"
      ]
     },
     "metadata": {
      "application/vnd.databricks.v1+output": {
       "addedWidgets": {},
       "aggData": [],
       "aggError": "",
       "aggOverflow": false,
       "aggSchema": [],
       "aggSeriesLimitReached": false,
       "aggType": "",
       "arguments": {},
       "columnCustomDisplayInfos": {},
       "data": [
        [
         1,
         "Alice",
         "HR",
         4000,
         "2023-01",
         1
        ],
        [
         1,
         "Alice",
         "HR",
         4100,
         "2023-02",
         2
        ],
        [
         1,
         "Alice",
         "HR",
         4200,
         "2023-03",
         3
        ],
        [
         2,
         "Bob",
         "HR",
         4500,
         "2023-01",
         4
        ],
        [
         2,
         "Bob",
         "HR",
         4600,
         "2023-02",
         5
        ],
        [
         2,
         "Bob",
         "HR",
         4700,
         "2023-03",
         6
        ],
        [
         3,
         "Charlie",
         "IT",
         5000,
         "2023-01",
         7
        ],
        [
         3,
         "Charlie",
         "IT",
         5100,
         "2023-02",
         8
        ],
        [
         3,
         "Charlie",
         "IT",
         5200,
         "2023-03",
         9
        ],
        [
         4,
         "David",
         "IT",
         4800,
         "2023-01",
         10
        ],
        [
         4,
         "David",
         "IT",
         4900,
         "2023-02",
         11
        ],
        [
         4,
         "David",
         "IT",
         5000,
         "2023-03",
         12
        ],
        [
         5,
         "Eve",
         "Finance",
         5300,
         "2023-01",
         13
        ],
        [
         5,
         "Eve",
         "Finance",
         5400,
         "2023-02",
         14
        ],
        [
         5,
         "Eve",
         "Finance",
         5500,
         "2023-03",
         15
        ]
       ],
       "datasetInfos": [],
       "dbfsResultPath": null,
       "isJsonSchema": true,
       "metadata": {},
       "overflow": false,
       "plotOptions": {
        "customPlotOptions": {},
        "displayType": "table",
        "pivotAggregation": null,
        "pivotColumns": null,
        "xColumns": null,
        "yColumns": null
       },
       "removedWidgets": [],
       "schema": [
        {
         "metadata": "{}",
         "name": "emp_id",
         "type": "\"long\""
        },
        {
         "metadata": "{}",
         "name": "name",
         "type": "\"string\""
        },
        {
         "metadata": "{}",
         "name": "department",
         "type": "\"string\""
        },
        {
         "metadata": "{}",
         "name": "salary",
         "type": "\"long\""
        },
        {
         "metadata": "{}",
         "name": "month",
         "type": "\"string\""
        },
        {
         "metadata": "{}",
         "name": "rowcol",
         "type": "\"integer\""
        }
       ],
       "type": "table"
      }
     },
     "output_type": "display_data"
    }
   ],
   "source": [
    "from pyspark.sql.window import Window\n",
    "from pyspark.sql.functions import row_number\n",
    "\n",
    "# Define the window specification\n",
    "window_spec = Window.orderBy(\"emp_id\")\n",
    "\n",
    "# Apply row_number over the window\n",
    "df.withColumn(\"rowcol\", row_number().over(window_spec)).display()\n"
   ]
  },
  {
   "cell_type": "markdown",
   "metadata": {
    "application/vnd.databricks.v1+cell": {
     "cellMetadata": {},
     "inputWidgets": {},
     "nuid": "fced743d-e37f-4a8e-9f33-9788c2da9bcf",
     "showTitle": false,
     "tableResultSettingsMap": {},
     "title": ""
    }
   },
   "source": [
    "Rank()"
   ]
  },
  {
   "cell_type": "code",
   "execution_count": 0,
   "metadata": {
    "application/vnd.databricks.v1+cell": {
     "cellMetadata": {
      "byteLimit": 2048000,
      "rowLimit": 10000
     },
     "inputWidgets": {},
     "nuid": "cfc5e2d3-42cf-44de-813b-b50083a3be17",
     "showTitle": false,
     "tableResultSettingsMap": {},
     "title": ""
    }
   },
   "outputs": [
    {
     "output_type": "display_data",
     "data": {
      "text/html": [
       "<style scoped>\n",
       "  .table-result-container {\n",
       "    max-height: 300px;\n",
       "    overflow: auto;\n",
       "  }\n",
       "  table, th, td {\n",
       "    border: 1px solid black;\n",
       "    border-collapse: collapse;\n",
       "  }\n",
       "  th, td {\n",
       "    padding: 5px;\n",
       "  }\n",
       "  th {\n",
       "    text-align: left;\n",
       "  }\n",
       "</style><div class='table-result-container'><table class='table-result'><thead style='background-color: white'><tr><th>emp_id</th><th>name</th><th>department</th><th>salary</th><th>month</th><th>Rank_col</th></tr></thead><tbody><tr><td>1</td><td>Alice</td><td>HR</td><td>4000</td><td>2023-01</td><td>1</td></tr><tr><td>1</td><td>Alice</td><td>HR</td><td>4100</td><td>2023-02</td><td>1</td></tr><tr><td>1</td><td>Alice</td><td>HR</td><td>4200</td><td>2023-03</td><td>1</td></tr><tr><td>2</td><td>Bob</td><td>HR</td><td>4500</td><td>2023-01</td><td>4</td></tr><tr><td>2</td><td>Bob</td><td>HR</td><td>4600</td><td>2023-02</td><td>4</td></tr><tr><td>2</td><td>Bob</td><td>HR</td><td>4700</td><td>2023-03</td><td>4</td></tr><tr><td>3</td><td>Charlie</td><td>IT</td><td>5000</td><td>2023-01</td><td>7</td></tr><tr><td>3</td><td>Charlie</td><td>IT</td><td>5100</td><td>2023-02</td><td>7</td></tr><tr><td>3</td><td>Charlie</td><td>IT</td><td>5200</td><td>2023-03</td><td>7</td></tr><tr><td>4</td><td>David</td><td>IT</td><td>4800</td><td>2023-01</td><td>10</td></tr><tr><td>4</td><td>David</td><td>IT</td><td>4900</td><td>2023-02</td><td>10</td></tr><tr><td>4</td><td>David</td><td>IT</td><td>5000</td><td>2023-03</td><td>10</td></tr><tr><td>5</td><td>Eve</td><td>Finance</td><td>5300</td><td>2023-01</td><td>13</td></tr><tr><td>5</td><td>Eve</td><td>Finance</td><td>5400</td><td>2023-02</td><td>13</td></tr><tr><td>5</td><td>Eve</td><td>Finance</td><td>5500</td><td>2023-03</td><td>13</td></tr></tbody></table></div>"
      ]
     },
     "metadata": {
      "application/vnd.databricks.v1+output": {
       "addedWidgets": {},
       "aggData": [],
       "aggError": "",
       "aggOverflow": false,
       "aggSchema": [],
       "aggSeriesLimitReached": false,
       "aggType": "",
       "arguments": {},
       "columnCustomDisplayInfos": {},
       "data": [
        [
         1,
         "Alice",
         "HR",
         4000,
         "2023-01",
         1
        ],
        [
         1,
         "Alice",
         "HR",
         4100,
         "2023-02",
         1
        ],
        [
         1,
         "Alice",
         "HR",
         4200,
         "2023-03",
         1
        ],
        [
         2,
         "Bob",
         "HR",
         4500,
         "2023-01",
         4
        ],
        [
         2,
         "Bob",
         "HR",
         4600,
         "2023-02",
         4
        ],
        [
         2,
         "Bob",
         "HR",
         4700,
         "2023-03",
         4
        ],
        [
         3,
         "Charlie",
         "IT",
         5000,
         "2023-01",
         7
        ],
        [
         3,
         "Charlie",
         "IT",
         5100,
         "2023-02",
         7
        ],
        [
         3,
         "Charlie",
         "IT",
         5200,
         "2023-03",
         7
        ],
        [
         4,
         "David",
         "IT",
         4800,
         "2023-01",
         10
        ],
        [
         4,
         "David",
         "IT",
         4900,
         "2023-02",
         10
        ],
        [
         4,
         "David",
         "IT",
         5000,
         "2023-03",
         10
        ],
        [
         5,
         "Eve",
         "Finance",
         5300,
         "2023-01",
         13
        ],
        [
         5,
         "Eve",
         "Finance",
         5400,
         "2023-02",
         13
        ],
        [
         5,
         "Eve",
         "Finance",
         5500,
         "2023-03",
         13
        ]
       ],
       "datasetInfos": [],
       "dbfsResultPath": null,
       "isJsonSchema": true,
       "metadata": {},
       "overflow": false,
       "plotOptions": {
        "customPlotOptions": {},
        "displayType": "table",
        "pivotAggregation": null,
        "pivotColumns": null,
        "xColumns": null,
        "yColumns": null
       },
       "removedWidgets": [],
       "schema": [
        {
         "metadata": "{}",
         "name": "emp_id",
         "type": "\"long\""
        },
        {
         "metadata": "{}",
         "name": "name",
         "type": "\"string\""
        },
        {
         "metadata": "{}",
         "name": "department",
         "type": "\"string\""
        },
        {
         "metadata": "{}",
         "name": "salary",
         "type": "\"long\""
        },
        {
         "metadata": "{}",
         "name": "month",
         "type": "\"string\""
        },
        {
         "metadata": "{}",
         "name": "Rank_col",
         "type": "\"integer\""
        }
       ],
       "type": "table"
      }
     },
     "output_type": "display_data"
    }
   ],
   "source": [
    "from pyspark.sql.window import Window\n",
    "from pyspark.sql.functions import rank\n",
    "\n",
    "w= Window.orderBy(\"emp_id\")\n",
    "df.withColumn(\"Rank_col\", rank().over(w)).display()"
   ]
  },
  {
   "cell_type": "markdown",
   "metadata": {
    "application/vnd.databricks.v1+cell": {
     "cellMetadata": {},
     "inputWidgets": {},
     "nuid": "446bfed5-54f3-458c-88a8-ea82cb74c16a",
     "showTitle": false,
     "tableResultSettingsMap": {},
     "title": ""
    }
   },
   "source": [
    "# Dense rank()"
   ]
  },
  {
   "cell_type": "code",
   "execution_count": 0,
   "metadata": {
    "application/vnd.databricks.v1+cell": {
     "cellMetadata": {
      "byteLimit": 2048000,
      "rowLimit": 10000
     },
     "inputWidgets": {},
     "nuid": "82847205-6d90-4135-a587-84a96f3ee4e4",
     "showTitle": false,
     "tableResultSettingsMap": {},
     "title": ""
    }
   },
   "outputs": [
    {
     "output_type": "display_data",
     "data": {
      "text/html": [
       "<style scoped>\n",
       "  .table-result-container {\n",
       "    max-height: 300px;\n",
       "    overflow: auto;\n",
       "  }\n",
       "  table, th, td {\n",
       "    border: 1px solid black;\n",
       "    border-collapse: collapse;\n",
       "  }\n",
       "  th, td {\n",
       "    padding: 5px;\n",
       "  }\n",
       "  th {\n",
       "    text-align: left;\n",
       "  }\n",
       "</style><div class='table-result-container'><table class='table-result'><thead style='background-color: white'><tr><th>emp_id</th><th>name</th><th>department</th><th>salary</th><th>month</th><th>densecol</th></tr></thead><tbody><tr><td>5</td><td>Eve</td><td>Finance</td><td>5300</td><td>2023-01</td><td>1</td></tr><tr><td>5</td><td>Eve</td><td>Finance</td><td>5400</td><td>2023-02</td><td>1</td></tr><tr><td>5</td><td>Eve</td><td>Finance</td><td>5500</td><td>2023-03</td><td>1</td></tr><tr><td>4</td><td>David</td><td>IT</td><td>4800</td><td>2023-01</td><td>2</td></tr><tr><td>4</td><td>David</td><td>IT</td><td>4900</td><td>2023-02</td><td>2</td></tr><tr><td>4</td><td>David</td><td>IT</td><td>5000</td><td>2023-03</td><td>2</td></tr><tr><td>3</td><td>Charlie</td><td>IT</td><td>5000</td><td>2023-01</td><td>3</td></tr><tr><td>3</td><td>Charlie</td><td>IT</td><td>5100</td><td>2023-02</td><td>3</td></tr><tr><td>3</td><td>Charlie</td><td>IT</td><td>5200</td><td>2023-03</td><td>3</td></tr><tr><td>2</td><td>Bob</td><td>HR</td><td>4500</td><td>2023-01</td><td>4</td></tr><tr><td>2</td><td>Bob</td><td>HR</td><td>4600</td><td>2023-02</td><td>4</td></tr><tr><td>2</td><td>Bob</td><td>HR</td><td>4700</td><td>2023-03</td><td>4</td></tr><tr><td>1</td><td>Alice</td><td>HR</td><td>4000</td><td>2023-01</td><td>5</td></tr><tr><td>1</td><td>Alice</td><td>HR</td><td>4100</td><td>2023-02</td><td>5</td></tr><tr><td>1</td><td>Alice</td><td>HR</td><td>4200</td><td>2023-03</td><td>5</td></tr></tbody></table></div>"
      ]
     },
     "metadata": {
      "application/vnd.databricks.v1+output": {
       "addedWidgets": {},
       "aggData": [],
       "aggError": "",
       "aggOverflow": false,
       "aggSchema": [],
       "aggSeriesLimitReached": false,
       "aggType": "",
       "arguments": {},
       "columnCustomDisplayInfos": {},
       "data": [
        [
         5,
         "Eve",
         "Finance",
         5300,
         "2023-01",
         1
        ],
        [
         5,
         "Eve",
         "Finance",
         5400,
         "2023-02",
         1
        ],
        [
         5,
         "Eve",
         "Finance",
         5500,
         "2023-03",
         1
        ],
        [
         4,
         "David",
         "IT",
         4800,
         "2023-01",
         2
        ],
        [
         4,
         "David",
         "IT",
         4900,
         "2023-02",
         2
        ],
        [
         4,
         "David",
         "IT",
         5000,
         "2023-03",
         2
        ],
        [
         3,
         "Charlie",
         "IT",
         5000,
         "2023-01",
         3
        ],
        [
         3,
         "Charlie",
         "IT",
         5100,
         "2023-02",
         3
        ],
        [
         3,
         "Charlie",
         "IT",
         5200,
         "2023-03",
         3
        ],
        [
         2,
         "Bob",
         "HR",
         4500,
         "2023-01",
         4
        ],
        [
         2,
         "Bob",
         "HR",
         4600,
         "2023-02",
         4
        ],
        [
         2,
         "Bob",
         "HR",
         4700,
         "2023-03",
         4
        ],
        [
         1,
         "Alice",
         "HR",
         4000,
         "2023-01",
         5
        ],
        [
         1,
         "Alice",
         "HR",
         4100,
         "2023-02",
         5
        ],
        [
         1,
         "Alice",
         "HR",
         4200,
         "2023-03",
         5
        ]
       ],
       "datasetInfos": [],
       "dbfsResultPath": null,
       "isJsonSchema": true,
       "metadata": {},
       "overflow": false,
       "plotOptions": {
        "customPlotOptions": {},
        "displayType": "table",
        "pivotAggregation": null,
        "pivotColumns": null,
        "xColumns": null,
        "yColumns": null
       },
       "removedWidgets": [],
       "schema": [
        {
         "metadata": "{}",
         "name": "emp_id",
         "type": "\"long\""
        },
        {
         "metadata": "{}",
         "name": "name",
         "type": "\"string\""
        },
        {
         "metadata": "{}",
         "name": "department",
         "type": "\"string\""
        },
        {
         "metadata": "{}",
         "name": "salary",
         "type": "\"long\""
        },
        {
         "metadata": "{}",
         "name": "month",
         "type": "\"string\""
        },
        {
         "metadata": "{}",
         "name": "densecol",
         "type": "\"integer\""
        }
       ],
       "type": "table"
      }
     },
     "output_type": "display_data"
    }
   ],
   "source": [
    "from pyspark.sql.window import Window\n",
    "from pyspark.sql.functions import dense_rank\n",
    "\n",
    "window_spec = Window.orderBy(col(\"emp_id\").desc())\n",
    "\n",
    "# Apply row_number over the window\n",
    "df.withColumn(\"densecol\", dense_rank().over(window_spec)).display()"
   ]
  },
  {
   "cell_type": "markdown",
   "metadata": {
    "application/vnd.databricks.v1+cell": {
     "cellMetadata": {},
     "inputWidgets": {},
     "nuid": "a7d02414-7182-4dbd-a6b3-12ef0323597d",
     "showTitle": false,
     "tableResultSettingsMap": {},
     "title": ""
    }
   },
   "source": [
    "# Cumulative Sum : To add row by row"
   ]
  },
  {
   "cell_type": "code",
   "execution_count": 0,
   "metadata": {
    "application/vnd.databricks.v1+cell": {
     "cellMetadata": {
      "byteLimit": 2048000,
      "rowLimit": 10000
     },
     "inputWidgets": {},
     "nuid": "e8f0a133-1f50-4a86-b398-e2b3b174221a",
     "showTitle": false,
     "tableResultSettingsMap": {},
     "title": ""
    }
   },
   "outputs": [
    {
     "output_type": "display_data",
     "data": {
      "text/html": [
       "<style scoped>\n",
       "  .table-result-container {\n",
       "    max-height: 300px;\n",
       "    overflow: auto;\n",
       "  }\n",
       "  table, th, td {\n",
       "    border: 1px solid black;\n",
       "    border-collapse: collapse;\n",
       "  }\n",
       "  th, td {\n",
       "    padding: 5px;\n",
       "  }\n",
       "  th {\n",
       "    text-align: left;\n",
       "  }\n",
       "</style><div class='table-result-container'><table class='table-result'><thead style='background-color: white'><tr><th>emp_id</th><th>name</th><th>department</th><th>salary</th><th>month</th><th>cumsum</th></tr></thead><tbody><tr><td>1</td><td>Alice</td><td>HR</td><td>4000</td><td>2023-01</td><td>4000</td></tr><tr><td>1</td><td>Alice</td><td>HR</td><td>4100</td><td>2023-02</td><td>8100</td></tr><tr><td>1</td><td>Alice</td><td>HR</td><td>4200</td><td>2023-03</td><td>12300</td></tr><tr><td>2</td><td>Bob</td><td>HR</td><td>4500</td><td>2023-01</td><td>16800</td></tr><tr><td>2</td><td>Bob</td><td>HR</td><td>4600</td><td>2023-02</td><td>21400</td></tr><tr><td>2</td><td>Bob</td><td>HR</td><td>4700</td><td>2023-03</td><td>26100</td></tr><tr><td>3</td><td>Charlie</td><td>IT</td><td>5000</td><td>2023-01</td><td>31100</td></tr><tr><td>3</td><td>Charlie</td><td>IT</td><td>5100</td><td>2023-02</td><td>36200</td></tr><tr><td>3</td><td>Charlie</td><td>IT</td><td>5200</td><td>2023-03</td><td>41400</td></tr><tr><td>4</td><td>David</td><td>IT</td><td>4800</td><td>2023-01</td><td>46200</td></tr><tr><td>4</td><td>David</td><td>IT</td><td>4900</td><td>2023-02</td><td>51100</td></tr><tr><td>4</td><td>David</td><td>IT</td><td>5000</td><td>2023-03</td><td>56100</td></tr><tr><td>5</td><td>Eve</td><td>Finance</td><td>5300</td><td>2023-01</td><td>61400</td></tr><tr><td>5</td><td>Eve</td><td>Finance</td><td>5400</td><td>2023-02</td><td>66800</td></tr><tr><td>5</td><td>Eve</td><td>Finance</td><td>5500</td><td>2023-03</td><td>72300</td></tr></tbody></table></div>"
      ]
     },
     "metadata": {
      "application/vnd.databricks.v1+output": {
       "addedWidgets": {},
       "aggData": [],
       "aggError": "",
       "aggOverflow": false,
       "aggSchema": [],
       "aggSeriesLimitReached": false,
       "aggType": "",
       "arguments": {},
       "columnCustomDisplayInfos": {},
       "data": [
        [
         1,
         "Alice",
         "HR",
         4000,
         "2023-01",
         4000
        ],
        [
         1,
         "Alice",
         "HR",
         4100,
         "2023-02",
         8100
        ],
        [
         1,
         "Alice",
         "HR",
         4200,
         "2023-03",
         12300
        ],
        [
         2,
         "Bob",
         "HR",
         4500,
         "2023-01",
         16800
        ],
        [
         2,
         "Bob",
         "HR",
         4600,
         "2023-02",
         21400
        ],
        [
         2,
         "Bob",
         "HR",
         4700,
         "2023-03",
         26100
        ],
        [
         3,
         "Charlie",
         "IT",
         5000,
         "2023-01",
         31100
        ],
        [
         3,
         "Charlie",
         "IT",
         5100,
         "2023-02",
         36200
        ],
        [
         3,
         "Charlie",
         "IT",
         5200,
         "2023-03",
         41400
        ],
        [
         4,
         "David",
         "IT",
         4800,
         "2023-01",
         46200
        ],
        [
         4,
         "David",
         "IT",
         4900,
         "2023-02",
         51100
        ],
        [
         4,
         "David",
         "IT",
         5000,
         "2023-03",
         56100
        ],
        [
         5,
         "Eve",
         "Finance",
         5300,
         "2023-01",
         61400
        ],
        [
         5,
         "Eve",
         "Finance",
         5400,
         "2023-02",
         66800
        ],
        [
         5,
         "Eve",
         "Finance",
         5500,
         "2023-03",
         72300
        ]
       ],
       "datasetInfos": [],
       "dbfsResultPath": null,
       "isJsonSchema": true,
       "metadata": {},
       "overflow": false,
       "plotOptions": {
        "customPlotOptions": {},
        "displayType": "table",
        "pivotAggregation": null,
        "pivotColumns": null,
        "xColumns": null,
        "yColumns": null
       },
       "removedWidgets": [],
       "schema": [
        {
         "metadata": "{}",
         "name": "emp_id",
         "type": "\"long\""
        },
        {
         "metadata": "{}",
         "name": "name",
         "type": "\"string\""
        },
        {
         "metadata": "{}",
         "name": "department",
         "type": "\"string\""
        },
        {
         "metadata": "{}",
         "name": "salary",
         "type": "\"long\""
        },
        {
         "metadata": "{}",
         "name": "month",
         "type": "\"string\""
        },
        {
         "metadata": "{}",
         "name": "cumsum",
         "type": "\"long\""
        }
       ],
       "type": "table"
      }
     },
     "output_type": "display_data"
    },
    {
     "output_type": "display_data",
     "data": {
      "text/html": [
       "<style scoped>\n",
       "  .table-result-container {\n",
       "    max-height: 300px;\n",
       "    overflow: auto;\n",
       "  }\n",
       "  table, th, td {\n",
       "    border: 1px solid black;\n",
       "    border-collapse: collapse;\n",
       "  }\n",
       "  th, td {\n",
       "    padding: 5px;\n",
       "  }\n",
       "  th {\n",
       "    text-align: left;\n",
       "  }\n",
       "</style><div class='table-result-container'><table class='table-result'><thead style='background-color: white'><tr><th>emp_id</th><th>name</th><th>department</th><th>salary</th><th>month</th><th>totsum</th></tr></thead><tbody><tr><td>1</td><td>Alice</td><td>HR</td><td>4000</td><td>2023-01</td><td>72300</td></tr><tr><td>2</td><td>Bob</td><td>HR</td><td>4500</td><td>2023-01</td><td>72300</td></tr><tr><td>3</td><td>Charlie</td><td>IT</td><td>5000</td><td>2023-01</td><td>72300</td></tr><tr><td>4</td><td>David</td><td>IT</td><td>4800</td><td>2023-01</td><td>72300</td></tr><tr><td>5</td><td>Eve</td><td>Finance</td><td>5300</td><td>2023-01</td><td>72300</td></tr><tr><td>1</td><td>Alice</td><td>HR</td><td>4100</td><td>2023-02</td><td>72300</td></tr><tr><td>2</td><td>Bob</td><td>HR</td><td>4600</td><td>2023-02</td><td>72300</td></tr><tr><td>3</td><td>Charlie</td><td>IT</td><td>5100</td><td>2023-02</td><td>72300</td></tr><tr><td>4</td><td>David</td><td>IT</td><td>4900</td><td>2023-02</td><td>72300</td></tr><tr><td>5</td><td>Eve</td><td>Finance</td><td>5400</td><td>2023-02</td><td>72300</td></tr><tr><td>1</td><td>Alice</td><td>HR</td><td>4200</td><td>2023-03</td><td>72300</td></tr><tr><td>2</td><td>Bob</td><td>HR</td><td>4700</td><td>2023-03</td><td>72300</td></tr><tr><td>3</td><td>Charlie</td><td>IT</td><td>5200</td><td>2023-03</td><td>72300</td></tr><tr><td>4</td><td>David</td><td>IT</td><td>5000</td><td>2023-03</td><td>72300</td></tr><tr><td>5</td><td>Eve</td><td>Finance</td><td>5500</td><td>2023-03</td><td>72300</td></tr></tbody></table></div>"
      ]
     },
     "metadata": {
      "application/vnd.databricks.v1+output": {
       "addedWidgets": {},
       "aggData": [],
       "aggError": "",
       "aggOverflow": false,
       "aggSchema": [],
       "aggSeriesLimitReached": false,
       "aggType": "",
       "arguments": {},
       "columnCustomDisplayInfos": {},
       "data": [
        [
         1,
         "Alice",
         "HR",
         4000,
         "2023-01",
         72300
        ],
        [
         2,
         "Bob",
         "HR",
         4500,
         "2023-01",
         72300
        ],
        [
         3,
         "Charlie",
         "IT",
         5000,
         "2023-01",
         72300
        ],
        [
         4,
         "David",
         "IT",
         4800,
         "2023-01",
         72300
        ],
        [
         5,
         "Eve",
         "Finance",
         5300,
         "2023-01",
         72300
        ],
        [
         1,
         "Alice",
         "HR",
         4100,
         "2023-02",
         72300
        ],
        [
         2,
         "Bob",
         "HR",
         4600,
         "2023-02",
         72300
        ],
        [
         3,
         "Charlie",
         "IT",
         5100,
         "2023-02",
         72300
        ],
        [
         4,
         "David",
         "IT",
         4900,
         "2023-02",
         72300
        ],
        [
         5,
         "Eve",
         "Finance",
         5400,
         "2023-02",
         72300
        ],
        [
         1,
         "Alice",
         "HR",
         4200,
         "2023-03",
         72300
        ],
        [
         2,
         "Bob",
         "HR",
         4700,
         "2023-03",
         72300
        ],
        [
         3,
         "Charlie",
         "IT",
         5200,
         "2023-03",
         72300
        ],
        [
         4,
         "David",
         "IT",
         5000,
         "2023-03",
         72300
        ],
        [
         5,
         "Eve",
         "Finance",
         5500,
         "2023-03",
         72300
        ]
       ],
       "datasetInfos": [],
       "dbfsResultPath": null,
       "isJsonSchema": true,
       "metadata": {},
       "overflow": false,
       "plotOptions": {
        "customPlotOptions": {},
        "displayType": "table",
        "pivotAggregation": null,
        "pivotColumns": null,
        "xColumns": null,
        "yColumns": null
       },
       "removedWidgets": [],
       "schema": [
        {
         "metadata": "{}",
         "name": "emp_id",
         "type": "\"long\""
        },
        {
         "metadata": "{}",
         "name": "name",
         "type": "\"string\""
        },
        {
         "metadata": "{}",
         "name": "department",
         "type": "\"string\""
        },
        {
         "metadata": "{}",
         "name": "salary",
         "type": "\"long\""
        },
        {
         "metadata": "{}",
         "name": "month",
         "type": "\"string\""
        },
        {
         "metadata": "{}",
         "name": "totsum",
         "type": "\"long\""
        }
       ],
       "type": "table"
      }
     },
     "output_type": "display_data"
    }
   ],
   "source": [
    "\n",
    "from pyspark.sql.window import Window\n",
    "from pyspark.sql.functions import sum\n",
    "\n",
    "# Define the window specification\n",
    "window_spec = Window.orderBy(\"emp_id\").rowsBetween(Window.unboundedPreceding, Window.currentRow)\n",
    "\n",
    "df.withColumn(\"cumsum\", sum(\"salary\").over(window_spec)).display()\n",
    "\n",
    "\n",
    "# Define the window specification\n",
    "window_spec = Window.orderBy(\"emp_id\").rowsBetween(Window.unboundedPreceding, Window.unboundedFollowing)\n",
    "\n",
    "df.withColumn(\"totsum\", sum(\"salary\").over(window_spec)).display()"
   ]
  },
  {
   "cell_type": "markdown",
   "metadata": {
    "application/vnd.databricks.v1+cell": {
     "cellMetadata": {},
     "inputWidgets": {},
     "nuid": "eaf4fa2f-47a6-41ae-af5b-1f068f0e470b",
     "showTitle": false,
     "tableResultSettingsMap": {},
     "title": ""
    }
   },
   "source": [
    "# User defined"
   ]
  },
  {
   "cell_type": "code",
   "execution_count": 0,
   "metadata": {
    "application/vnd.databricks.v1+cell": {
     "cellMetadata": {
      "byteLimit": 2048000,
      "rowLimit": 10000
     },
     "inputWidgets": {},
     "nuid": "b2fbede3-4c91-4147-8054-3c4650b12204",
     "showTitle": false,
     "tableResultSettingsMap": {},
     "title": ""
    }
   },
   "outputs": [
    {
     "output_type": "display_data",
     "data": {
      "text/html": [
       "<style scoped>\n",
       "  .table-result-container {\n",
       "    max-height: 300px;\n",
       "    overflow: auto;\n",
       "  }\n",
       "  table, th, td {\n",
       "    border: 1px solid black;\n",
       "    border-collapse: collapse;\n",
       "  }\n",
       "  th, td {\n",
       "    padding: 5px;\n",
       "  }\n",
       "  th {\n",
       "    text-align: left;\n",
       "  }\n",
       "</style><div class='table-result-container'><table class='table-result'><thead style='background-color: white'><tr><th>emp_id</th><th>salary</th><th>newcol</th></tr></thead><tbody><tr><td>1</td><td>1000</td><td>1000000</td></tr><tr><td>2</td><td>2000</td><td>4000000</td></tr><tr><td>3</td><td>3000</td><td>9000000</td></tr></tbody></table></div>"
      ]
     },
     "metadata": {
      "application/vnd.databricks.v1+output": {
       "addedWidgets": {},
       "aggData": [],
       "aggError": "",
       "aggOverflow": false,
       "aggSchema": [],
       "aggSeriesLimitReached": false,
       "aggType": "",
       "arguments": {},
       "columnCustomDisplayInfos": {},
       "data": [
        [
         1,
         1000,
         "1000000"
        ],
        [
         2,
         2000,
         "4000000"
        ],
        [
         3,
         3000,
         "9000000"
        ]
       ],
       "datasetInfos": [],
       "dbfsResultPath": null,
       "isJsonSchema": true,
       "metadata": {},
       "overflow": false,
       "plotOptions": {
        "customPlotOptions": {},
        "displayType": "table",
        "pivotAggregation": null,
        "pivotColumns": null,
        "xColumns": null,
        "yColumns": null
       },
       "removedWidgets": [],
       "schema": [
        {
         "metadata": "{}",
         "name": "emp_id",
         "type": "\"long\""
        },
        {
         "metadata": "{}",
         "name": "salary",
         "type": "\"long\""
        },
        {
         "metadata": "{}",
         "name": "newcol",
         "type": "\"string\""
        }
       ],
       "type": "table"
      }
     },
     "output_type": "display_data"
    }
   ],
   "source": [
    "# Step 1: Define the function\n",
    "def myfun(x):\n",
    "    return x * x\n",
    "\n",
    "# Step 2: Register the UDF\n",
    "myudf = udf(myfun)\n",
    "\n",
    "# Step 3: Create a sample DataFrame\n",
    "data = [(1, 1000), (2, 2000), (3, 3000)]\n",
    "columns = [\"emp_id\", \"salary\"]\n",
    "df = spark.createDataFrame(data, columns)\n",
    "\n",
    "# Step 4: Use the UDF to create a new column\n",
    "df = df.withColumn(\"newcol\", myudf(\"salary\"))\n",
    "\n",
    "# Step 5: Display the DataFrame\n",
    "display(df)"
   ]
  },
  {
   "cell_type": "markdown",
   "metadata": {
    "application/vnd.databricks.v1+cell": {
     "cellMetadata": {},
     "inputWidgets": {},
     "nuid": "b798ac8c-6b69-4954-93c5-9a7b7fcce4fa",
     "showTitle": false,
     "tableResultSettingsMap": {},
     "title": ""
    }
   },
   "source": [
    "# Data Writing and Modes\n"
   ]
  },
  {
   "cell_type": "markdown",
   "metadata": {
    "application/vnd.databricks.v1+cell": {
     "cellMetadata": {},
     "inputWidgets": {},
     "nuid": "7d09cc72-1712-4a5b-af8d-0f04050cf3d3",
     "showTitle": false,
     "tableResultSettingsMap": {},
     "title": ""
    }
   },
   "source": [
    "# Append"
   ]
  },
  {
   "cell_type": "code",
   "execution_count": 0,
   "metadata": {
    "application/vnd.databricks.v1+cell": {
     "cellMetadata": {
      "byteLimit": 2048000,
      "rowLimit": 10000
     },
     "inputWidgets": {},
     "nuid": "5c4597ea-b9da-4f55-93cb-551900947ad5",
     "showTitle": false,
     "tableResultSettingsMap": {},
     "title": ""
    }
   },
   "outputs": [
    {
     "output_type": "display_data",
     "data": {
      "text/html": [
       "<style scoped>\n",
       "  .table-result-container {\n",
       "    max-height: 300px;\n",
       "    overflow: auto;\n",
       "  }\n",
       "  table, th, td {\n",
       "    border: 1px solid black;\n",
       "    border-collapse: collapse;\n",
       "  }\n",
       "  th, td {\n",
       "    padding: 5px;\n",
       "  }\n",
       "  th {\n",
       "    text-align: left;\n",
       "  }\n",
       "</style><div class='table-result-container'><table class='table-result'><thead style='background-color: white'><tr><th>product_id</th><th>name</th><th>category</th><th>sub_category</th></tr></thead><tbody><tr><td>101</td><td>iPhone 13</td><td>Electronics</td><td>Phone</td></tr><tr><td>102</td><td>MacBook Pro</td><td>Electronics</td><td>Laptop</td></tr><tr><td>103</td><td>T-shirt</td><td>Clothing</td><td>Top</td></tr><tr><td>104</td><td>Sofa</td><td>Furniture</td><td>Seating</td></tr><tr><td>105</td><td>Mixer Grinder</td><td>Kitchenware</td><td>Appliance</td></tr><tr><td>106</td><td>Shoes</td><td>Footwear</td><td>Sneakers</td></tr><tr><td>107</td><td>Samsung TV</td><td>Electronics</td><td>TV</td></tr><tr><td>102</td><td>MacBook Pro</td><td>Electronics</td><td>Laptop</td></tr><tr><td>103</td><td>T-shirt</td><td>Clothing</td><td>Top</td></tr><tr><td>104</td><td>Sofa</td><td>Furniture</td><td>Seating</td></tr><tr><td>105</td><td>Mixer Grinder</td><td>Kitchenware</td><td>Appliance</td></tr><tr><td>106</td><td>Shoes</td><td>Footwear</td><td>Sneakers</td></tr><tr><td>107</td><td>Samsung TV</td><td>Electronics</td><td>TV</td></tr></tbody></table></div>"
      ]
     },
     "metadata": {
      "application/vnd.databricks.v1+output": {
       "addedWidgets": {},
       "aggData": [],
       "aggError": "",
       "aggOverflow": false,
       "aggSchema": [],
       "aggSeriesLimitReached": false,
       "aggType": "",
       "arguments": {},
       "columnCustomDisplayInfos": {},
       "data": [
        [
         101,
         "iPhone 13",
         "Electronics",
         "Phone"
        ],
        [
         102,
         "MacBook Pro",
         "Electronics",
         "Laptop"
        ],
        [
         103,
         "T-shirt",
         "Clothing",
         "Top"
        ],
        [
         104,
         "Sofa",
         "Furniture",
         "Seating"
        ],
        [
         105,
         "Mixer Grinder",
         "Kitchenware",
         "Appliance"
        ],
        [
         106,
         "Shoes",
         "Footwear",
         "Sneakers"
        ],
        [
         107,
         "Samsung TV",
         "Electronics",
         "TV"
        ],
        [
         102,
         "MacBook Pro",
         "Electronics",
         "Laptop"
        ],
        [
         103,
         "T-shirt",
         "Clothing",
         "Top"
        ],
        [
         104,
         "Sofa",
         "Furniture",
         "Seating"
        ],
        [
         105,
         "Mixer Grinder",
         "Kitchenware",
         "Appliance"
        ],
        [
         106,
         "Shoes",
         "Footwear",
         "Sneakers"
        ],
        [
         107,
         "Samsung TV",
         "Electronics",
         "TV"
        ]
       ],
       "datasetInfos": [],
       "dbfsResultPath": null,
       "isJsonSchema": true,
       "metadata": {},
       "overflow": false,
       "plotOptions": {
        "customPlotOptions": {},
        "displayType": "table",
        "pivotAggregation": null,
        "pivotColumns": null,
        "xColumns": null,
        "yColumns": null
       },
       "removedWidgets": [],
       "schema": [
        {
         "metadata": "{}",
         "name": "product_id",
         "type": "\"integer\""
        },
        {
         "metadata": "{}",
         "name": "name",
         "type": "\"string\""
        },
        {
         "metadata": "{}",
         "name": "category",
         "type": "\"string\""
        },
        {
         "metadata": "{}",
         "name": "sub_category",
         "type": "\"string\""
        }
       ],
       "type": "table"
      }
     },
     "output_type": "display_data"
    }
   ],
   "source": [
    "df = spark.read.format(\"csv\").option(\"inferSchema\", \"true\").option(\"header\", \"true\").load(\"/Volumes/workspace/navpractise/naveen/navnaa/products.csv\")\n",
    "\n",
    "#append\n",
    "df.write.format(\"csv\").mode(\"append\").save(\"/Volumes/workspace/navpractise/naveen/navnaa/products.csv\")"
   ]
  },
  {
   "cell_type": "markdown",
   "metadata": {
    "application/vnd.databricks.v1+cell": {
     "cellMetadata": {},
     "inputWidgets": {},
     "nuid": "262e59ab-9f92-4f46-a206-0047c0c4e658",
     "showTitle": false,
     "tableResultSettingsMap": {},
     "title": ""
    }
   },
   "source": [
    "# Overwrite"
   ]
  },
  {
   "cell_type": "code",
   "execution_count": 0,
   "metadata": {
    "application/vnd.databricks.v1+cell": {
     "cellMetadata": {
      "byteLimit": 2048000,
      "rowLimit": 10000
     },
     "inputWidgets": {},
     "nuid": "b7e919d7-3791-4855-a73c-c64d2f407be5",
     "showTitle": false,
     "tableResultSettingsMap": {},
     "title": ""
    }
   },
   "outputs": [
    {
     "output_type": "display_data",
     "data": {
      "text/html": [
       "<style scoped>\n",
       "  .table-result-container {\n",
       "    max-height: 300px;\n",
       "    overflow: auto;\n",
       "  }\n",
       "  table, th, td {\n",
       "    border: 1px solid black;\n",
       "    border-collapse: collapse;\n",
       "  }\n",
       "  th, td {\n",
       "    padding: 5px;\n",
       "  }\n",
       "  th {\n",
       "    text-align: left;\n",
       "  }\n",
       "</style><div class='table-result-container'><table class='table-result'><thead style='background-color: white'><tr><th>product_id</th><th>name</th><th>category</th><th>sub_category</th></tr></thead><tbody><tr><td>101</td><td>iPhone 13</td><td>Electronics</td><td>Phone</td></tr><tr><td>102</td><td>MacBook Pro</td><td>Electronics</td><td>Laptop</td></tr><tr><td>103</td><td>T-shirt</td><td>Clothing</td><td>Top</td></tr><tr><td>104</td><td>Sofa</td><td>Furniture</td><td>Seating</td></tr><tr><td>105</td><td>Mixer Grinder</td><td>Kitchenware</td><td>Appliance</td></tr><tr><td>106</td><td>Shoes</td><td>Footwear</td><td>Sneakers</td></tr><tr><td>107</td><td>Samsung TV</td><td>Electronics</td><td>TV</td></tr><tr><td>102</td><td>MacBook Pro</td><td>Electronics</td><td>Laptop</td></tr><tr><td>103</td><td>T-shirt</td><td>Clothing</td><td>Top</td></tr><tr><td>104</td><td>Sofa</td><td>Furniture</td><td>Seating</td></tr><tr><td>105</td><td>Mixer Grinder</td><td>Kitchenware</td><td>Appliance</td></tr><tr><td>106</td><td>Shoes</td><td>Footwear</td><td>Sneakers</td></tr><tr><td>107</td><td>Samsung TV</td><td>Electronics</td><td>TV</td></tr><tr><td>102</td><td>MacBook Pro</td><td>Electronics</td><td>Laptop</td></tr><tr><td>103</td><td>T-shirt</td><td>Clothing</td><td>Top</td></tr><tr><td>104</td><td>Sofa</td><td>Furniture</td><td>Seating</td></tr><tr><td>105</td><td>Mixer Grinder</td><td>Kitchenware</td><td>Appliance</td></tr><tr><td>106</td><td>Shoes</td><td>Footwear</td><td>Sneakers</td></tr><tr><td>107</td><td>Samsung TV</td><td>Electronics</td><td>TV</td></tr><tr><td>103</td><td>T-shirt</td><td>Clothing</td><td>Top</td></tr><tr><td>104</td><td>Sofa</td><td>Furniture</td><td>Seating</td></tr><tr><td>105</td><td>Mixer Grinder</td><td>Kitchenware</td><td>Appliance</td></tr><tr><td>106</td><td>Shoes</td><td>Footwear</td><td>Sneakers</td></tr><tr><td>107</td><td>Samsung TV</td><td>Electronics</td><td>TV</td></tr></tbody></table></div>"
      ]
     },
     "metadata": {
      "application/vnd.databricks.v1+output": {
       "addedWidgets": {},
       "aggData": [],
       "aggError": "",
       "aggOverflow": false,
       "aggSchema": [],
       "aggSeriesLimitReached": false,
       "aggType": "",
       "arguments": {},
       "columnCustomDisplayInfos": {},
       "data": [
        [
         101,
         "iPhone 13",
         "Electronics",
         "Phone"
        ],
        [
         102,
         "MacBook Pro",
         "Electronics",
         "Laptop"
        ],
        [
         103,
         "T-shirt",
         "Clothing",
         "Top"
        ],
        [
         104,
         "Sofa",
         "Furniture",
         "Seating"
        ],
        [
         105,
         "Mixer Grinder",
         "Kitchenware",
         "Appliance"
        ],
        [
         106,
         "Shoes",
         "Footwear",
         "Sneakers"
        ],
        [
         107,
         "Samsung TV",
         "Electronics",
         "TV"
        ],
        [
         102,
         "MacBook Pro",
         "Electronics",
         "Laptop"
        ],
        [
         103,
         "T-shirt",
         "Clothing",
         "Top"
        ],
        [
         104,
         "Sofa",
         "Furniture",
         "Seating"
        ],
        [
         105,
         "Mixer Grinder",
         "Kitchenware",
         "Appliance"
        ],
        [
         106,
         "Shoes",
         "Footwear",
         "Sneakers"
        ],
        [
         107,
         "Samsung TV",
         "Electronics",
         "TV"
        ],
        [
         102,
         "MacBook Pro",
         "Electronics",
         "Laptop"
        ],
        [
         103,
         "T-shirt",
         "Clothing",
         "Top"
        ],
        [
         104,
         "Sofa",
         "Furniture",
         "Seating"
        ],
        [
         105,
         "Mixer Grinder",
         "Kitchenware",
         "Appliance"
        ],
        [
         106,
         "Shoes",
         "Footwear",
         "Sneakers"
        ],
        [
         107,
         "Samsung TV",
         "Electronics",
         "TV"
        ],
        [
         103,
         "T-shirt",
         "Clothing",
         "Top"
        ],
        [
         104,
         "Sofa",
         "Furniture",
         "Seating"
        ],
        [
         105,
         "Mixer Grinder",
         "Kitchenware",
         "Appliance"
        ],
        [
         106,
         "Shoes",
         "Footwear",
         "Sneakers"
        ],
        [
         107,
         "Samsung TV",
         "Electronics",
         "TV"
        ]
       ],
       "datasetInfos": [],
       "dbfsResultPath": null,
       "isJsonSchema": true,
       "metadata": {},
       "overflow": false,
       "plotOptions": {
        "customPlotOptions": {},
        "displayType": "table",
        "pivotAggregation": null,
        "pivotColumns": null,
        "xColumns": null,
        "yColumns": null
       },
       "removedWidgets": [],
       "schema": [
        {
         "metadata": "{}",
         "name": "product_id",
         "type": "\"integer\""
        },
        {
         "metadata": "{}",
         "name": "name",
         "type": "\"string\""
        },
        {
         "metadata": "{}",
         "name": "category",
         "type": "\"string\""
        },
        {
         "metadata": "{}",
         "name": "sub_category",
         "type": "\"string\""
        }
       ],
       "type": "table"
      }
     },
     "output_type": "display_data"
    }
   ],
   "source": [
    "df = spark.read.format(\"csv\").option(\"inferSchema\", \"true\").option(\"header\", \"true\").load(\"/Volumes/workspace/navpractise/naveen/navnaa/products.csv\")\n",
    "\n",
    "#overwrite\n",
    "df.write.format(\"csv\").mode(\"overwrite\").save(\"/Volumes/workspace/navpractise/naveen/navnaa/products.csv\")"
   ]
  },
  {
   "cell_type": "markdown",
   "metadata": {
    "application/vnd.databricks.v1+cell": {
     "cellMetadata": {},
     "inputWidgets": {},
     "nuid": "a891522e-c3ca-4537-a0e3-6f1fc439b086",
     "showTitle": false,
     "tableResultSettingsMap": {},
     "title": ""
    }
   },
   "source": [
    "# Error"
   ]
  },
  {
   "cell_type": "code",
   "execution_count": 0,
   "metadata": {
    "application/vnd.databricks.v1+cell": {
     "cellMetadata": {
      "byteLimit": 2048000,
      "rowLimit": 10000
     },
     "inputWidgets": {},
     "nuid": "0506f4ea-0bb5-4ee4-9a2f-212d0065c099",
     "showTitle": false,
     "tableResultSettingsMap": {},
     "title": ""
    }
   },
   "outputs": [
    {
     "output_type": "display_data",
     "data": {
      "text/plain": [
       "\u001B[0;31m---------------------------------------------------------------------------\u001B[0m\n",
       "\u001B[0;31mAnalysisException\u001B[0m                         Traceback (most recent call last)\n",
       "File \u001B[0;32m<command-4861324046094436>, line 3\u001B[0m\n",
       "\u001B[1;32m      1\u001B[0m df \u001B[38;5;241m=\u001B[39m spark\u001B[38;5;241m.\u001B[39mread\u001B[38;5;241m.\u001B[39mformat(\u001B[38;5;124m\"\u001B[39m\u001B[38;5;124mcsv\u001B[39m\u001B[38;5;124m\"\u001B[39m)\u001B[38;5;241m.\u001B[39moption(\u001B[38;5;124m\"\u001B[39m\u001B[38;5;124minferSchema\u001B[39m\u001B[38;5;124m\"\u001B[39m, \u001B[38;5;124m\"\u001B[39m\u001B[38;5;124mtrue\u001B[39m\u001B[38;5;124m\"\u001B[39m)\u001B[38;5;241m.\u001B[39moption(\u001B[38;5;124m\"\u001B[39m\u001B[38;5;124mheader\u001B[39m\u001B[38;5;124m\"\u001B[39m, \u001B[38;5;124m\"\u001B[39m\u001B[38;5;124mtrue\u001B[39m\u001B[38;5;124m\"\u001B[39m)\u001B[38;5;241m.\u001B[39mload(\u001B[38;5;124m\"\u001B[39m\u001B[38;5;124m/Volumes/workspace/navpractise/naveen/navnaa/products.csv\u001B[39m\u001B[38;5;124m\"\u001B[39m)\n",
       "\u001B[0;32m----> 3\u001B[0m df\u001B[38;5;241m.\u001B[39mwrite\u001B[38;5;241m.\u001B[39mformat(\u001B[38;5;124m\"\u001B[39m\u001B[38;5;124mcsv\u001B[39m\u001B[38;5;124m\"\u001B[39m)\u001B[38;5;241m.\u001B[39mmode(\u001B[38;5;124m\"\u001B[39m\u001B[38;5;124merror\u001B[39m\u001B[38;5;124m\"\u001B[39m)\u001B[38;5;241m.\u001B[39msave(\u001B[38;5;124m\"\u001B[39m\u001B[38;5;124m/Volumes/workspace/navpractise/naveen/navnaa/products.csv\u001B[39m\u001B[38;5;124m\"\u001B[39m)\n",
       "\n",
       "File \u001B[0;32m/databricks/python/lib/python3.11/site-packages/pyspark/sql/connect/readwriter.py:679\u001B[0m, in \u001B[0;36mDataFrameWriter.save\u001B[0;34m(self, path, format, mode, partitionBy, **options)\u001B[0m\n",
       "\u001B[1;32m    677\u001B[0m     \u001B[38;5;28mself\u001B[39m\u001B[38;5;241m.\u001B[39mformat(\u001B[38;5;28mformat\u001B[39m)\n",
       "\u001B[1;32m    678\u001B[0m \u001B[38;5;28mself\u001B[39m\u001B[38;5;241m.\u001B[39m_write\u001B[38;5;241m.\u001B[39mpath \u001B[38;5;241m=\u001B[39m path\n",
       "\u001B[0;32m--> 679\u001B[0m _, _, ei \u001B[38;5;241m=\u001B[39m \u001B[38;5;28mself\u001B[39m\u001B[38;5;241m.\u001B[39m_spark\u001B[38;5;241m.\u001B[39mclient\u001B[38;5;241m.\u001B[39mexecute_command(\n",
       "\u001B[1;32m    680\u001B[0m     \u001B[38;5;28mself\u001B[39m\u001B[38;5;241m.\u001B[39m_write\u001B[38;5;241m.\u001B[39mcommand(\u001B[38;5;28mself\u001B[39m\u001B[38;5;241m.\u001B[39m_spark\u001B[38;5;241m.\u001B[39mclient), \u001B[38;5;28mself\u001B[39m\u001B[38;5;241m.\u001B[39m_write\u001B[38;5;241m.\u001B[39mobservations\n",
       "\u001B[1;32m    681\u001B[0m )\n",
       "\u001B[1;32m    682\u001B[0m \u001B[38;5;28mself\u001B[39m\u001B[38;5;241m.\u001B[39m_callback(ei)\n",
       "\n",
       "File \u001B[0;32m/databricks/python/lib/python3.11/site-packages/pyspark/sql/connect/client/core.py:1297\u001B[0m, in \u001B[0;36mSparkConnectClient.execute_command\u001B[0;34m(self, command, observations, extra_request_metadata)\u001B[0m\n",
       "\u001B[1;32m   1295\u001B[0m     req\u001B[38;5;241m.\u001B[39muser_context\u001B[38;5;241m.\u001B[39muser_id \u001B[38;5;241m=\u001B[39m \u001B[38;5;28mself\u001B[39m\u001B[38;5;241m.\u001B[39m_user_id\n",
       "\u001B[1;32m   1296\u001B[0m req\u001B[38;5;241m.\u001B[39mplan\u001B[38;5;241m.\u001B[39mcommand\u001B[38;5;241m.\u001B[39mCopyFrom(command)\n",
       "\u001B[0;32m-> 1297\u001B[0m data, _, metrics, observed_metrics, properties \u001B[38;5;241m=\u001B[39m \u001B[38;5;28mself\u001B[39m\u001B[38;5;241m.\u001B[39m_execute_and_fetch(\n",
       "\u001B[1;32m   1298\u001B[0m     req, observations \u001B[38;5;129;01mor\u001B[39;00m {}, extra_request_metadata\n",
       "\u001B[1;32m   1299\u001B[0m )\n",
       "\u001B[1;32m   1300\u001B[0m \u001B[38;5;66;03m# Create a query execution object.\u001B[39;00m\n",
       "\u001B[1;32m   1301\u001B[0m ei \u001B[38;5;241m=\u001B[39m ExecutionInfo(metrics, observed_metrics)\n",
       "\n",
       "File \u001B[0;32m/databricks/python/lib/python3.11/site-packages/pyspark/sql/connect/client/core.py:1755\u001B[0m, in \u001B[0;36mSparkConnectClient._execute_and_fetch\u001B[0;34m(self, req, observations, extra_request_metadata, self_destruct)\u001B[0m\n",
       "\u001B[1;32m   1752\u001B[0m properties: Dict[\u001B[38;5;28mstr\u001B[39m, Any] \u001B[38;5;241m=\u001B[39m {}\n",
       "\u001B[1;32m   1754\u001B[0m \u001B[38;5;28;01mwith\u001B[39;00m Progress(handlers\u001B[38;5;241m=\u001B[39m\u001B[38;5;28mself\u001B[39m\u001B[38;5;241m.\u001B[39m_progress_handlers, operation_id\u001B[38;5;241m=\u001B[39mreq\u001B[38;5;241m.\u001B[39moperation_id) \u001B[38;5;28;01mas\u001B[39;00m progress:\n",
       "\u001B[0;32m-> 1755\u001B[0m     \u001B[38;5;28;01mfor\u001B[39;00m response \u001B[38;5;129;01min\u001B[39;00m \u001B[38;5;28mself\u001B[39m\u001B[38;5;241m.\u001B[39m_execute_and_fetch_as_iterator(\n",
       "\u001B[1;32m   1756\u001B[0m         req, observations, extra_request_metadata \u001B[38;5;129;01mor\u001B[39;00m [], progress\u001B[38;5;241m=\u001B[39mprogress\n",
       "\u001B[1;32m   1757\u001B[0m     ):\n",
       "\u001B[1;32m   1758\u001B[0m         \u001B[38;5;28;01mif\u001B[39;00m \u001B[38;5;28misinstance\u001B[39m(response, StructType):\n",
       "\u001B[1;32m   1759\u001B[0m             schema \u001B[38;5;241m=\u001B[39m response\n",
       "\n",
       "File \u001B[0;32m/databricks/python/lib/python3.11/site-packages/pyspark/sql/connect/client/core.py:1731\u001B[0m, in \u001B[0;36mSparkConnectClient._execute_and_fetch_as_iterator\u001B[0;34m(self, req, observations, extra_request_metadata, progress)\u001B[0m\n",
       "\u001B[1;32m   1729\u001B[0m     \u001B[38;5;28;01mraise\u001B[39;00m kb\n",
       "\u001B[1;32m   1730\u001B[0m \u001B[38;5;28;01mexcept\u001B[39;00m \u001B[38;5;167;01mException\u001B[39;00m \u001B[38;5;28;01mas\u001B[39;00m error:\n",
       "\u001B[0;32m-> 1731\u001B[0m     \u001B[38;5;28mself\u001B[39m\u001B[38;5;241m.\u001B[39m_handle_error(error)\n",
       "\n",
       "File \u001B[0;32m/databricks/python/lib/python3.11/site-packages/pyspark/sql/connect/client/core.py:2047\u001B[0m, in \u001B[0;36mSparkConnectClient._handle_error\u001B[0;34m(self, error)\u001B[0m\n",
       "\u001B[1;32m   2045\u001B[0m \u001B[38;5;28mself\u001B[39m\u001B[38;5;241m.\u001B[39mthread_local\u001B[38;5;241m.\u001B[39minside_error_handling \u001B[38;5;241m=\u001B[39m \u001B[38;5;28;01mTrue\u001B[39;00m\n",
       "\u001B[1;32m   2046\u001B[0m \u001B[38;5;28;01mif\u001B[39;00m \u001B[38;5;28misinstance\u001B[39m(error, grpc\u001B[38;5;241m.\u001B[39mRpcError):\n",
       "\u001B[0;32m-> 2047\u001B[0m     \u001B[38;5;28mself\u001B[39m\u001B[38;5;241m.\u001B[39m_handle_rpc_error(error)\n",
       "\u001B[1;32m   2048\u001B[0m \u001B[38;5;28;01melif\u001B[39;00m \u001B[38;5;28misinstance\u001B[39m(error, \u001B[38;5;167;01mValueError\u001B[39;00m):\n",
       "\u001B[1;32m   2049\u001B[0m     \u001B[38;5;28;01mif\u001B[39;00m \u001B[38;5;124m\"\u001B[39m\u001B[38;5;124mCannot invoke RPC\u001B[39m\u001B[38;5;124m\"\u001B[39m \u001B[38;5;129;01min\u001B[39;00m \u001B[38;5;28mstr\u001B[39m(error) \u001B[38;5;129;01mand\u001B[39;00m \u001B[38;5;124m\"\u001B[39m\u001B[38;5;124mclosed\u001B[39m\u001B[38;5;124m\"\u001B[39m \u001B[38;5;129;01min\u001B[39;00m \u001B[38;5;28mstr\u001B[39m(error):\n",
       "\n",
       "File \u001B[0;32m/databricks/python/lib/python3.11/site-packages/pyspark/sql/connect/client/core.py:2149\u001B[0m, in \u001B[0;36mSparkConnectClient._handle_rpc_error\u001B[0;34m(self, rpc_error)\u001B[0m\n",
       "\u001B[1;32m   2134\u001B[0m                 \u001B[38;5;28;01mraise\u001B[39;00m \u001B[38;5;167;01mException\u001B[39;00m(\n",
       "\u001B[1;32m   2135\u001B[0m                     \u001B[38;5;124m\"\u001B[39m\u001B[38;5;124mPython versions in the Spark Connect client and server are different. \u001B[39m\u001B[38;5;124m\"\u001B[39m\n",
       "\u001B[1;32m   2136\u001B[0m                     \u001B[38;5;124m\"\u001B[39m\u001B[38;5;124mTo execute user-defined functions, client and server should have the \u001B[39m\u001B[38;5;124m\"\u001B[39m\n",
       "\u001B[0;32m   (...)\u001B[0m\n",
       "\u001B[1;32m   2145\u001B[0m                     \u001B[38;5;124m\"\u001B[39m\u001B[38;5;124mhttps://docs.databricks.com/en/release-notes/serverless.html.\u001B[39m\u001B[38;5;124m\"\u001B[39m\n",
       "\u001B[1;32m   2146\u001B[0m                 )\n",
       "\u001B[1;32m   2147\u001B[0m             \u001B[38;5;66;03m# END-EDGE\u001B[39;00m\n",
       "\u001B[0;32m-> 2149\u001B[0m             \u001B[38;5;28;01mraise\u001B[39;00m convert_exception(\n",
       "\u001B[1;32m   2150\u001B[0m                 info,\n",
       "\u001B[1;32m   2151\u001B[0m                 status\u001B[38;5;241m.\u001B[39mmessage,\n",
       "\u001B[1;32m   2152\u001B[0m                 \u001B[38;5;28mself\u001B[39m\u001B[38;5;241m.\u001B[39m_fetch_enriched_error(info),\n",
       "\u001B[1;32m   2153\u001B[0m                 \u001B[38;5;28mself\u001B[39m\u001B[38;5;241m.\u001B[39m_display_server_stack_trace(),\n",
       "\u001B[1;32m   2154\u001B[0m             ) \u001B[38;5;28;01mfrom\u001B[39;00m \u001B[38;5;28;01mNone\u001B[39;00m\n",
       "\u001B[1;32m   2156\u001B[0m     \u001B[38;5;28;01mraise\u001B[39;00m SparkConnectGrpcException(status\u001B[38;5;241m.\u001B[39mmessage) \u001B[38;5;28;01mfrom\u001B[39;00m \u001B[38;5;28;01mNone\u001B[39;00m\n",
       "\u001B[1;32m   2157\u001B[0m \u001B[38;5;28;01melse\u001B[39;00m:\n",
       "\n",
       "\u001B[0;31mAnalysisException\u001B[0m: [PATH_ALREADY_EXISTS] Path dbfs:/Volumes/workspace/navpractise/naveen/navnaa/products.csv already exists. Set mode as \"overwrite\" to overwrite the existing path. SQLSTATE: 42K04\n",
       "\n",
       "JVM stacktrace:\n",
       "org.apache.spark.sql.AnalysisException\n",
       "\tat org.apache.spark.sql.errors.QueryCompilationErrors$.outputPathAlreadyExistsError(QueryCompilationErrors.scala:2549)\n",
       "\tat org.apache.spark.sql.execution.datasources.InsertIntoHadoopFsRelationCommand.run(InsertIntoHadoopFsRelationCommand.scala:143)\n",
       "\tat org.apache.spark.sql.execution.command.DataWritingCommandExec.$anonfun$sideEffectResult$5(commands.scala:137)\n",
       "\tat org.apache.spark.sql.execution.SparkPlan.runCommandInAetherOrSpark(SparkPlan.scala:194)\n",
       "\tat org.apache.spark.sql.execution.command.DataWritingCommandExec.$anonfun$sideEffectResult$4(commands.scala:137)\n",
       "\tat com.databricks.spark.util.FrameProfiler$.record(FrameProfiler.scala:94)\n",
       "\tat org.apache.spark.sql.execution.command.DataWritingCommandExec.sideEffectResult$lzycompute(commands.scala:133)\n",
       "\tat org.apache.spark.sql.execution.command.DataWritingCommandExec.sideEffectResult(commands.scala:132)\n",
       "\tat org.apache.spark.sql.execution.command.DataWritingCommandExec.executeCollect(commands.scala:149)\n",
       "\tat org.apache.spark.sql.execution.QueryExecution.$anonfun$eagerlyExecuteCommands$5(QueryExecution.scala:441)\n",
       "\tat com.databricks.util.LexicalThreadLocal$Handle.runWith(LexicalThreadLocal.scala:63)\n",
       "\tat org.apache.spark.sql.execution.QueryExecution.$anonfun$eagerlyExecuteCommands$4(QueryExecution.scala:441)\n",
       "\tat org.apache.spark.sql.catalyst.QueryPlanningTracker$.withTracker(QueryPlanningTracker.scala:216)\n",
       "\tat org.apache.spark.sql.execution.QueryExecution.$anonfun$eagerlyExecuteCommands$3(QueryExecution.scala:440)\n",
       "\tat org.apache.spark.sql.execution.SQLExecution$.$anonfun$withNewExecutionId0$11(SQLExecution.scala:477)\n",
       "\tat com.databricks.sql.util.MemoryTrackerHelper.withMemoryTracking(MemoryTrackerHelper.scala:80)\n",
       "\tat org.apache.spark.sql.execution.SQLExecution$.$anonfun$withNewExecutionId0$10(SQLExecution.scala:413)\n",
       "\tat org.apache.spark.sql.execution.SQLExecution$.withSQLConfPropagated(SQLExecution.scala:776)\n",
       "\tat org.apache.spark.sql.execution.SQLExecution$.$anonfun$withNewExecutionId0$1(SQLExecution.scala:343)\n",
       "\tat org.apache.spark.sql.SparkSession.withActive(SparkSession.scala:1450)\n",
       "\tat org.apache.spark.sql.execution.SQLExecution$.withNewExecutionId0(SQLExecution.scala:212)\n",
       "\tat org.apache.spark.sql.execution.SQLExecution$.withNewExecutionId(SQLExecution.scala:713)\n",
       "\tat org.apache.spark.sql.execution.QueryExecution.$anonfun$eagerlyExecuteCommands$2(QueryExecution.scala:436)\n",
       "\tat org.apache.spark.sql.execution.QueryExecution$.withInternalError(QueryExecution.scala:1299)\n",
       "\tat org.apache.spark.sql.execution.QueryExecution.$anonfun$eagerlyExecuteCommands$1(QueryExecution.scala:432)\n",
       "\tat org.apache.spark.sql.execution.QueryExecution.withMVTagsIfNecessary(QueryExecution.scala:369)\n",
       "\tat org.apache.spark.sql.execution.QueryExecution.org$apache$spark$sql$execution$QueryExecution$$eagerlyExecute$1(QueryExecution.scala:430)\n",
       "\tat org.apache.spark.sql.execution.QueryExecution$$anonfun$$nestedInanonfun$eagerlyExecuteCommands$8$1.applyOrElse(QueryExecution.scala:494)\n",
       "\tat org.apache.spark.sql.execution.QueryExecution$$anonfun$$nestedInanonfun$eagerlyExecuteCommands$8$1.applyOrElse(QueryExecution.scala:489)\n",
       "\tat org.apache.spark.sql.catalyst.trees.TreeNode.$anonfun$transformDownWithPruning$1(TreeNode.scala:521)\n",
       "\tat org.apache.spark.sql.catalyst.trees.CurrentOrigin$.withOrigin(origin.scala:85)\n",
       "\tat org.apache.spark.sql.catalyst.trees.TreeNode.transformDownWithPruning(TreeNode.scala:521)\n",
       "\tat org.apache.spark.sql.catalyst.plans.logical.LogicalPlan.org$apache$spark$sql$catalyst$plans$logical$AnalysisHelper$$super$transformDownWithPruning(LogicalPlan.scala:42)\n",
       "\tat org.apache.spark.sql.catalyst.plans.logical.AnalysisHelper.transformDownWithPruning(AnalysisHelper.scala:361)\n",
       "\tat org.apache.spark.sql.catalyst.plans.logical.AnalysisHelper.transformDownWithPruning$(AnalysisHelper.scala:357)\n",
       "\tat org.apache.spark.sql.catalyst.plans.logical.LogicalPlan.transformDownWithPruning(LogicalPlan.scala:42)\n",
       "\tat org.apache.spark.sql.catalyst.plans.logical.LogicalPlan.transformDownWithPruning(LogicalPlan.scala:42)\n",
       "\tat org.apache.spark.sql.catalyst.trees.TreeNode.transformDown(TreeNode.scala:497)\n",
       "\tat org.apache.spark.sql.execution.QueryExecution.$anonfun$eagerlyExecuteCommands$8(QueryExecution.scala:489)\n",
       "\tat org.apache.spark.sql.catalyst.plans.logical.AnalysisHelper$.allowInvokingTransformsInAnalyzer(AnalysisHelper.scala:418)\n",
       "\tat org.apache.spark.sql.execution.QueryExecution.eagerlyExecuteCommands(QueryExecution.scala:489)\n",
       "\tat org.apache.spark.sql.execution.QueryExecution.$anonfun$lazyCommandExecuted$1(QueryExecution.scala:325)\n",
       "\tat scala.util.Try$.apply(Try.scala:213)\n",
       "\tat org.apache.spark.util.Utils$.doTryWithCallerStacktrace(Utils.scala:1683)\n",
       "\tat org.apache.spark.util.Utils$.getTryWithCallerStacktrace(Utils.scala:1744)\n",
       "\tat org.apache.spark.util.LazyTry.get(LazyTry.scala:58)\n",
       "\tat org.apache.spark.sql.execution.QueryExecution.commandExecuted(QueryExecution.scala:330)\n",
       "\tat org.apache.spark.sql.execution.QueryExecution.assertCommandExecuted(QueryExecution.scala:519)\n",
       "\tat org.apache.spark.sql.DataFrameWriter.runCommand(DataFrameWriter.scala:1164)\n",
       "\tat org.apache.spark.sql.DataFrameWriter.saveToV1Source(DataFrameWriter.scala:492)\n",
       "\tat org.apache.spark.sql.DataFrameWriter.saveInternal(DataFrameWriter.scala:454)\n",
       "\tat org.apache.spark.sql.DataFrameWriter.save(DataFrameWriter.scala:301)\n",
       "\tat org.apache.spark.sql.connect.planner.SparkConnectPlanner.handleWriteOperation(SparkConnectPlanner.scala:3869)\n",
       "\tat org.apache.spark.sql.connect.planner.SparkConnectPlanner.process(SparkConnectPlanner.scala:3362)\n",
       "\tat org.apache.spark.sql.connect.execution.ExecuteThreadRunner.handleCommand(ExecuteThreadRunner.scala:413)\n",
       "\tat org.apache.spark.sql.connect.execution.ExecuteThreadRunner.$anonfun$executeInternal$1(ExecuteThreadRunner.scala:312)\n",
       "\tat org.apache.spark.sql.connect.execution.ExecuteThreadRunner.$anonfun$executeInternal$1$adapted(ExecuteThreadRunner.scala:233)\n",
       "\tat org.apache.spark.sql.connect.service.SessionHolder.$anonfun$withSession$2(SessionHolder.scala:464)\n",
       "\tat org.apache.spark.sql.SparkSession.withActive(SparkSession.scala:1450)\n",
       "\tat org.apache.spark.sql.connect.service.SessionHolder.$anonfun$withSession$1(SessionHolder.scala:464)\n",
       "\tat org.apache.spark.JobArtifactSet$.withActiveJobArtifactState(JobArtifactSet.scala:97)\n",
       "\tat org.apache.spark.sql.artifact.ArtifactManager.$anonfun$withResources$1(ArtifactManager.scala:90)\n",
       "\tat org.apache.spark.util.Utils$.withContextClassLoader(Utils.scala:240)\n",
       "\tat org.apache.spark.sql.artifact.ArtifactManager.withResources(ArtifactManager.scala:89)\n",
       "\tat org.apache.spark.sql.connect.service.SessionHolder.withSession(SessionHolder.scala:463)\n",
       "\tat org.apache.spark.sql.connect.execution.ExecuteThreadRunner.executeInternal(ExecuteThreadRunner.scala:233)\n",
       "\tat org.apache.spark.sql.connect.execution.ExecuteThreadRunner.org$apache$spark$sql$connect$execution$ExecuteThreadRunner$$execute(ExecuteThreadRunner.scala:139)\n",
       "\tat org.apache.spark.sql.connect.execution.ExecuteThreadRunner$ExecutionThread.$anonfun$run$2(ExecuteThreadRunner.scala:614)\n",
       "\tat scala.runtime.java8.JFunction0$mcV$sp.apply(JFunction0$mcV$sp.java:23)\n",
       "\tat com.databricks.unity.UCSEphemeralState$Handle.runWith(UCSEphemeralState.scala:51)\n",
       "\tat com.databricks.unity.HandleImpl.runWith(UCSHandle.scala:104)\n",
       "\tat com.databricks.unity.HandleImpl.$anonfun$runWithAndClose$1(UCSHandle.scala:109)\n",
       "\tat scala.util.Using$.resource(Using.scala:269)\n",
       "\tat com.databricks.unity.HandleImpl.runWithAndClose(UCSHandle.scala:108)\n",
       "\tat org.apache.spark.sql.connect.execution.ExecuteThreadRunner$ExecutionThread.run(ExecuteThreadRunner.scala:614)"
      ]
     },
     "metadata": {
      "application/vnd.databricks.v1+output": {
       "addedWidgets": {},
       "arguments": {},
       "datasetInfos": [],
       "jupyterProps": {
        "ename": "AnalysisException",
        "evalue": "[PATH_ALREADY_EXISTS] Path dbfs:/Volumes/workspace/navpractise/naveen/navnaa/products.csv already exists. Set mode as \"overwrite\" to overwrite the existing path. SQLSTATE: 42K04\n\nJVM stacktrace:\norg.apache.spark.sql.AnalysisException\n\tat org.apache.spark.sql.errors.QueryCompilationErrors$.outputPathAlreadyExistsError(QueryCompilationErrors.scala:2549)\n\tat org.apache.spark.sql.execution.datasources.InsertIntoHadoopFsRelationCommand.run(InsertIntoHadoopFsRelationCommand.scala:143)\n\tat org.apache.spark.sql.execution.command.DataWritingCommandExec.$anonfun$sideEffectResult$5(commands.scala:137)\n\tat org.apache.spark.sql.execution.SparkPlan.runCommandInAetherOrSpark(SparkPlan.scala:194)\n\tat org.apache.spark.sql.execution.command.DataWritingCommandExec.$anonfun$sideEffectResult$4(commands.scala:137)\n\tat com.databricks.spark.util.FrameProfiler$.record(FrameProfiler.scala:94)\n\tat org.apache.spark.sql.execution.command.DataWritingCommandExec.sideEffectResult$lzycompute(commands.scala:133)\n\tat org.apache.spark.sql.execution.command.DataWritingCommandExec.sideEffectResult(commands.scala:132)\n\tat org.apache.spark.sql.execution.command.DataWritingCommandExec.executeCollect(commands.scala:149)\n\tat org.apache.spark.sql.execution.QueryExecution.$anonfun$eagerlyExecuteCommands$5(QueryExecution.scala:441)\n\tat com.databricks.util.LexicalThreadLocal$Handle.runWith(LexicalThreadLocal.scala:63)\n\tat org.apache.spark.sql.execution.QueryExecution.$anonfun$eagerlyExecuteCommands$4(QueryExecution.scala:441)\n\tat org.apache.spark.sql.catalyst.QueryPlanningTracker$.withTracker(QueryPlanningTracker.scala:216)\n\tat org.apache.spark.sql.execution.QueryExecution.$anonfun$eagerlyExecuteCommands$3(QueryExecution.scala:440)\n\tat org.apache.spark.sql.execution.SQLExecution$.$anonfun$withNewExecutionId0$11(SQLExecution.scala:477)\n\tat com.databricks.sql.util.MemoryTrackerHelper.withMemoryTracking(MemoryTrackerHelper.scala:80)\n\tat org.apache.spark.sql.execution.SQLExecution$.$anonfun$withNewExecutionId0$10(SQLExecution.scala:413)\n\tat org.apache.spark.sql.execution.SQLExecution$.withSQLConfPropagated(SQLExecution.scala:776)\n\tat org.apache.spark.sql.execution.SQLExecution$.$anonfun$withNewExecutionId0$1(SQLExecution.scala:343)\n\tat org.apache.spark.sql.SparkSession.withActive(SparkSession.scala:1450)\n\tat org.apache.spark.sql.execution.SQLExecution$.withNewExecutionId0(SQLExecution.scala:212)\n\tat org.apache.spark.sql.execution.SQLExecution$.withNewExecutionId(SQLExecution.scala:713)\n\tat org.apache.spark.sql.execution.QueryExecution.$anonfun$eagerlyExecuteCommands$2(QueryExecution.scala:436)\n\tat org.apache.spark.sql.execution.QueryExecution$.withInternalError(QueryExecution.scala:1299)\n\tat org.apache.spark.sql.execution.QueryExecution.$anonfun$eagerlyExecuteCommands$1(QueryExecution.scala:432)\n\tat org.apache.spark.sql.execution.QueryExecution.withMVTagsIfNecessary(QueryExecution.scala:369)\n\tat org.apache.spark.sql.execution.QueryExecution.org$apache$spark$sql$execution$QueryExecution$$eagerlyExecute$1(QueryExecution.scala:430)\n\tat org.apache.spark.sql.execution.QueryExecution$$anonfun$$nestedInanonfun$eagerlyExecuteCommands$8$1.applyOrElse(QueryExecution.scala:494)\n\tat org.apache.spark.sql.execution.QueryExecution$$anonfun$$nestedInanonfun$eagerlyExecuteCommands$8$1.applyOrElse(QueryExecution.scala:489)\n\tat org.apache.spark.sql.catalyst.trees.TreeNode.$anonfun$transformDownWithPruning$1(TreeNode.scala:521)\n\tat org.apache.spark.sql.catalyst.trees.CurrentOrigin$.withOrigin(origin.scala:85)\n\tat org.apache.spark.sql.catalyst.trees.TreeNode.transformDownWithPruning(TreeNode.scala:521)\n\tat org.apache.spark.sql.catalyst.plans.logical.LogicalPlan.org$apache$spark$sql$catalyst$plans$logical$AnalysisHelper$$super$transformDownWithPruning(LogicalPlan.scala:42)\n\tat org.apache.spark.sql.catalyst.plans.logical.AnalysisHelper.transformDownWithPruning(AnalysisHelper.scala:361)\n\tat org.apache.spark.sql.catalyst.plans.logical.AnalysisHelper.transformDownWithPruning$(AnalysisHelper.scala:357)\n\tat org.apache.spark.sql.catalyst.plans.logical.LogicalPlan.transformDownWithPruning(LogicalPlan.scala:42)\n\tat org.apache.spark.sql.catalyst.plans.logical.LogicalPlan.transformDownWithPruning(LogicalPlan.scala:42)\n\tat org.apache.spark.sql.catalyst.trees.TreeNode.transformDown(TreeNode.scala:497)\n\tat org.apache.spark.sql.execution.QueryExecution.$anonfun$eagerlyExecuteCommands$8(QueryExecution.scala:489)\n\tat org.apache.spark.sql.catalyst.plans.logical.AnalysisHelper$.allowInvokingTransformsInAnalyzer(AnalysisHelper.scala:418)\n\tat org.apache.spark.sql.execution.QueryExecution.eagerlyExecuteCommands(QueryExecution.scala:489)\n\tat org.apache.spark.sql.execution.QueryExecution.$anonfun$lazyCommandExecuted$1(QueryExecution.scala:325)\n\tat scala.util.Try$.apply(Try.scala:213)\n\tat org.apache.spark.util.Utils$.doTryWithCallerStacktrace(Utils.scala:1683)\n\tat org.apache.spark.util.Utils$.getTryWithCallerStacktrace(Utils.scala:1744)\n\tat org.apache.spark.util.LazyTry.get(LazyTry.scala:58)\n\tat org.apache.spark.sql.execution.QueryExecution.commandExecuted(QueryExecution.scala:330)\n\tat org.apache.spark.sql.execution.QueryExecution.assertCommandExecuted(QueryExecution.scala:519)\n\tat org.apache.spark.sql.DataFrameWriter.runCommand(DataFrameWriter.scala:1164)\n\tat org.apache.spark.sql.DataFrameWriter.saveToV1Source(DataFrameWriter.scala:492)\n\tat org.apache.spark.sql.DataFrameWriter.saveInternal(DataFrameWriter.scala:454)\n\tat org.apache.spark.sql.DataFrameWriter.save(DataFrameWriter.scala:301)\n\tat org.apache.spark.sql.connect.planner.SparkConnectPlanner.handleWriteOperation(SparkConnectPlanner.scala:3869)\n\tat org.apache.spark.sql.connect.planner.SparkConnectPlanner.process(SparkConnectPlanner.scala:3362)\n\tat org.apache.spark.sql.connect.execution.ExecuteThreadRunner.handleCommand(ExecuteThreadRunner.scala:413)\n\tat org.apache.spark.sql.connect.execution.ExecuteThreadRunner.$anonfun$executeInternal$1(ExecuteThreadRunner.scala:312)\n\tat org.apache.spark.sql.connect.execution.ExecuteThreadRunner.$anonfun$executeInternal$1$adapted(ExecuteThreadRunner.scala:233)\n\tat org.apache.spark.sql.connect.service.SessionHolder.$anonfun$withSession$2(SessionHolder.scala:464)\n\tat org.apache.spark.sql.SparkSession.withActive(SparkSession.scala:1450)\n\tat org.apache.spark.sql.connect.service.SessionHolder.$anonfun$withSession$1(SessionHolder.scala:464)\n\tat org.apache.spark.JobArtifactSet$.withActiveJobArtifactState(JobArtifactSet.scala:97)\n\tat org.apache.spark.sql.artifact.ArtifactManager.$anonfun$withResources$1(ArtifactManager.scala:90)\n\tat org.apache.spark.util.Utils$.withContextClassLoader(Utils.scala:240)\n\tat org.apache.spark.sql.artifact.ArtifactManager.withResources(ArtifactManager.scala:89)\n\tat org.apache.spark.sql.connect.service.SessionHolder.withSession(SessionHolder.scala:463)\n\tat org.apache.spark.sql.connect.execution.ExecuteThreadRunner.executeInternal(ExecuteThreadRunner.scala:233)\n\tat org.apache.spark.sql.connect.execution.ExecuteThreadRunner.org$apache$spark$sql$connect$execution$ExecuteThreadRunner$$execute(ExecuteThreadRunner.scala:139)\n\tat org.apache.spark.sql.connect.execution.ExecuteThreadRunner$ExecutionThread.$anonfun$run$2(ExecuteThreadRunner.scala:614)\n\tat scala.runtime.java8.JFunction0$mcV$sp.apply(JFunction0$mcV$sp.java:23)\n\tat com.databricks.unity.UCSEphemeralState$Handle.runWith(UCSEphemeralState.scala:51)\n\tat com.databricks.unity.HandleImpl.runWith(UCSHandle.scala:104)\n\tat com.databricks.unity.HandleImpl.$anonfun$runWithAndClose$1(UCSHandle.scala:109)\n\tat scala.util.Using$.resource(Using.scala:269)\n\tat com.databricks.unity.HandleImpl.runWithAndClose(UCSHandle.scala:108)\n\tat org.apache.spark.sql.connect.execution.ExecuteThreadRunner$ExecutionThread.run(ExecuteThreadRunner.scala:614)"
       },
       "metadata": {
        "errorSummary": "[PATH_ALREADY_EXISTS] Path dbfs:/Volumes/workspace/navpractise/naveen/navnaa/products.csv already exists. Set mode as \"overwrite\" to overwrite the existing path. SQLSTATE: 42K04"
       },
       "removedWidgets": [],
       "sqlProps": {
        "errorClass": "PATH_ALREADY_EXISTS",
        "pysparkCallSite": "",
        "pysparkFragment": "",
        "pysparkSummary": null,
        "sqlState": "42K04",
        "stackTrace": "org.apache.spark.sql.AnalysisException\n\tat org.apache.spark.sql.errors.QueryCompilationErrors$.outputPathAlreadyExistsError(QueryCompilationErrors.scala:2549)\n\tat org.apache.spark.sql.execution.datasources.InsertIntoHadoopFsRelationCommand.run(InsertIntoHadoopFsRelationCommand.scala:143)\n\tat org.apache.spark.sql.execution.command.DataWritingCommandExec.$anonfun$sideEffectResult$5(commands.scala:137)\n\tat org.apache.spark.sql.execution.SparkPlan.runCommandInAetherOrSpark(SparkPlan.scala:194)\n\tat org.apache.spark.sql.execution.command.DataWritingCommandExec.$anonfun$sideEffectResult$4(commands.scala:137)\n\tat com.databricks.spark.util.FrameProfiler$.record(FrameProfiler.scala:94)\n\tat org.apache.spark.sql.execution.command.DataWritingCommandExec.sideEffectResult$lzycompute(commands.scala:133)\n\tat org.apache.spark.sql.execution.command.DataWritingCommandExec.sideEffectResult(commands.scala:132)\n\tat org.apache.spark.sql.execution.command.DataWritingCommandExec.executeCollect(commands.scala:149)\n\tat org.apache.spark.sql.execution.QueryExecution.$anonfun$eagerlyExecuteCommands$5(QueryExecution.scala:441)\n\tat com.databricks.util.LexicalThreadLocal$Handle.runWith(LexicalThreadLocal.scala:63)\n\tat org.apache.spark.sql.execution.QueryExecution.$anonfun$eagerlyExecuteCommands$4(QueryExecution.scala:441)\n\tat org.apache.spark.sql.catalyst.QueryPlanningTracker$.withTracker(QueryPlanningTracker.scala:216)\n\tat org.apache.spark.sql.execution.QueryExecution.$anonfun$eagerlyExecuteCommands$3(QueryExecution.scala:440)\n\tat org.apache.spark.sql.execution.SQLExecution$.$anonfun$withNewExecutionId0$11(SQLExecution.scala:477)\n\tat com.databricks.sql.util.MemoryTrackerHelper.withMemoryTracking(MemoryTrackerHelper.scala:80)\n\tat org.apache.spark.sql.execution.SQLExecution$.$anonfun$withNewExecutionId0$10(SQLExecution.scala:413)\n\tat org.apache.spark.sql.execution.SQLExecution$.withSQLConfPropagated(SQLExecution.scala:776)\n\tat org.apache.spark.sql.execution.SQLExecution$.$anonfun$withNewExecutionId0$1(SQLExecution.scala:343)\n\tat org.apache.spark.sql.SparkSession.withActive(SparkSession.scala:1450)\n\tat org.apache.spark.sql.execution.SQLExecution$.withNewExecutionId0(SQLExecution.scala:212)\n\tat org.apache.spark.sql.execution.SQLExecution$.withNewExecutionId(SQLExecution.scala:713)\n\tat org.apache.spark.sql.execution.QueryExecution.$anonfun$eagerlyExecuteCommands$2(QueryExecution.scala:436)\n\tat org.apache.spark.sql.execution.QueryExecution$.withInternalError(QueryExecution.scala:1299)\n\tat org.apache.spark.sql.execution.QueryExecution.$anonfun$eagerlyExecuteCommands$1(QueryExecution.scala:432)\n\tat org.apache.spark.sql.execution.QueryExecution.withMVTagsIfNecessary(QueryExecution.scala:369)\n\tat org.apache.spark.sql.execution.QueryExecution.org$apache$spark$sql$execution$QueryExecution$$eagerlyExecute$1(QueryExecution.scala:430)\n\tat org.apache.spark.sql.execution.QueryExecution$$anonfun$$nestedInanonfun$eagerlyExecuteCommands$8$1.applyOrElse(QueryExecution.scala:494)\n\tat org.apache.spark.sql.execution.QueryExecution$$anonfun$$nestedInanonfun$eagerlyExecuteCommands$8$1.applyOrElse(QueryExecution.scala:489)\n\tat org.apache.spark.sql.catalyst.trees.TreeNode.$anonfun$transformDownWithPruning$1(TreeNode.scala:521)\n\tat org.apache.spark.sql.catalyst.trees.CurrentOrigin$.withOrigin(origin.scala:85)\n\tat org.apache.spark.sql.catalyst.trees.TreeNode.transformDownWithPruning(TreeNode.scala:521)\n\tat org.apache.spark.sql.catalyst.plans.logical.LogicalPlan.org$apache$spark$sql$catalyst$plans$logical$AnalysisHelper$$super$transformDownWithPruning(LogicalPlan.scala:42)\n\tat org.apache.spark.sql.catalyst.plans.logical.AnalysisHelper.transformDownWithPruning(AnalysisHelper.scala:361)\n\tat org.apache.spark.sql.catalyst.plans.logical.AnalysisHelper.transformDownWithPruning$(AnalysisHelper.scala:357)\n\tat org.apache.spark.sql.catalyst.plans.logical.LogicalPlan.transformDownWithPruning(LogicalPlan.scala:42)\n\tat org.apache.spark.sql.catalyst.plans.logical.LogicalPlan.transformDownWithPruning(LogicalPlan.scala:42)\n\tat org.apache.spark.sql.catalyst.trees.TreeNode.transformDown(TreeNode.scala:497)\n\tat org.apache.spark.sql.execution.QueryExecution.$anonfun$eagerlyExecuteCommands$8(QueryExecution.scala:489)\n\tat org.apache.spark.sql.catalyst.plans.logical.AnalysisHelper$.allowInvokingTransformsInAnalyzer(AnalysisHelper.scala:418)\n\tat org.apache.spark.sql.execution.QueryExecution.eagerlyExecuteCommands(QueryExecution.scala:489)\n\tat org.apache.spark.sql.execution.QueryExecution.$anonfun$lazyCommandExecuted$1(QueryExecution.scala:325)\n\tat scala.util.Try$.apply(Try.scala:213)\n\tat org.apache.spark.util.Utils$.doTryWithCallerStacktrace(Utils.scala:1683)\n\tat org.apache.spark.util.Utils$.getTryWithCallerStacktrace(Utils.scala:1744)\n\tat org.apache.spark.util.LazyTry.get(LazyTry.scala:58)\n\tat org.apache.spark.sql.execution.QueryExecution.commandExecuted(QueryExecution.scala:330)\n\tat org.apache.spark.sql.execution.QueryExecution.assertCommandExecuted(QueryExecution.scala:519)\n\tat org.apache.spark.sql.DataFrameWriter.runCommand(DataFrameWriter.scala:1164)\n\tat org.apache.spark.sql.DataFrameWriter.saveToV1Source(DataFrameWriter.scala:492)\n\tat org.apache.spark.sql.DataFrameWriter.saveInternal(DataFrameWriter.scala:454)\n\tat org.apache.spark.sql.DataFrameWriter.save(DataFrameWriter.scala:301)\n\tat org.apache.spark.sql.connect.planner.SparkConnectPlanner.handleWriteOperation(SparkConnectPlanner.scala:3869)\n\tat org.apache.spark.sql.connect.planner.SparkConnectPlanner.process(SparkConnectPlanner.scala:3362)\n\tat org.apache.spark.sql.connect.execution.ExecuteThreadRunner.handleCommand(ExecuteThreadRunner.scala:413)\n\tat org.apache.spark.sql.connect.execution.ExecuteThreadRunner.$anonfun$executeInternal$1(ExecuteThreadRunner.scala:312)\n\tat org.apache.spark.sql.connect.execution.ExecuteThreadRunner.$anonfun$executeInternal$1$adapted(ExecuteThreadRunner.scala:233)\n\tat org.apache.spark.sql.connect.service.SessionHolder.$anonfun$withSession$2(SessionHolder.scala:464)\n\tat org.apache.spark.sql.SparkSession.withActive(SparkSession.scala:1450)\n\tat org.apache.spark.sql.connect.service.SessionHolder.$anonfun$withSession$1(SessionHolder.scala:464)\n\tat org.apache.spark.JobArtifactSet$.withActiveJobArtifactState(JobArtifactSet.scala:97)\n\tat org.apache.spark.sql.artifact.ArtifactManager.$anonfun$withResources$1(ArtifactManager.scala:90)\n\tat org.apache.spark.util.Utils$.withContextClassLoader(Utils.scala:240)\n\tat org.apache.spark.sql.artifact.ArtifactManager.withResources(ArtifactManager.scala:89)\n\tat org.apache.spark.sql.connect.service.SessionHolder.withSession(SessionHolder.scala:463)\n\tat org.apache.spark.sql.connect.execution.ExecuteThreadRunner.executeInternal(ExecuteThreadRunner.scala:233)\n\tat org.apache.spark.sql.connect.execution.ExecuteThreadRunner.org$apache$spark$sql$connect$execution$ExecuteThreadRunner$$execute(ExecuteThreadRunner.scala:139)\n\tat org.apache.spark.sql.connect.execution.ExecuteThreadRunner$ExecutionThread.$anonfun$run$2(ExecuteThreadRunner.scala:614)\n\tat scala.runtime.java8.JFunction0$mcV$sp.apply(JFunction0$mcV$sp.java:23)\n\tat com.databricks.unity.UCSEphemeralState$Handle.runWith(UCSEphemeralState.scala:51)\n\tat com.databricks.unity.HandleImpl.runWith(UCSHandle.scala:104)\n\tat com.databricks.unity.HandleImpl.$anonfun$runWithAndClose$1(UCSHandle.scala:109)\n\tat scala.util.Using$.resource(Using.scala:269)\n\tat com.databricks.unity.HandleImpl.runWithAndClose(UCSHandle.scala:108)\n\tat org.apache.spark.sql.connect.execution.ExecuteThreadRunner$ExecutionThread.run(ExecuteThreadRunner.scala:614)",
        "startIndex": null,
        "stopIndex": null
       },
       "stackFrames": [
        "\u001B[0;31m---------------------------------------------------------------------------\u001B[0m",
        "\u001B[0;31mAnalysisException\u001B[0m                         Traceback (most recent call last)",
        "File \u001B[0;32m<command-4861324046094436>, line 3\u001B[0m\n\u001B[1;32m      1\u001B[0m df \u001B[38;5;241m=\u001B[39m spark\u001B[38;5;241m.\u001B[39mread\u001B[38;5;241m.\u001B[39mformat(\u001B[38;5;124m\"\u001B[39m\u001B[38;5;124mcsv\u001B[39m\u001B[38;5;124m\"\u001B[39m)\u001B[38;5;241m.\u001B[39moption(\u001B[38;5;124m\"\u001B[39m\u001B[38;5;124minferSchema\u001B[39m\u001B[38;5;124m\"\u001B[39m, \u001B[38;5;124m\"\u001B[39m\u001B[38;5;124mtrue\u001B[39m\u001B[38;5;124m\"\u001B[39m)\u001B[38;5;241m.\u001B[39moption(\u001B[38;5;124m\"\u001B[39m\u001B[38;5;124mheader\u001B[39m\u001B[38;5;124m\"\u001B[39m, \u001B[38;5;124m\"\u001B[39m\u001B[38;5;124mtrue\u001B[39m\u001B[38;5;124m\"\u001B[39m)\u001B[38;5;241m.\u001B[39mload(\u001B[38;5;124m\"\u001B[39m\u001B[38;5;124m/Volumes/workspace/navpractise/naveen/navnaa/products.csv\u001B[39m\u001B[38;5;124m\"\u001B[39m)\n\u001B[0;32m----> 3\u001B[0m df\u001B[38;5;241m.\u001B[39mwrite\u001B[38;5;241m.\u001B[39mformat(\u001B[38;5;124m\"\u001B[39m\u001B[38;5;124mcsv\u001B[39m\u001B[38;5;124m\"\u001B[39m)\u001B[38;5;241m.\u001B[39mmode(\u001B[38;5;124m\"\u001B[39m\u001B[38;5;124merror\u001B[39m\u001B[38;5;124m\"\u001B[39m)\u001B[38;5;241m.\u001B[39msave(\u001B[38;5;124m\"\u001B[39m\u001B[38;5;124m/Volumes/workspace/navpractise/naveen/navnaa/products.csv\u001B[39m\u001B[38;5;124m\"\u001B[39m)\n",
        "File \u001B[0;32m/databricks/python/lib/python3.11/site-packages/pyspark/sql/connect/readwriter.py:679\u001B[0m, in \u001B[0;36mDataFrameWriter.save\u001B[0;34m(self, path, format, mode, partitionBy, **options)\u001B[0m\n\u001B[1;32m    677\u001B[0m     \u001B[38;5;28mself\u001B[39m\u001B[38;5;241m.\u001B[39mformat(\u001B[38;5;28mformat\u001B[39m)\n\u001B[1;32m    678\u001B[0m \u001B[38;5;28mself\u001B[39m\u001B[38;5;241m.\u001B[39m_write\u001B[38;5;241m.\u001B[39mpath \u001B[38;5;241m=\u001B[39m path\n\u001B[0;32m--> 679\u001B[0m _, _, ei \u001B[38;5;241m=\u001B[39m \u001B[38;5;28mself\u001B[39m\u001B[38;5;241m.\u001B[39m_spark\u001B[38;5;241m.\u001B[39mclient\u001B[38;5;241m.\u001B[39mexecute_command(\n\u001B[1;32m    680\u001B[0m     \u001B[38;5;28mself\u001B[39m\u001B[38;5;241m.\u001B[39m_write\u001B[38;5;241m.\u001B[39mcommand(\u001B[38;5;28mself\u001B[39m\u001B[38;5;241m.\u001B[39m_spark\u001B[38;5;241m.\u001B[39mclient), \u001B[38;5;28mself\u001B[39m\u001B[38;5;241m.\u001B[39m_write\u001B[38;5;241m.\u001B[39mobservations\n\u001B[1;32m    681\u001B[0m )\n\u001B[1;32m    682\u001B[0m \u001B[38;5;28mself\u001B[39m\u001B[38;5;241m.\u001B[39m_callback(ei)\n",
        "File \u001B[0;32m/databricks/python/lib/python3.11/site-packages/pyspark/sql/connect/client/core.py:1297\u001B[0m, in \u001B[0;36mSparkConnectClient.execute_command\u001B[0;34m(self, command, observations, extra_request_metadata)\u001B[0m\n\u001B[1;32m   1295\u001B[0m     req\u001B[38;5;241m.\u001B[39muser_context\u001B[38;5;241m.\u001B[39muser_id \u001B[38;5;241m=\u001B[39m \u001B[38;5;28mself\u001B[39m\u001B[38;5;241m.\u001B[39m_user_id\n\u001B[1;32m   1296\u001B[0m req\u001B[38;5;241m.\u001B[39mplan\u001B[38;5;241m.\u001B[39mcommand\u001B[38;5;241m.\u001B[39mCopyFrom(command)\n\u001B[0;32m-> 1297\u001B[0m data, _, metrics, observed_metrics, properties \u001B[38;5;241m=\u001B[39m \u001B[38;5;28mself\u001B[39m\u001B[38;5;241m.\u001B[39m_execute_and_fetch(\n\u001B[1;32m   1298\u001B[0m     req, observations \u001B[38;5;129;01mor\u001B[39;00m {}, extra_request_metadata\n\u001B[1;32m   1299\u001B[0m )\n\u001B[1;32m   1300\u001B[0m \u001B[38;5;66;03m# Create a query execution object.\u001B[39;00m\n\u001B[1;32m   1301\u001B[0m ei \u001B[38;5;241m=\u001B[39m ExecutionInfo(metrics, observed_metrics)\n",
        "File \u001B[0;32m/databricks/python/lib/python3.11/site-packages/pyspark/sql/connect/client/core.py:1755\u001B[0m, in \u001B[0;36mSparkConnectClient._execute_and_fetch\u001B[0;34m(self, req, observations, extra_request_metadata, self_destruct)\u001B[0m\n\u001B[1;32m   1752\u001B[0m properties: Dict[\u001B[38;5;28mstr\u001B[39m, Any] \u001B[38;5;241m=\u001B[39m {}\n\u001B[1;32m   1754\u001B[0m \u001B[38;5;28;01mwith\u001B[39;00m Progress(handlers\u001B[38;5;241m=\u001B[39m\u001B[38;5;28mself\u001B[39m\u001B[38;5;241m.\u001B[39m_progress_handlers, operation_id\u001B[38;5;241m=\u001B[39mreq\u001B[38;5;241m.\u001B[39moperation_id) \u001B[38;5;28;01mas\u001B[39;00m progress:\n\u001B[0;32m-> 1755\u001B[0m     \u001B[38;5;28;01mfor\u001B[39;00m response \u001B[38;5;129;01min\u001B[39;00m \u001B[38;5;28mself\u001B[39m\u001B[38;5;241m.\u001B[39m_execute_and_fetch_as_iterator(\n\u001B[1;32m   1756\u001B[0m         req, observations, extra_request_metadata \u001B[38;5;129;01mor\u001B[39;00m [], progress\u001B[38;5;241m=\u001B[39mprogress\n\u001B[1;32m   1757\u001B[0m     ):\n\u001B[1;32m   1758\u001B[0m         \u001B[38;5;28;01mif\u001B[39;00m \u001B[38;5;28misinstance\u001B[39m(response, StructType):\n\u001B[1;32m   1759\u001B[0m             schema \u001B[38;5;241m=\u001B[39m response\n",
        "File \u001B[0;32m/databricks/python/lib/python3.11/site-packages/pyspark/sql/connect/client/core.py:1731\u001B[0m, in \u001B[0;36mSparkConnectClient._execute_and_fetch_as_iterator\u001B[0;34m(self, req, observations, extra_request_metadata, progress)\u001B[0m\n\u001B[1;32m   1729\u001B[0m     \u001B[38;5;28;01mraise\u001B[39;00m kb\n\u001B[1;32m   1730\u001B[0m \u001B[38;5;28;01mexcept\u001B[39;00m \u001B[38;5;167;01mException\u001B[39;00m \u001B[38;5;28;01mas\u001B[39;00m error:\n\u001B[0;32m-> 1731\u001B[0m     \u001B[38;5;28mself\u001B[39m\u001B[38;5;241m.\u001B[39m_handle_error(error)\n",
        "File \u001B[0;32m/databricks/python/lib/python3.11/site-packages/pyspark/sql/connect/client/core.py:2047\u001B[0m, in \u001B[0;36mSparkConnectClient._handle_error\u001B[0;34m(self, error)\u001B[0m\n\u001B[1;32m   2045\u001B[0m \u001B[38;5;28mself\u001B[39m\u001B[38;5;241m.\u001B[39mthread_local\u001B[38;5;241m.\u001B[39minside_error_handling \u001B[38;5;241m=\u001B[39m \u001B[38;5;28;01mTrue\u001B[39;00m\n\u001B[1;32m   2046\u001B[0m \u001B[38;5;28;01mif\u001B[39;00m \u001B[38;5;28misinstance\u001B[39m(error, grpc\u001B[38;5;241m.\u001B[39mRpcError):\n\u001B[0;32m-> 2047\u001B[0m     \u001B[38;5;28mself\u001B[39m\u001B[38;5;241m.\u001B[39m_handle_rpc_error(error)\n\u001B[1;32m   2048\u001B[0m \u001B[38;5;28;01melif\u001B[39;00m \u001B[38;5;28misinstance\u001B[39m(error, \u001B[38;5;167;01mValueError\u001B[39;00m):\n\u001B[1;32m   2049\u001B[0m     \u001B[38;5;28;01mif\u001B[39;00m \u001B[38;5;124m\"\u001B[39m\u001B[38;5;124mCannot invoke RPC\u001B[39m\u001B[38;5;124m\"\u001B[39m \u001B[38;5;129;01min\u001B[39;00m \u001B[38;5;28mstr\u001B[39m(error) \u001B[38;5;129;01mand\u001B[39;00m \u001B[38;5;124m\"\u001B[39m\u001B[38;5;124mclosed\u001B[39m\u001B[38;5;124m\"\u001B[39m \u001B[38;5;129;01min\u001B[39;00m \u001B[38;5;28mstr\u001B[39m(error):\n",
        "File \u001B[0;32m/databricks/python/lib/python3.11/site-packages/pyspark/sql/connect/client/core.py:2149\u001B[0m, in \u001B[0;36mSparkConnectClient._handle_rpc_error\u001B[0;34m(self, rpc_error)\u001B[0m\n\u001B[1;32m   2134\u001B[0m                 \u001B[38;5;28;01mraise\u001B[39;00m \u001B[38;5;167;01mException\u001B[39;00m(\n\u001B[1;32m   2135\u001B[0m                     \u001B[38;5;124m\"\u001B[39m\u001B[38;5;124mPython versions in the Spark Connect client and server are different. \u001B[39m\u001B[38;5;124m\"\u001B[39m\n\u001B[1;32m   2136\u001B[0m                     \u001B[38;5;124m\"\u001B[39m\u001B[38;5;124mTo execute user-defined functions, client and server should have the \u001B[39m\u001B[38;5;124m\"\u001B[39m\n\u001B[0;32m   (...)\u001B[0m\n\u001B[1;32m   2145\u001B[0m                     \u001B[38;5;124m\"\u001B[39m\u001B[38;5;124mhttps://docs.databricks.com/en/release-notes/serverless.html.\u001B[39m\u001B[38;5;124m\"\u001B[39m\n\u001B[1;32m   2146\u001B[0m                 )\n\u001B[1;32m   2147\u001B[0m             \u001B[38;5;66;03m# END-EDGE\u001B[39;00m\n\u001B[0;32m-> 2149\u001B[0m             \u001B[38;5;28;01mraise\u001B[39;00m convert_exception(\n\u001B[1;32m   2150\u001B[0m                 info,\n\u001B[1;32m   2151\u001B[0m                 status\u001B[38;5;241m.\u001B[39mmessage,\n\u001B[1;32m   2152\u001B[0m                 \u001B[38;5;28mself\u001B[39m\u001B[38;5;241m.\u001B[39m_fetch_enriched_error(info),\n\u001B[1;32m   2153\u001B[0m                 \u001B[38;5;28mself\u001B[39m\u001B[38;5;241m.\u001B[39m_display_server_stack_trace(),\n\u001B[1;32m   2154\u001B[0m             ) \u001B[38;5;28;01mfrom\u001B[39;00m \u001B[38;5;28;01mNone\u001B[39;00m\n\u001B[1;32m   2156\u001B[0m     \u001B[38;5;28;01mraise\u001B[39;00m SparkConnectGrpcException(status\u001B[38;5;241m.\u001B[39mmessage) \u001B[38;5;28;01mfrom\u001B[39;00m \u001B[38;5;28;01mNone\u001B[39;00m\n\u001B[1;32m   2157\u001B[0m \u001B[38;5;28;01melse\u001B[39;00m:\n",
        "\u001B[0;31mAnalysisException\u001B[0m: [PATH_ALREADY_EXISTS] Path dbfs:/Volumes/workspace/navpractise/naveen/navnaa/products.csv already exists. Set mode as \"overwrite\" to overwrite the existing path. SQLSTATE: 42K04\n\nJVM stacktrace:\norg.apache.spark.sql.AnalysisException\n\tat org.apache.spark.sql.errors.QueryCompilationErrors$.outputPathAlreadyExistsError(QueryCompilationErrors.scala:2549)\n\tat org.apache.spark.sql.execution.datasources.InsertIntoHadoopFsRelationCommand.run(InsertIntoHadoopFsRelationCommand.scala:143)\n\tat org.apache.spark.sql.execution.command.DataWritingCommandExec.$anonfun$sideEffectResult$5(commands.scala:137)\n\tat org.apache.spark.sql.execution.SparkPlan.runCommandInAetherOrSpark(SparkPlan.scala:194)\n\tat org.apache.spark.sql.execution.command.DataWritingCommandExec.$anonfun$sideEffectResult$4(commands.scala:137)\n\tat com.databricks.spark.util.FrameProfiler$.record(FrameProfiler.scala:94)\n\tat org.apache.spark.sql.execution.command.DataWritingCommandExec.sideEffectResult$lzycompute(commands.scala:133)\n\tat org.apache.spark.sql.execution.command.DataWritingCommandExec.sideEffectResult(commands.scala:132)\n\tat org.apache.spark.sql.execution.command.DataWritingCommandExec.executeCollect(commands.scala:149)\n\tat org.apache.spark.sql.execution.QueryExecution.$anonfun$eagerlyExecuteCommands$5(QueryExecution.scala:441)\n\tat com.databricks.util.LexicalThreadLocal$Handle.runWith(LexicalThreadLocal.scala:63)\n\tat org.apache.spark.sql.execution.QueryExecution.$anonfun$eagerlyExecuteCommands$4(QueryExecution.scala:441)\n\tat org.apache.spark.sql.catalyst.QueryPlanningTracker$.withTracker(QueryPlanningTracker.scala:216)\n\tat org.apache.spark.sql.execution.QueryExecution.$anonfun$eagerlyExecuteCommands$3(QueryExecution.scala:440)\n\tat org.apache.spark.sql.execution.SQLExecution$.$anonfun$withNewExecutionId0$11(SQLExecution.scala:477)\n\tat com.databricks.sql.util.MemoryTrackerHelper.withMemoryTracking(MemoryTrackerHelper.scala:80)\n\tat org.apache.spark.sql.execution.SQLExecution$.$anonfun$withNewExecutionId0$10(SQLExecution.scala:413)\n\tat org.apache.spark.sql.execution.SQLExecution$.withSQLConfPropagated(SQLExecution.scala:776)\n\tat org.apache.spark.sql.execution.SQLExecution$.$anonfun$withNewExecutionId0$1(SQLExecution.scala:343)\n\tat org.apache.spark.sql.SparkSession.withActive(SparkSession.scala:1450)\n\tat org.apache.spark.sql.execution.SQLExecution$.withNewExecutionId0(SQLExecution.scala:212)\n\tat org.apache.spark.sql.execution.SQLExecution$.withNewExecutionId(SQLExecution.scala:713)\n\tat org.apache.spark.sql.execution.QueryExecution.$anonfun$eagerlyExecuteCommands$2(QueryExecution.scala:436)\n\tat org.apache.spark.sql.execution.QueryExecution$.withInternalError(QueryExecution.scala:1299)\n\tat org.apache.spark.sql.execution.QueryExecution.$anonfun$eagerlyExecuteCommands$1(QueryExecution.scala:432)\n\tat org.apache.spark.sql.execution.QueryExecution.withMVTagsIfNecessary(QueryExecution.scala:369)\n\tat org.apache.spark.sql.execution.QueryExecution.org$apache$spark$sql$execution$QueryExecution$$eagerlyExecute$1(QueryExecution.scala:430)\n\tat org.apache.spark.sql.execution.QueryExecution$$anonfun$$nestedInanonfun$eagerlyExecuteCommands$8$1.applyOrElse(QueryExecution.scala:494)\n\tat org.apache.spark.sql.execution.QueryExecution$$anonfun$$nestedInanonfun$eagerlyExecuteCommands$8$1.applyOrElse(QueryExecution.scala:489)\n\tat org.apache.spark.sql.catalyst.trees.TreeNode.$anonfun$transformDownWithPruning$1(TreeNode.scala:521)\n\tat org.apache.spark.sql.catalyst.trees.CurrentOrigin$.withOrigin(origin.scala:85)\n\tat org.apache.spark.sql.catalyst.trees.TreeNode.transformDownWithPruning(TreeNode.scala:521)\n\tat org.apache.spark.sql.catalyst.plans.logical.LogicalPlan.org$apache$spark$sql$catalyst$plans$logical$AnalysisHelper$$super$transformDownWithPruning(LogicalPlan.scala:42)\n\tat org.apache.spark.sql.catalyst.plans.logical.AnalysisHelper.transformDownWithPruning(AnalysisHelper.scala:361)\n\tat org.apache.spark.sql.catalyst.plans.logical.AnalysisHelper.transformDownWithPruning$(AnalysisHelper.scala:357)\n\tat org.apache.spark.sql.catalyst.plans.logical.LogicalPlan.transformDownWithPruning(LogicalPlan.scala:42)\n\tat org.apache.spark.sql.catalyst.plans.logical.LogicalPlan.transformDownWithPruning(LogicalPlan.scala:42)\n\tat org.apache.spark.sql.catalyst.trees.TreeNode.transformDown(TreeNode.scala:497)\n\tat org.apache.spark.sql.execution.QueryExecution.$anonfun$eagerlyExecuteCommands$8(QueryExecution.scala:489)\n\tat org.apache.spark.sql.catalyst.plans.logical.AnalysisHelper$.allowInvokingTransformsInAnalyzer(AnalysisHelper.scala:418)\n\tat org.apache.spark.sql.execution.QueryExecution.eagerlyExecuteCommands(QueryExecution.scala:489)\n\tat org.apache.spark.sql.execution.QueryExecution.$anonfun$lazyCommandExecuted$1(QueryExecution.scala:325)\n\tat scala.util.Try$.apply(Try.scala:213)\n\tat org.apache.spark.util.Utils$.doTryWithCallerStacktrace(Utils.scala:1683)\n\tat org.apache.spark.util.Utils$.getTryWithCallerStacktrace(Utils.scala:1744)\n\tat org.apache.spark.util.LazyTry.get(LazyTry.scala:58)\n\tat org.apache.spark.sql.execution.QueryExecution.commandExecuted(QueryExecution.scala:330)\n\tat org.apache.spark.sql.execution.QueryExecution.assertCommandExecuted(QueryExecution.scala:519)\n\tat org.apache.spark.sql.DataFrameWriter.runCommand(DataFrameWriter.scala:1164)\n\tat org.apache.spark.sql.DataFrameWriter.saveToV1Source(DataFrameWriter.scala:492)\n\tat org.apache.spark.sql.DataFrameWriter.saveInternal(DataFrameWriter.scala:454)\n\tat org.apache.spark.sql.DataFrameWriter.save(DataFrameWriter.scala:301)\n\tat org.apache.spark.sql.connect.planner.SparkConnectPlanner.handleWriteOperation(SparkConnectPlanner.scala:3869)\n\tat org.apache.spark.sql.connect.planner.SparkConnectPlanner.process(SparkConnectPlanner.scala:3362)\n\tat org.apache.spark.sql.connect.execution.ExecuteThreadRunner.handleCommand(ExecuteThreadRunner.scala:413)\n\tat org.apache.spark.sql.connect.execution.ExecuteThreadRunner.$anonfun$executeInternal$1(ExecuteThreadRunner.scala:312)\n\tat org.apache.spark.sql.connect.execution.ExecuteThreadRunner.$anonfun$executeInternal$1$adapted(ExecuteThreadRunner.scala:233)\n\tat org.apache.spark.sql.connect.service.SessionHolder.$anonfun$withSession$2(SessionHolder.scala:464)\n\tat org.apache.spark.sql.SparkSession.withActive(SparkSession.scala:1450)\n\tat org.apache.spark.sql.connect.service.SessionHolder.$anonfun$withSession$1(SessionHolder.scala:464)\n\tat org.apache.spark.JobArtifactSet$.withActiveJobArtifactState(JobArtifactSet.scala:97)\n\tat org.apache.spark.sql.artifact.ArtifactManager.$anonfun$withResources$1(ArtifactManager.scala:90)\n\tat org.apache.spark.util.Utils$.withContextClassLoader(Utils.scala:240)\n\tat org.apache.spark.sql.artifact.ArtifactManager.withResources(ArtifactManager.scala:89)\n\tat org.apache.spark.sql.connect.service.SessionHolder.withSession(SessionHolder.scala:463)\n\tat org.apache.spark.sql.connect.execution.ExecuteThreadRunner.executeInternal(ExecuteThreadRunner.scala:233)\n\tat org.apache.spark.sql.connect.execution.ExecuteThreadRunner.org$apache$spark$sql$connect$execution$ExecuteThreadRunner$$execute(ExecuteThreadRunner.scala:139)\n\tat org.apache.spark.sql.connect.execution.ExecuteThreadRunner$ExecutionThread.$anonfun$run$2(ExecuteThreadRunner.scala:614)\n\tat scala.runtime.java8.JFunction0$mcV$sp.apply(JFunction0$mcV$sp.java:23)\n\tat com.databricks.unity.UCSEphemeralState$Handle.runWith(UCSEphemeralState.scala:51)\n\tat com.databricks.unity.HandleImpl.runWith(UCSHandle.scala:104)\n\tat com.databricks.unity.HandleImpl.$anonfun$runWithAndClose$1(UCSHandle.scala:109)\n\tat scala.util.Using$.resource(Using.scala:269)\n\tat com.databricks.unity.HandleImpl.runWithAndClose(UCSHandle.scala:108)\n\tat org.apache.spark.sql.connect.execution.ExecuteThreadRunner$ExecutionThread.run(ExecuteThreadRunner.scala:614)"
       ],
       "type": "baseError"
      }
     },
     "output_type": "display_data"
    }
   ],
   "source": [
    "df = spark.read.format(\"csv\").option(\"inferSchema\", \"true\").option(\"header\", \"true\").load(\"/Volumes/workspace/navpractise/naveen/navnaa/products.csv\")\n",
    "#error\n",
    "df.write.format(\"csv\").mode(\"error\").save(\"/Volumes/workspace/navpractise/naveen/navnaa/products.csv\")"
   ]
  },
  {
   "cell_type": "markdown",
   "metadata": {
    "application/vnd.databricks.v1+cell": {
     "cellMetadata": {
      "byteLimit": 2048000,
      "rowLimit": 10000
     },
     "inputWidgets": {},
     "nuid": "4b181a82-5472-474e-b79b-4d80b825f7bb",
     "showTitle": false,
     "tableResultSettingsMap": {},
     "title": ""
    }
   },
   "source": [
    "# Ignore"
   ]
  },
  {
   "cell_type": "code",
   "execution_count": 0,
   "metadata": {
    "application/vnd.databricks.v1+cell": {
     "cellMetadata": {
      "byteLimit": 2048000,
      "rowLimit": 10000
     },
     "inputWidgets": {},
     "nuid": "10d3bddd-b744-4d2f-af3c-37bd58018a78",
     "showTitle": false,
     "tableResultSettingsMap": {},
     "title": ""
    }
   },
   "outputs": [],
   "source": [
    "df = spark.read.format(\"csv\").option(\"inferSchema\", \"true\").option(\"header\", \"true\").load(\"/Volumes/workspace/navpractise/naveen/navnaa/products.csv\")\n",
    "\n",
    "\n",
    "df.write.format(\"csv\").mode(\"ignore\").save(\"/Volumes/workspace/navpractise/naveen/navnaa/products.csv\")"
   ]
  },
  {
   "cell_type": "markdown",
   "metadata": {
    "application/vnd.databricks.v1+cell": {
     "cellMetadata": {},
     "inputWidgets": {},
     "nuid": "02fb6b6d-ff09-4a37-8bd4-32bcf0286601",
     "showTitle": false,
     "tableResultSettingsMap": {},
     "title": ""
    }
   },
   "source": [
    "# Parquet"
   ]
  },
  {
   "cell_type": "code",
   "execution_count": 0,
   "metadata": {
    "application/vnd.databricks.v1+cell": {
     "cellMetadata": {
      "byteLimit": 2048000,
      "rowLimit": 10000
     },
     "inputWidgets": {},
     "nuid": "2fd28c73-ba8d-4f45-9b47-c4e2d7f48063",
     "showTitle": false,
     "tableResultSettingsMap": {},
     "title": ""
    }
   },
   "outputs": [],
   "source": [
    "\n",
    "\n",
    "df.write.format(\"parquet\").mode(\"overwrite\").save(\"/Volumes/workspace/navpractise/naveen/navnaa/products.csv\")"
   ]
  },
  {
   "cell_type": "markdown",
   "metadata": {
    "application/vnd.databricks.v1+cell": {
     "cellMetadata": {},
     "inputWidgets": {},
     "nuid": "81b6363e-b2f7-4820-943f-15d4168bb6b0",
     "showTitle": false,
     "tableResultSettingsMap": {},
     "title": ""
    }
   },
   "source": [
    "#Tables"
   ]
  },
  {
   "cell_type": "code",
   "execution_count": 0,
   "metadata": {
    "application/vnd.databricks.v1+cell": {
     "cellMetadata": {
      "byteLimit": 2048000,
      "rowLimit": 10000
     },
     "inputWidgets": {},
     "nuid": "d1477a72-acbb-4e87-ace8-70c38469dded",
     "showTitle": false,
     "tableResultSettingsMap": {},
     "title": ""
    }
   },
   "outputs": [],
   "source": [
    "# Recreate the DataFrame\n",
    "df = spark.read.format(\"csv\").load(\"/Volumes/workspace/navpractise/naveen/navnaa/products.csv\")\n",
    "\n",
    "# Write the DataFrame to the table\n",
    "df.write.format(\"delta\").mode(\"overwrite\").saveAsTable(\"my_tab\")\n",
    "\n"
   ]
  },
  {
   "cell_type": "markdown",
   "metadata": {
    "application/vnd.databricks.v1+cell": {
     "cellMetadata": {
      "byteLimit": 2048000,
      "rowLimit": 10000
     },
     "inputWidgets": {},
     "nuid": "e064287d-55c1-44bc-bcee-ab43ae512df0",
     "showTitle": false,
     "tableResultSettingsMap": {},
     "title": ""
    }
   },
   "source": [
    "# Spark SQL"
   ]
  },
  {
   "cell_type": "code",
   "execution_count": 0,
   "metadata": {
    "application/vnd.databricks.v1+cell": {
     "cellMetadata": {
      "byteLimit": 2048000,
      "rowLimit": 10000
     },
     "inputWidgets": {},
     "nuid": "32446237-1180-4b4c-bb97-7eae9b3bd418",
     "showTitle": false,
     "tableResultSettingsMap": {},
     "title": ""
    }
   },
   "outputs": [],
   "source": [
    "data = [(1, 1000), (2, 2000), (3, 3000)]\n",
    "columns = [\"emp_id\", \"salary\"]\n",
    "df = spark.createDataFrame(data, columns)\n",
    "\n",
    "df.createOrReplaceTempView(\"mytemp\")"
   ]
  },
  {
   "cell_type": "code",
   "execution_count": 0,
   "metadata": {
    "application/vnd.databricks.v1+cell": {
     "cellMetadata": {
      "byteLimit": 2048000,
      "implicitDf": true,
      "rowLimit": 10000
     },
     "inputWidgets": {},
     "nuid": "a5f43da5-4f4b-4bde-a207-fdbb0c73317b",
     "showTitle": false,
     "tableResultSettingsMap": {},
     "title": ""
    }
   },
   "outputs": [
    {
     "output_type": "display_data",
     "data": {
      "text/html": [
       "<style scoped>\n",
       "  .table-result-container {\n",
       "    max-height: 300px;\n",
       "    overflow: auto;\n",
       "  }\n",
       "  table, th, td {\n",
       "    border: 1px solid black;\n",
       "    border-collapse: collapse;\n",
       "  }\n",
       "  th, td {\n",
       "    padding: 5px;\n",
       "  }\n",
       "  th {\n",
       "    text-align: left;\n",
       "  }\n",
       "</style><div class='table-result-container'><table class='table-result'><thead style='background-color: white'><tr><th>emp_id</th><th>salary</th></tr></thead><tbody><tr><td>1</td><td>1000</td></tr><tr><td>2</td><td>2000</td></tr><tr><td>3</td><td>3000</td></tr></tbody></table></div>"
      ]
     },
     "metadata": {
      "application/vnd.databricks.v1+output": {
       "addedWidgets": {},
       "aggData": [],
       "aggError": "",
       "aggOverflow": false,
       "aggSchema": [],
       "aggSeriesLimitReached": false,
       "aggType": "",
       "arguments": {},
       "columnCustomDisplayInfos": {},
       "data": [
        [
         1,
         1000
        ],
        [
         2,
         2000
        ],
        [
         3,
         3000
        ]
       ],
       "datasetInfos": [
        {
         "name": "_sqldf",
         "schema": {
          "fields": [
           {
            "metadata": {},
            "name": "emp_id",
            "nullable": true,
            "type": "long"
           },
           {
            "metadata": {},
            "name": "salary",
            "nullable": true,
            "type": "long"
           }
          ],
          "type": "struct"
         },
         "tableIdentifier": null,
         "typeStr": "pyspark.sql.connect.dataframe.DataFrame"
        }
       ],
       "dbfsResultPath": null,
       "isJsonSchema": true,
       "metadata": {
        "createTempViewForImplicitDf": true,
        "dataframeName": "_sqldf",
        "executionCount": 48
       },
       "overflow": false,
       "plotOptions": {
        "customPlotOptions": {},
        "displayType": "table",
        "pivotAggregation": null,
        "pivotColumns": null,
        "xColumns": null,
        "yColumns": null
       },
       "removedWidgets": [],
       "schema": [
        {
         "metadata": "{}",
         "name": "emp_id",
         "type": "\"long\""
        },
        {
         "metadata": "{}",
         "name": "salary",
         "type": "\"long\""
        }
       ],
       "type": "table"
      }
     },
     "output_type": "display_data"
    }
   ],
   "source": [
    "%sql\n",
    "select * from mytemp"
   ]
  },
  {
   "cell_type": "markdown",
   "metadata": {
    "application/vnd.databricks.v1+cell": {
     "cellMetadata": {},
     "inputWidgets": {},
     "nuid": "42b67761-4561-46bc-96c5-99be8267d84c",
     "showTitle": false,
     "tableResultSettingsMap": {},
     "title": ""
    }
   },
   "source": [
    "#Convert sql to dataframe"
   ]
  },
  {
   "cell_type": "code",
   "execution_count": 0,
   "metadata": {
    "application/vnd.databricks.v1+cell": {
     "cellMetadata": {
      "byteLimit": 2048000,
      "rowLimit": 10000
     },
     "inputWidgets": {},
     "nuid": "8b4bedac-896c-4482-9ac8-02788c999858",
     "showTitle": false,
     "tableResultSettingsMap": {},
     "title": ""
    }
   },
   "outputs": [
    {
     "output_type": "display_data",
     "data": {
      "text/html": [
       "<style scoped>\n",
       "  .table-result-container {\n",
       "    max-height: 300px;\n",
       "    overflow: auto;\n",
       "  }\n",
       "  table, th, td {\n",
       "    border: 1px solid black;\n",
       "    border-collapse: collapse;\n",
       "  }\n",
       "  th, td {\n",
       "    padding: 5px;\n",
       "  }\n",
       "  th {\n",
       "    text-align: left;\n",
       "  }\n",
       "</style><div class='table-result-container'><table class='table-result'><thead style='background-color: white'><tr><th>emp_id</th><th>salary</th></tr></thead><tbody><tr><td>1</td><td>1000</td></tr><tr><td>2</td><td>2000</td></tr><tr><td>3</td><td>3000</td></tr></tbody></table></div>"
      ]
     },
     "metadata": {
      "application/vnd.databricks.v1+output": {
       "addedWidgets": {},
       "aggData": [],
       "aggError": "",
       "aggOverflow": false,
       "aggSchema": [],
       "aggSeriesLimitReached": false,
       "aggType": "",
       "arguments": {},
       "columnCustomDisplayInfos": {},
       "data": [
        [
         1,
         1000
        ],
        [
         2,
         2000
        ],
        [
         3,
         3000
        ]
       ],
       "datasetInfos": [],
       "dbfsResultPath": null,
       "isJsonSchema": true,
       "metadata": {},
       "overflow": false,
       "plotOptions": {
        "customPlotOptions": {},
        "displayType": "table",
        "pivotAggregation": null,
        "pivotColumns": null,
        "xColumns": null,
        "yColumns": null
       },
       "removedWidgets": [],
       "schema": [
        {
         "metadata": "{}",
         "name": "emp_id",
         "type": "\"long\""
        },
        {
         "metadata": "{}",
         "name": "salary",
         "type": "\"long\""
        }
       ],
       "type": "table"
      }
     },
     "output_type": "display_data"
    }
   ],
   "source": [
    "df_sql = spark.sql(\"select * from mytemp\").display()"
   ]
  },
  {
   "cell_type": "code",
   "execution_count": 0,
   "metadata": {
    "application/vnd.databricks.v1+cell": {
     "cellMetadata": {},
     "inputWidgets": {},
     "nuid": "907d2530-12fc-48c7-baa6-a352ef680bdd",
     "showTitle": false,
     "tableResultSettingsMap": {},
     "title": ""
    }
   },
   "outputs": [],
   "source": [
    " "
   ]
  }
 ],
 "metadata": {
  "application/vnd.databricks.v1+notebook": {
   "computePreferences": null,
   "dashboards": [],
   "environmentMetadata": {
    "base_environment": "",
    "environment_version": "2"
   },
   "inputWidgetPreferences": null,
   "language": "python",
   "notebookMetadata": {
    "mostRecentlyExecutedCommandWithImplicitDF": {
     "commandId": 7411717483766390,
     "dataframes": [
      "_sqldf"
     ]
    },
    "pythonIndentUnit": 4
   },
   "notebookName": "Practise",
   "widgets": {}
  },
  "language_info": {
   "name": "python"
  }
 },
 "nbformat": 4,
 "nbformat_minor": 0
}